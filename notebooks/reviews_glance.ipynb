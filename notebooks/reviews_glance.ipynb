{
 "metadata": {
  "language_info": {
   "codemirror_mode": {
    "name": "ipython",
    "version": 3
   },
   "file_extension": ".py",
   "mimetype": "text/x-python",
   "name": "python",
   "nbconvert_exporter": "python",
   "pygments_lexer": "ipython3",
   "version": "3.6.8-final"
  },
  "orig_nbformat": 2,
  "kernelspec": {
   "name": "python3",
   "display_name": "Python 3",
   "language": "python"
  }
 },
 "nbformat": 4,
 "nbformat_minor": 2,
 "cells": [
  {
   "cell_type": "code",
   "execution_count": 1,
   "metadata": {},
   "outputs": [],
   "source": [
    "from tqdm.notebook import tqdm\n",
    "from time import sleep\n",
    "import numpy as np\n",
    "import pandas as pd\n",
    "import requests\n",
    "import json\n",
    "\n",
    "%load_ext autoreload\n",
    "%autoreload 2\n",
    "sys.path.append('../')\n",
    "from src.reviews import *"
   ]
  },
  {
   "cell_type": "code",
   "execution_count": 2,
   "metadata": {},
   "outputs": [],
   "source": [
    "project = 'glance'"
   ]
  },
  {
   "cell_type": "code",
   "execution_count": 3,
   "metadata": {},
   "outputs": [],
   "source": [
    "df_commits = pd.read_csv(f'../data/commits/commits_{project}.csv')"
   ]
  },
  {
   "cell_type": "code",
   "execution_count": 4,
   "metadata": {},
   "outputs": [
    {
     "output_type": "execute_result",
     "data": {
      "text/plain": [
       "2942"
      ]
     },
     "metadata": {},
     "execution_count": 4
    }
   ],
   "source": [
    "len(df_commits)"
   ]
  },
  {
   "source": [
    "Change IDs"
   ],
   "cell_type": "markdown",
   "metadata": {}
  },
  {
   "cell_type": "code",
   "execution_count": 5,
   "metadata": {},
   "outputs": [],
   "source": [
    "get_prefix = f\"https://review.opendev.org/projects/openstack%2F{project}/commits/\""
   ]
  },
  {
   "cell_type": "code",
   "execution_count": 6,
   "metadata": {},
   "outputs": [],
   "source": [
    "df_commits['change_id'] = ''"
   ]
  },
  {
   "cell_type": "code",
   "execution_count": 7,
   "metadata": {
    "tags": []
   },
   "outputs": [
    {
     "output_type": "display_data",
     "data": {
      "text/plain": "  0%|          | 0/2942 [00:00<?, ?it/s]",
      "application/vnd.jupyter.widget-view+json": {
       "version_major": 2,
       "version_minor": 0,
       "model_id": "f336bec3ff0c42a58388487daa245419"
      }
     },
     "metadata": {}
    },
    {
     "output_type": "stream",
     "name": "stdout",
     "text": [
      "---hash 014bd35767dcaef5244f6a0a5f3236e140a5d37b does not contain a change id in message:\nMerge \"Replace openstack.org git:// URLs with https://\"\n"
     ]
    }
   ],
   "source": [
    "with tqdm(total = len(df_commits)) as pbar:\n",
    "    for i, row in df_commits.iterrows():\n",
    "        pbar.set_postfix({'hash' :  row['hash']})\n",
    "        get_addr = get_prefix + row['hash']\n",
    "        response = requests.get(get_addr)\n",
    "        response_json = json.loads(response.text[5:]) # some leading nonsense\n",
    "        message = response_json['message']\n",
    "        change_id = get_change_id(message)\n",
    "        if change_id == '':\n",
    "            print(\"---hash {} does not contain a change id in message:\\n{}\".format(\n",
    "                row['hash'], message))\n",
    "        df_commits.at[i, 'change_id'] = change_id\n",
    "        # Progress bar\n",
    "        pbar.update(1)\n",
    "        sleep(0.001)"
   ]
  },
  {
   "cell_type": "code",
   "execution_count": 8,
   "metadata": {},
   "outputs": [
    {
     "output_type": "execute_result",
     "data": {
      "text/plain": [
       "1"
      ]
     },
     "metadata": {},
     "execution_count": 8
    }
   ],
   "source": [
    "np.sum(df_commits['change_id'] == '')"
   ]
  },
  {
   "cell_type": "code",
   "execution_count": 9,
   "metadata": {},
   "outputs": [],
   "source": [
    "df_commits = df_commits.loc[df_commits['change_id'] != '']"
   ]
  },
  {
   "source": [
    "Change Messages"
   ],
   "cell_type": "markdown",
   "metadata": {}
  },
  {
   "cell_type": "code",
   "execution_count": 10,
   "metadata": {},
   "outputs": [],
   "source": [
    "get_prefix = f'https://review.opendev.org/changes/openstack%2F{project}~master~'"
   ]
  },
  {
   "cell_type": "code",
   "execution_count": 11,
   "metadata": {},
   "outputs": [],
   "source": [
    "reviews = []"
   ]
  },
  {
   "cell_type": "code",
   "execution_count": 13,
   "metadata": {},
   "outputs": [
    {
     "output_type": "display_data",
     "data": {
      "text/plain": "  0%|          | 0/2941 [00:00<?, ?it/s]",
      "application/vnd.jupyter.widget-view+json": {
       "version_major": 2,
       "version_minor": 0,
       "model_id": "2b1b08631c0c49b69428958385f77cb4"
      }
     },
     "metadata": {}
    },
    {
     "output_type": "stream",
     "name": "stdout",
     "text": [
      "---hash 819f28a0b8863bd18f8a14491b5966c8b2723432 with change id I15686708fc9460948a58cfea3d18dae40ba1fda9 had invalid response\n",
      "---hash 00f030e34608a7311fea9fe8383e55871c13b5e7 with change id If1bdff3f7330c3eb58bd56b08299472ae3d4b552 had invalid response\n",
      "---hash e3bed85d5123764dfa25059bba31acbf5fa9c035 with change id Ia0ce51683a21b7d9acd465d6e43da0808ea258cc had invalid response\n",
      "---hash 7387674374ed776f9b0df49e9176af2ca29c0c7f with change id I14c42886cbeef94ba8cfcaf5ec36d30e5cf22500 had invalid response\n",
      "---hash 040d5fa69cdc60684f45afc6690a2f6226b7c007 with change id Ic3bdd0977e1ad891ef84af37693eccbed3ccbd5e had invalid response\n"
     ]
    }
   ],
   "source": [
    "with tqdm(total = len(df_commits)) as pbar:\n",
    "    for i, row in df_commits.iterrows():\n",
    "        pbar.set_postfix({'hash' :  row['hash']})\n",
    "        get_addr = get_prefix + row['change_id'] + \"/messages\"\n",
    "        response = requests.get(get_addr)\n",
    "        if response.status_code == 404:\n",
    "            print(\"---hash {} with change id {} had invalid response\".format(\n",
    "                row['hash'], row['change_id']))\n",
    "        else:\n",
    "            response_json = json.loads(response.text[5:])\n",
    "            reviews_for_single_change = get_review_info(project, response_json, row['author_name'])\n",
    "            for re in reviews_for_single_change:\n",
    "                re['hash'] = row['hash']\n",
    "                re['change_id'] = row['change_id']\n",
    "            reviews.extend(reviews_for_single_change)\n",
    "        # Progress bar\n",
    "        pbar.update(1)\n",
    "        sleep(0.001)"
   ]
  },
  {
   "source": [
    "Save to output"
   ],
   "cell_type": "markdown",
   "metadata": {}
  },
  {
   "cell_type": "code",
   "execution_count": 14,
   "metadata": {},
   "outputs": [],
   "source": [
    "df_reviews = pd.DataFrame(reviews)"
   ]
  },
  {
   "cell_type": "code",
   "execution_count": 15,
   "metadata": {},
   "outputs": [],
   "source": [
    "df_reviews.to_csv(f\"../data/reviews/reviews_{project}.csv\", index = False)"
   ]
  }
 ]
}