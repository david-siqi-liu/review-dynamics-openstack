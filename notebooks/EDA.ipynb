{
 "cells": [
  {
   "cell_type": "code",
   "execution_count": 2,
   "id": "attended-regard",
   "metadata": {},
   "outputs": [],
   "source": [
    "import numpy as np\n",
    "import pandas as pd"
   ]
  },
  {
   "cell_type": "code",
   "execution_count": 3,
   "id": "solid-headquarters",
   "metadata": {},
   "outputs": [],
   "source": [
    "df_rq1 = pd.read_csv('../data/rq1/rq1_all.csv')"
   ]
  },
  {
   "cell_type": "code",
   "execution_count": 19,
   "id": "controlled-verification",
   "metadata": {},
   "outputs": [],
   "source": [
    "df_rq1_val = pd.read_csv('../data/rq1/rq1_sahara.csv')"
   ]
  },
  {
   "cell_type": "code",
   "execution_count": 4,
   "id": "dynamic-portsmouth",
   "metadata": {},
   "outputs": [],
   "source": [
    "df_rq2 = pd.read_csv('../data/rq2/rq2_all.csv')"
   ]
  },
  {
   "cell_type": "code",
   "execution_count": 20,
   "id": "czech-institute",
   "metadata": {},
   "outputs": [],
   "source": [
    "df_rq2_val = pd.read_csv('../data/rq2/rq2_sahara.csv')"
   ]
  },
  {
   "cell_type": "code",
   "execution_count": 5,
   "id": "satisfactory-lambda",
   "metadata": {},
   "outputs": [
    {
     "data": {
      "text/plain": [
       "Index(['hash', 'author_name', 'committer_name', 'author_date', 'commit_date',\n",
       "       'num_lines_added', 'num_lines_deleted', 'num_lines_of_code',\n",
       "       'num_file_impacted', 'num_dirs_impacted', 'min_complexity',\n",
       "       'mean_complexity', 'max_complexity', 'entropy', 'bug_fixing',\n",
       "       'description_length', 'num_prior_commits', 'avg_prior_age',\n",
       "       'num_prior_commits_bug_fixing', 'num_future_commits_bug_fixing',\n",
       "       'fix_inducing', 'reviewer_id', 'reviewer_name', 'reviewer_vote',\n",
       "       'reviewer_is_core', 'num_prior_comments',\n",
       "       'pct_prior_comments_by_reviewer', 'num_prior_votes',\n",
       "       'pct_prior_pos_votes', 'pct_prior_neg_votes',\n",
       "       'pct_prior_pos_votes_core', 'pct_prior_neg_votes_core', 'reviewer_freq',\n",
       "       'change_id', 'project', 'author_is_exp_author',\n",
       "       'author_is_exp_reviewer', 'reviewer_is_exp_author',\n",
       "       'reviewer_is_exp_reviewer', 'author_is_core', 'pos_vote'],\n",
       "      dtype='object')"
      ]
     },
     "execution_count": 5,
     "metadata": {},
     "output_type": "execute_result"
    }
   ],
   "source": [
    "df_rq1.columns"
   ]
  },
  {
   "cell_type": "code",
   "execution_count": 6,
   "id": "major-partition",
   "metadata": {},
   "outputs": [
    {
     "data": {
      "text/plain": [
       "Index(['hash', 'change_id', 'project', 'num_lines_added', 'num_lines_deleted',\n",
       "       'num_lines_of_code', 'num_file_impacted', 'num_dirs_impacted',\n",
       "       'mean_complexity', 'entropy', 'bug_fixing', 'description_length',\n",
       "       'num_prior_commits', 'num_prior_commits_bug_fixing', 'avg_prior_age',\n",
       "       'author_is_core', 'author_is_exp_author', 'author_is_exp_reviewer',\n",
       "       'num_reviewers', 'num_comments', 'pct_pos', 'pct_pos_prior_pos',\n",
       "       'pct_pos_prior_neg', 'pct_pos_prior_no_comment',\n",
       "       'pct_pos_prior_pos_core', 'pct_pos_author_core', 'pct_pos_high_freq',\n",
       "       'fix_inducing'],\n",
       "      dtype='object')"
      ]
     },
     "execution_count": 6,
     "metadata": {},
     "output_type": "execute_result"
    }
   ],
   "source": [
    "df_rq2.columns"
   ]
  },
  {
   "cell_type": "code",
   "execution_count": 21,
   "id": "meaning-tuning",
   "metadata": {},
   "outputs": [],
   "source": [
    "summaries = []\n",
    "\n",
    "for project in ['glance', 'cinder', 'neutron', 'all', 'sahara']:\n",
    "    if project == 'all':\n",
    "        df1 = df_rq1\n",
    "        df2 = df_rq2\n",
    "    elif project == 'sahara':\n",
    "        df1 = df_rq1_val\n",
    "        df2 = df_rq2_val\n",
    "    else:\n",
    "        df1 = df_rq1.loc[df_rq1['project'] == project]\n",
    "        df2 = df_rq2.loc[df_rq2['project'] == project]\n",
    "    num_reviews = len(df1)\n",
    "    num_patches = len(df2)\n",
    "    num_reviewers = len(np.unique(df1['reviewer_id']))\n",
    "    avg_reviewers_per_patch = np.mean(df2['num_reviewers'])\n",
    "    num_patches_w_mult_reviewers = np.sum(df2['num_reviewers'] > 1)\n",
    "    num_pos_vote = np.sum(df1['pos_vote'])\n",
    "    num_fix_inducing = np.sum(df2['fix_inducing'])\n",
    "    summaries.append({\n",
    "        'Project' : project,\n",
    "        '# Patches' : num_patches,\n",
    "        '# Reviewers' : num_reviewers,\n",
    "        'Avg # Reviewers per Patch' : \"{:.1f}\".format(avg_reviewers_per_patch),\n",
    "        '% Patches w/ >1 Reviewer' : \"{:.0%}\".format(num_patches_w_mult_reviewers / num_patches),\n",
    "        \"% Reviews w/ Positive Votes\" : \"{:.0%}\".format(num_pos_vote / num_reviews),\n",
    "        \"% Patches Fix Inducing\" : \"{:.0%}\".format(num_fix_inducing / num_patches)\n",
    "    })"
   ]
  },
  {
   "cell_type": "code",
   "execution_count": 22,
   "id": "joined-cooperative",
   "metadata": {},
   "outputs": [
    {
     "data": {
      "text/html": [
       "<div>\n",
       "<style scoped>\n",
       "    .dataframe tbody tr th:only-of-type {\n",
       "        vertical-align: middle;\n",
       "    }\n",
       "\n",
       "    .dataframe tbody tr th {\n",
       "        vertical-align: top;\n",
       "    }\n",
       "\n",
       "    .dataframe thead th {\n",
       "        text-align: right;\n",
       "    }\n",
       "</style>\n",
       "<table border=\"1\" class=\"dataframe\">\n",
       "  <thead>\n",
       "    <tr style=\"text-align: right;\">\n",
       "      <th></th>\n",
       "      <th>0</th>\n",
       "      <th>1</th>\n",
       "      <th>2</th>\n",
       "      <th>3</th>\n",
       "      <th>4</th>\n",
       "    </tr>\n",
       "  </thead>\n",
       "  <tbody>\n",
       "    <tr>\n",
       "      <th>Project</th>\n",
       "      <td>glance</td>\n",
       "      <td>cinder</td>\n",
       "      <td>neutron</td>\n",
       "      <td>all</td>\n",
       "      <td>sahara</td>\n",
       "    </tr>\n",
       "    <tr>\n",
       "      <th># Patches</th>\n",
       "      <td>2936</td>\n",
       "      <td>8518</td>\n",
       "      <td>10575</td>\n",
       "      <td>22029</td>\n",
       "      <td>3164</td>\n",
       "    </tr>\n",
       "    <tr>\n",
       "      <th># Reviewers</th>\n",
       "      <td>626</td>\n",
       "      <td>1246</td>\n",
       "      <td>1332</td>\n",
       "      <td>2331</td>\n",
       "      <td>245</td>\n",
       "    </tr>\n",
       "    <tr>\n",
       "      <th>Avg # Reviewers per Patch</th>\n",
       "      <td>3.8</td>\n",
       "      <td>4.5</td>\n",
       "      <td>5.4</td>\n",
       "      <td>4.9</td>\n",
       "      <td>4.4</td>\n",
       "    </tr>\n",
       "    <tr>\n",
       "      <th>% Patches w/ &gt;1 Reviewer</th>\n",
       "      <td>94%</td>\n",
       "      <td>96%</td>\n",
       "      <td>100%</td>\n",
       "      <td>98%</td>\n",
       "      <td>88%</td>\n",
       "    </tr>\n",
       "    <tr>\n",
       "      <th>% Reviews w/ Positive Votes</th>\n",
       "      <td>92%</td>\n",
       "      <td>88%</td>\n",
       "      <td>90%</td>\n",
       "      <td>89%</td>\n",
       "      <td>94%</td>\n",
       "    </tr>\n",
       "    <tr>\n",
       "      <th>% Patches Fix Inducing</th>\n",
       "      <td>57%</td>\n",
       "      <td>52%</td>\n",
       "      <td>60%</td>\n",
       "      <td>56%</td>\n",
       "      <td>50%</td>\n",
       "    </tr>\n",
       "  </tbody>\n",
       "</table>\n",
       "</div>"
      ],
      "text/plain": [
       "                                  0       1        2      3       4\n",
       "Project                      glance  cinder  neutron    all  sahara\n",
       "# Patches                      2936    8518    10575  22029    3164\n",
       "# Reviewers                     626    1246     1332   2331     245\n",
       "Avg # Reviewers per Patch       3.8     4.5      5.4    4.9     4.4\n",
       "% Patches w/ >1 Reviewer        94%     96%     100%    98%     88%\n",
       "% Reviews w/ Positive Votes     92%     88%      90%    89%     94%\n",
       "% Patches Fix Inducing          57%     52%      60%    56%     50%"
      ]
     },
     "execution_count": 22,
     "metadata": {},
     "output_type": "execute_result"
    }
   ],
   "source": [
    "pd.DataFrame(summaries).T"
   ]
  },
  {
   "cell_type": "code",
   "execution_count": null,
   "id": "assisted-return",
   "metadata": {},
   "outputs": [],
   "source": []
  }
 ],
 "metadata": {
  "kernelspec": {
   "display_name": "Python 3",
   "language": "python",
   "name": "python3"
  },
  "language_info": {
   "codemirror_mode": {
    "name": "ipython",
    "version": 3
   },
   "file_extension": ".py",
   "mimetype": "text/x-python",
   "name": "python",
   "nbconvert_exporter": "python",
   "pygments_lexer": "ipython3",
   "version": "3.6.9"
  }
 },
 "nbformat": 4,
 "nbformat_minor": 5
}
