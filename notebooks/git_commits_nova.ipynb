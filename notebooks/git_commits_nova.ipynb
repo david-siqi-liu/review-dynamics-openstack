{
 "metadata": {
  "language_info": {
   "codemirror_mode": {
    "name": "ipython",
    "version": 3
   },
   "file_extension": ".py",
   "mimetype": "text/x-python",
   "name": "python",
   "nbconvert_exporter": "python",
   "pygments_lexer": "ipython3",
   "version": "3.7.10-final"
  },
  "orig_nbformat": 2,
  "kernelspec": {
   "name": "python3",
   "display_name": "Python 3",
   "language": "python"
  }
 },
 "nbformat": 4,
 "nbformat_minor": 2,
 "cells": [
  {
   "cell_type": "code",
   "execution_count": 1,
   "metadata": {},
   "outputs": [],
   "source": [
    "%load_ext autoreload\n",
    "%autoreload 2\n",
    "\n",
    "import sys\n",
    "from tqdm.notebook import tqdm\n",
    "from time import sleep\n",
    "sys.path.append('../')\n",
    "from src.commits import *"
   ]
  },
  {
   "cell_type": "code",
   "execution_count": 2,
   "metadata": {},
   "outputs": [],
   "source": [
    "project = 'nova'"
   ]
  },
  {
   "cell_type": "code",
   "execution_count": 3,
   "metadata": {},
   "outputs": [],
   "source": [
    "repo_path = f\"D:\\GitHubs\\openstack-{project}\""
   ]
  },
  {
   "source": [
    "gr = GitRepository(repo_path)"
   ],
   "cell_type": "code",
   "metadata": {},
   "execution_count": 4,
   "outputs": []
  },
  {
   "cell_type": "code",
   "execution_count": 5,
   "metadata": {},
   "outputs": [],
   "source": [
    "date_start = datetime(2011, 11, 1)\n",
    "date_end = datetime(2019, 6, 30)"
   ]
  },
  {
   "cell_type": "code",
   "execution_count": 6,
   "metadata": {},
   "outputs": [],
   "source": [
    "all_commit_info = {}"
   ]
  },
  {
   "cell_type": "code",
   "execution_count": 7,
   "metadata": {},
   "outputs": [
    {
     "output_type": "stream",
     "name": "stdout",
     "text": [
      "43313\n"
     ]
    }
   ],
   "source": [
    "num_commits = 0\n",
    "\n",
    "for commit in RepositoryMining(repo_path, since = date_start, to = date_end, only_in_branch = 'master').traverse_commits():\n",
    "    num_commits += 1\n",
    "    \n",
    "print(num_commits)"
   ]
  },
  {
   "cell_type": "code",
   "execution_count": 8,
   "metadata": {
    "tags": []
   },
   "outputs": [
    {
     "output_type": "display_data",
     "data": {
      "text/plain": "  0%|          | 0/43313 [00:00<?, ?it/s]",
      "application/vnd.jupyter.widget-view+json": {
       "version_major": 2,
       "version_minor": 0,
       "model_id": "4cd0a32888bf42b8afcefbd23e88c00b"
      }
     },
     "metadata": {}
    },
    {
     "output_type": "stream",
     "name": "stdout",
     "text": [
      "21517 commits ommitted\n"
     ]
    }
   ],
   "source": [
    "num_commits_omitted = 0\n",
    "\n",
    "with tqdm(total = num_commits) as pbar:\n",
    "    for commit in RepositoryMining(repo_path, since = date_start, to = date_end, only_in_branch = 'master').traverse_commits():\n",
    "        pbar.set_postfix({'hash' : commit.hash})\n",
    "        if is_valid_commit(commit):\n",
    "            all_commit_info[commit.hash] = CommitInfo(commit)\n",
    "        else:\n",
    "            num_commits_omitted += 1\n",
    "        # Progress bar\n",
    "        pbar.update(1)\n",
    "        sleep(0.001)\n",
    "\n",
    "print(\"{:d} commits ommitted\".format(num_commits_omitted))"
   ]
  },
  {
   "source": [
    "Update prior and future info"
   ],
   "cell_type": "markdown",
   "metadata": {}
  },
  {
   "cell_type": "code",
   "execution_count": 11,
   "metadata": {},
   "outputs": [
    {
     "output_type": "display_data",
     "data": {
      "text/plain": "  0%|          | 0/2942 [00:00<?, ?it/s]",
      "application/vnd.jupyter.widget-view+json": {
       "version_major": 2,
       "version_minor": 0,
       "model_id": "dc8d71c5452347dfa5606e9371ec2104"
      }
     },
     "metadata": {}
    }
   ],
   "source": [
    "with tqdm(total = len(all_commit_info)) as pbar:\n",
    "    for i, (commit_hash, commit_info) in enumerate(all_commit_info.items()):\n",
    "        pbar.set_postfix({'hash' : commit_hash})\n",
    "        updated = update_prior_and_future_info(commit_hash, gr, all_commit_info)\n",
    "        # Progress bar\n",
    "        pbar.update(1)\n",
    "        sleep(0.001)"
   ]
  },
  {
   "source": [
    "Convert to DataFrame"
   ],
   "cell_type": "markdown",
   "metadata": {}
  },
  {
   "cell_type": "code",
   "execution_count": 27,
   "metadata": {},
   "outputs": [
    {
     "output_type": "display_data",
     "data": {
      "text/plain": "  0%|          | 0/3977 [00:00<?, ?it/s]",
      "application/vnd.jupyter.widget-view+json": {
       "version_major": 2,
       "version_minor": 0,
       "model_id": "ffd5c1967e024da88da885358cd553af"
      }
     },
     "metadata": {}
    }
   ],
   "source": [
    "all_commit_info_values = []\n",
    "with tqdm(total = len(all_commit_info)) as pbar:\n",
    "    for commit_hash, commit_info in all_commit_info.items():\n",
    "        pbar.set_postfix({'hash' : commit_hash})\n",
    "        all_commit_info_values.append(commit_info.toDict())\n",
    "        # Progress bar\n",
    "        pbar.update(1)\n",
    "        sleep(0.001)"
   ]
  },
  {
   "cell_type": "code",
   "execution_count": 28,
   "metadata": {},
   "outputs": [],
   "source": [
    "df = pd.DataFrame(data = all_commit_info_values)"
   ]
  },
  {
   "source": [
    "Save to CSV"
   ],
   "cell_type": "markdown",
   "metadata": {}
  },
  {
   "cell_type": "code",
   "execution_count": 37,
   "metadata": {},
   "outputs": [],
   "source": [
    "df.to_csv(f\"..\\data\\commits\\commits_{project}.csv\", index = False)"
   ]
  }
 ]
}