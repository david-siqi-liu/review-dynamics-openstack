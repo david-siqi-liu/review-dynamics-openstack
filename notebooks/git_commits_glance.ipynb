{
 "metadata": {
  "language_info": {
   "codemirror_mode": {
    "name": "ipython",
    "version": 3
   },
   "file_extension": ".py",
   "mimetype": "text/x-python",
   "name": "python",
   "nbconvert_exporter": "python",
   "pygments_lexer": "ipython3",
   "version": "3.6.8-final"
  },
  "orig_nbformat": 2,
  "kernelspec": {
   "name": "python3",
   "display_name": "Python 3",
   "language": "python"
  }
 },
 "nbformat": 4,
 "nbformat_minor": 2,
 "cells": [
  {
   "cell_type": "code",
   "execution_count": 1,
   "metadata": {},
   "outputs": [],
   "source": [
    "%load_ext autoreload\n",
    "%autoreload 2\n",
    "\n",
    "import sys\n",
    "from tqdm.notebook import tqdm\n",
    "from time import sleep\n",
    "sys.path.append('../')\n",
    "from src.commits import *"
   ]
  },
  {
   "cell_type": "code",
   "execution_count": 2,
   "metadata": {},
   "outputs": [],
   "source": [
    "repo_path = \"D:\\GitHubs\\openstack-glance\""
   ]
  },
  {
   "source": [
    "gr = GitRepository(repo_path)"
   ],
   "cell_type": "code",
   "metadata": {},
   "execution_count": 3,
   "outputs": []
  },
  {
   "cell_type": "code",
   "execution_count": 8,
   "metadata": {},
   "outputs": [],
   "source": [
    "date_start = datetime(2011, 11, 1)\n",
    "date_end = datetime(2019, 6, 30)"
   ]
  },
  {
   "cell_type": "code",
   "execution_count": 9,
   "metadata": {},
   "outputs": [],
   "source": [
    "all_commit_info = {}"
   ]
  },
  {
   "cell_type": "code",
   "execution_count": 10,
   "metadata": {},
   "outputs": [
    {
     "output_type": "stream",
     "name": "stdout",
     "text": [
      "76\n"
     ]
    }
   ],
   "source": [
    "num_commits = 0\n",
    "\n",
    "for commit in RepositoryMining(repo_path, since = date_start, to = date_end, only_in_branch = 'master').traverse_commits():\n",
    "    num_commits += 1\n",
    "    \n",
    "print(num_commits)"
   ]
  },
  {
   "cell_type": "code",
   "execution_count": 11,
   "metadata": {
    "tags": []
   },
   "outputs": [
    {
     "output_type": "display_data",
     "data": {
      "text/plain": "  0%|          | 0/76 [00:00<?, ?it/s]",
      "application/vnd.jupyter.widget-view+json": {
       "version_major": 2,
       "version_minor": 0,
       "model_id": "4913b926e4814690833991f7e6c28acb"
      }
     },
     "metadata": {}
    },
    {
     "output_type": "stream",
     "name": "stdout",
     "text": [
      "21 commits ommitted\n"
     ]
    }
   ],
   "source": [
    "num_commits_omitted = 0\n",
    "\n",
    "with tqdm(total = num_commits) as pbar:\n",
    "    for commit in RepositoryMining(repo_path, since = date_start, to = date_end, only_in_branch = 'master').traverse_commits():\n",
    "        pbar.set_postfix({'hash' : commit.hash})\n",
    "        if is_valid_commit(commit):\n",
    "            all_commit_info[commit.hash] = CommitInfo(commit)\n",
    "        else:\n",
    "            num_commits_omitted += 1\n",
    "        # Progress bar\n",
    "        pbar.update(1)\n",
    "        sleep(0.001)\n",
    "\n",
    "print(\"{:d} commits ommitted\".format(num_commits_omitted))"
   ]
  },
  {
   "source": [
    "Get prior and future info"
   ],
   "cell_type": "markdown",
   "metadata": {}
  },
  {
   "cell_type": "code",
   "execution_count": 12,
   "metadata": {},
   "outputs": [
    {
     "output_type": "display_data",
     "data": {
      "text/plain": "  0%|          | 0/55 [00:00<?, ?it/s]",
      "application/vnd.jupyter.widget-view+json": {
       "version_major": 2,
       "version_minor": 0,
       "model_id": "9f3d7125ad734d7e8e87ad511ee24711"
      }
     },
     "metadata": {}
    }
   ],
   "source": [
    "with tqdm(total = len(all_commit_info)) as pbar:\n",
    "    for commit_hash, commit_info in all_commit_info.items():\n",
    "        pbar.set_postfix({'hash' : commit_hash})\n",
    "        update_prior_and_future_info(commit_hash, gr, all_commit_info)\n",
    "        # Progress bar\n",
    "        pbar.update(1)\n",
    "        sleep(0.001)"
   ]
  },
  {
   "source": [
    "Save output"
   ],
   "cell_type": "markdown",
   "metadata": {}
  },
  {
   "cell_type": "code",
   "execution_count": 13,
   "metadata": {},
   "outputs": [
    {
     "output_type": "display_data",
     "data": {
      "text/plain": "  0%|          | 0/55 [00:00<?, ?it/s]",
      "application/vnd.jupyter.widget-view+json": {
       "version_major": 2,
       "version_minor": 0,
       "model_id": "377ae12d3ca046e79c983d1001902373"
      }
     },
     "metadata": {}
    }
   ],
   "source": [
    "all_commit_info_values = []\n",
    "with tqdm(total = len(all_commit_info)) as pbar:\n",
    "    for commit_hash, commit_info in all_commit_info.items():\n",
    "        pbar.set_postfix({'hash' : commit_hash})\n",
    "        all_commit_info_values.append(commit_info.toDict())\n",
    "        # Progress bar\n",
    "        pbar.update(1)\n",
    "        sleep(0.001)"
   ]
  },
  {
   "cell_type": "code",
   "execution_count": 14,
   "metadata": {},
   "outputs": [],
   "source": [
    "df = pd.DataFrame(data = all_commit_info_values)"
   ]
  },
  {
   "cell_type": "code",
   "execution_count": 11,
   "metadata": {},
   "outputs": [],
   "source": [
    "df.to_csv(\"..\\data\\commits\\commits_glance.csv\", index = False)"
   ]
  },
  {
   "source": [
    "Clean"
   ],
   "cell_type": "markdown",
   "metadata": {}
  },
  {
   "cell_type": "code",
   "execution_count": 12,
   "metadata": {},
   "outputs": [],
   "source": [
    "df_clean = clean(df)"
   ]
  },
  {
   "cell_type": "code",
   "execution_count": 13,
   "metadata": {},
   "outputs": [],
   "source": [
    "df_clean.to_csv(\"..\\data\\commits\\commits_glance_clean.csv\", index = False)"
   ]
  },
  {
   "cell_type": "code",
   "execution_count": 1,
   "metadata": {},
   "outputs": [],
   "source": [
    "# for commit in RepositoryMining(repo_path, single = \"cfa9b6e8e814a52181d4e27fd23a659e8489dee8\").traverse_commits():\n",
    "#     print(\"---\")\n",
    "#     commit_info = CommitInfo(commit)\n",
    "#     print(commit_info.toDict())\n",
    "#     print(\"---\")\n",
    "#     # Prior commits\n",
    "#     prior_commit_hashes = set()\n",
    "#     for file in commit.modifications:\n",
    "#         # Prior commits that last modified the same lines\n",
    "#         bug_inducing_commits = gr.get_commits_last_modified_lines(commit, file)\n",
    "#         print(bug_inducing_commits)\n",
    "#         # Initialize stack for DFS\n",
    "#         visited = set()\n",
    "#         stack = list(bug_inducing_commits[file.new_path])\n",
    "#         print(stack)\n",
    "#         while stack:\n",
    "#             s = stack.pop()\n",
    "#             if s not in visited:\n",
    "#                 prior_commit = gr.get_commit(s)\n",
    "#                 bug_inducing_commits_from_prior = gr.get_commits_last_modified_lines(prior_commit, file)\n",
    "#                 stack.extend(list(bug_inducing_commits_from_prior[file.new_path]))\n",
    "#                 visited.add(s)\n",
    "#         print(visited)\n",
    "\n",
    "#     print(prior_commit_hashes)"
   ]
  },
  {
   "cell_type": "code",
   "execution_count": null,
   "metadata": {},
   "outputs": [],
   "source": []
  }
 ]
}