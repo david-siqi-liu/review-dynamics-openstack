{
 "cells": [
  {
   "cell_type": "code",
   "execution_count": 1,
   "metadata": {},
   "outputs": [],
   "source": [
    "from tqdm.notebook import tqdm\n",
    "from time import sleep\n",
    "import numpy as np\n",
    "import pandas as pd\n",
    "import requests\n",
    "import json"
   ]
  },
  {
   "cell_type": "code",
   "execution_count": 2,
   "metadata": {},
   "outputs": [],
   "source": [
    "df_reviews = pd.read_csv('../data/rq1/rq1_sahara.csv')"
   ]
  },
  {
   "cell_type": "code",
   "execution_count": 3,
   "metadata": {},
   "outputs": [
    {
     "output_type": "execute_result",
     "data": {
      "text/plain": [
       "Index(['hash', 'author_name', 'committer_name', 'author_date', 'commit_date',\n",
       "       'num_lines_added', 'num_lines_deleted', 'num_lines_of_code',\n",
       "       'num_file_impacted', 'num_dirs_impacted', 'min_complexity',\n",
       "       'mean_complexity', 'max_complexity', 'entropy', 'bug_fixing',\n",
       "       'description_length', 'num_prior_commits', 'avg_prior_age',\n",
       "       'num_prior_commits_bug_fixing', 'num_future_commits_bug_fixing',\n",
       "       'fix_inducing', 'reviewer_id', 'reviewer_name', 'reviewer_vote',\n",
       "       'reviewer_is_core', 'num_prior_comments',\n",
       "       'pct_prior_comments_by_reviewer', 'num_prior_votes',\n",
       "       'pct_prior_pos_votes', 'pct_prior_neg_votes',\n",
       "       'pct_prior_pos_votes_core', 'pct_prior_neg_votes_core', 'reviewer_freq',\n",
       "       'change_id', 'project', 'author_is_exp_author',\n",
       "       'author_is_exp_reviewer', 'reviewer_is_exp_author',\n",
       "       'reviewer_is_exp_reviewer', 'author_is_core', 'pos_vote'],\n",
       "      dtype='object')"
      ]
     },
     "metadata": {},
     "execution_count": 3
    }
   ],
   "source": [
    "df_reviews.columns"
   ]
  },
  {
   "cell_type": "code",
   "execution_count": 4,
   "metadata": {},
   "outputs": [
    {
     "output_type": "execute_result",
     "data": {
      "text/plain": [
       "13934"
      ]
     },
     "metadata": {},
     "execution_count": 4
    }
   ],
   "source": [
    "len(df_reviews)"
   ]
  },
  {
   "cell_type": "markdown",
   "metadata": {},
   "source": [
    "Columns"
   ]
  },
  {
   "cell_type": "code",
   "execution_count": 5,
   "metadata": {},
   "outputs": [],
   "source": [
    "id_vars = [\n",
    "    'hash',\n",
    "    'change_id',\n",
    "    'project'\n",
    "]"
   ]
  },
  {
   "cell_type": "code",
   "execution_count": 6,
   "metadata": {},
   "outputs": [],
   "source": [
    "target_var = 'fix_inducing'"
   ]
  },
  {
   "cell_type": "code",
   "execution_count": 7,
   "metadata": {},
   "outputs": [],
   "source": [
    "patch_vars = [\n",
    "  'num_lines_added',\n",
    "  'num_lines_deleted',\n",
    "  'num_lines_of_code', # number of lines in the files before the change\n",
    "  'num_file_impacted',\n",
    "  'num_dirs_impacted',\n",
    "  'mean_complexity', # average Cyclomatic Complexity\n",
    "  'entropy', # dispersion of modified lines across files\n",
    "  'bug_fixing', # whether or not the patch is for fixing bugs\n",
    "  'description_length',\n",
    "  'num_prior_commits', # number of prior patches that impact the same modified lines\n",
    "  'num_prior_commits_bug_fixing',\n",
    "  'avg_prior_age', # average of time intervals (in days) between prior patches and this patch\n",
    "  'author_is_core', # is author a core developer\n",
    "  'author_is_exp_author', # % of prior patches that were made by the same author > 0.05\n",
    "  'author_is_exp_reviewer'\n",
    "]"
   ]
  },
  {
   "cell_type": "markdown",
   "metadata": {},
   "source": [
    "Select only `id`, `patch` vars since they are unique to each patch"
   ]
  },
  {
   "cell_type": "code",
   "execution_count": 8,
   "metadata": {},
   "outputs": [],
   "source": [
    "df = df_reviews[id_vars + patch_vars + [target_var]].copy()"
   ]
  },
  {
   "cell_type": "code",
   "execution_count": 9,
   "metadata": {},
   "outputs": [],
   "source": [
    "df = df.drop_duplicates(keep = 'first', ignore_index = True)"
   ]
  },
  {
   "cell_type": "code",
   "execution_count": 10,
   "metadata": {},
   "outputs": [
    {
     "output_type": "execute_result",
     "data": {
      "text/plain": [
       "3164"
      ]
     },
     "metadata": {},
     "execution_count": 10
    }
   ],
   "source": [
    "len(df)"
   ]
  },
  {
   "cell_type": "markdown",
   "metadata": {},
   "source": [
    "Set strong relationship threshold"
   ]
  },
  {
   "cell_type": "code",
   "execution_count": 11,
   "metadata": {},
   "outputs": [],
   "source": [
    "reviewer_freq_percentiles = np.percentile(\n",
    "    df_reviews['reviewer_freq'],\n",
    "    q=list(range(0, 101, 10))\n",
    ")"
   ]
  },
  {
   "cell_type": "code",
   "execution_count": 12,
   "metadata": {},
   "outputs": [
    {
     "output_type": "execute_result",
     "data": {
      "text/plain": [
       "array([0.        , 0.        , 0.02543891, 0.11426654, 0.22222222,\n",
       "       0.33333333, 0.48717949, 0.66666667, 0.83333333, 0.97727273,\n",
       "       1.        ])"
      ]
     },
     "metadata": {},
     "execution_count": 12
    }
   ],
   "source": [
    "reviewer_freq_percentiles"
   ]
  },
  {
   "cell_type": "code",
   "execution_count": 13,
   "metadata": {},
   "outputs": [],
   "source": [
    "high_freq_threshold = 0.40 # from training"
   ]
  },
  {
   "cell_type": "code",
   "execution_count": 14,
   "metadata": {},
   "outputs": [],
   "source": [
    "def get_metrics(reviews):\n",
    "    num_votes = len(reviews)\n",
    "    num_comments = float('-inf')\n",
    "    num_pos_votes = 0\n",
    "    num_pos_prior_pos = 0\n",
    "    num_pos_prior_neg = 0\n",
    "    num_pos_prior_votes = 0\n",
    "    num_pos_prior_comments = 0\n",
    "    num_pos_prior_pos_core = 0\n",
    "    num_pos_prior_neg_core = 0\n",
    "    for i, row in reviews.iterrows():\n",
    "        pos_vote = row['pos_vote']\n",
    "        num_comments = max(num_comments, row['num_prior_comments'])\n",
    "        if not pos_vote:\n",
    "            continue\n",
    "        num_pos_votes += 1\n",
    "        if row['pct_prior_pos_votes'] > 0:\n",
    "            num_pos_prior_pos += 1\n",
    "        if row['pct_prior_neg_votes'] > 0:\n",
    "            num_pos_prior_neg += 1\n",
    "        if row['num_prior_votes'] > 0:\n",
    "            num_pos_prior_votes += row['num_prior_votes']\n",
    "        if row['num_prior_comments'] > 0:\n",
    "            num_pos_prior_comments += row['num_prior_comments']\n",
    "        if row['pct_prior_pos_votes_core'] > 0:\n",
    "            num_pos_prior_pos_core += 1\n",
    "        if row['pct_prior_neg_votes_core'] > 0:\n",
    "            num_pos_prior_neg_core += 1\n",
    "    \n",
    "    if num_pos_votes == 0:\n",
    "        return {\n",
    "            'num_votes' : num_votes,\n",
    "            'num_comments' : num_comments,\n",
    "            'pct_pos' : 0,\n",
    "            'pct_pos_prior_pos' : 0,\n",
    "            'pct_pos_prior_neg' : 0,\n",
    "            'avg_pos_prior_num_votes' : 0,\n",
    "            'avg_pos_prior_num_comments' : 0,\n",
    "            'pct_pos_prior_pos_core' : 0,\n",
    "            'pct_pos_prior_neg_core' : 0\n",
    "        }\n",
    "\n",
    "    return {\n",
    "        'num_votes' : num_votes,\n",
    "        'num_comments' : num_comments,\n",
    "        'pct_pos' : num_pos_votes / num_votes,\n",
    "        'pct_pos_prior_pos' : num_pos_prior_pos / num_pos_votes,\n",
    "        'pct_pos_prior_neg' : num_pos_prior_neg / num_pos_votes,\n",
    "        'avg_pos_prior_num_votes' : num_pos_prior_votes / num_pos_votes,\n",
    "        'avg_pos_prior_num_comments' : num_pos_prior_comments / num_pos_votes,\n",
    "        'pct_pos_prior_pos_core' : num_pos_prior_pos_core / num_pos_votes,\n",
    "        'pct_pos_prior_neg_core' : num_pos_prior_neg_core / num_pos_votes\n",
    "    }"
   ]
  },
  {
   "cell_type": "code",
   "execution_count": 15,
   "metadata": {},
   "outputs": [],
   "source": [
    "from collections import Counter\n",
    "all_statuses = Counter()"
   ]
  },
  {
   "cell_type": "code",
   "execution_count": 16,
   "metadata": {},
   "outputs": [],
   "source": [
    "def get_merged(project, change_id):\n",
    "    get_prefix = f'https://review.opendev.org/changes/openstack%2F{project}~master~'\n",
    "    get_addr = get_prefix + change_id\n",
    "    response = requests.get(get_addr)\n",
    "    if response.status_code == 404:\n",
    "        print(\"---change id {} had invalid response\".format(change_id))\n",
    "        return False\n",
    "    response_json = json.loads(response.text[5:])\n",
    "    if 'status' not in response_json:\n",
    "        print(\"---change id {} had no status in response\".format(change_id))\n",
    "        return False\n",
    "    status = response_json['status']\n",
    "    all_statuses[status] += 1\n",
    "    return status == 'MERGED'"
   ]
  },
  {
   "cell_type": "code",
   "execution_count": 17,
   "metadata": {},
   "outputs": [],
   "source": [
    "all_metrics = []"
   ]
  },
  {
   "cell_type": "code",
   "execution_count": 18,
   "metadata": {},
   "outputs": [],
   "source": [
    "num_not_merged = 0"
   ]
  },
  {
   "cell_type": "code",
   "execution_count": 19,
   "metadata": {},
   "outputs": [
    {
     "output_type": "display_data",
     "data": {
      "text/plain": "  0%|          | 0/3164 [00:00<?, ?it/s]",
      "application/vnd.jupyter.widget-view+json": {
       "version_major": 2,
       "version_minor": 0,
       "model_id": "fc8f1bb812794593a25fed38fde60884"
      }
     },
     "metadata": {}
    }
   ],
   "source": [
    "with tqdm(total = len(df)) as pbar:\n",
    "    for i, row in df.iterrows():\n",
    "        pbar.set_postfix({'hash' : row['hash']})\n",
    "        hash_id = row['hash']\n",
    "        change_id = row['change_id']\n",
    "        merged = get_merged(row['project'], row['change_id'])\n",
    "        if not merged:\n",
    "            num_not_merged += 1\n",
    "        else:\n",
    "            reviews = df_reviews.loc[df_reviews['hash'] == hash_id]\n",
    "            metrics = get_metrics(reviews)\n",
    "            metrics['hash'] = hash_id\n",
    "            all_metrics.append(metrics)\n",
    "        # Progress bar\n",
    "        pbar.update(1)\n",
    "        sleep(0.001)"
   ]
  },
  {
   "cell_type": "code",
   "execution_count": 34,
   "metadata": {},
   "outputs": [
    {
     "output_type": "stream",
     "name": "stdout",
     "text": [
      "0\n"
     ]
    }
   ],
   "source": [
    "print(num_not_merged)"
   ]
  },
  {
   "cell_type": "code",
   "execution_count": 21,
   "metadata": {},
   "outputs": [
    {
     "output_type": "execute_result",
     "data": {
      "text/plain": [
       "Counter({'MERGED': 3164})"
      ]
     },
     "metadata": {},
     "execution_count": 21
    }
   ],
   "source": [
    "all_statuses"
   ]
  },
  {
   "cell_type": "code",
   "execution_count": 22,
   "metadata": {},
   "outputs": [],
   "source": [
    "df_metrics = pd.DataFrame(all_metrics)"
   ]
  },
  {
   "cell_type": "markdown",
   "metadata": {},
   "source": [
    "Merge"
   ]
  },
  {
   "cell_type": "code",
   "execution_count": 23,
   "metadata": {},
   "outputs": [],
   "source": [
    "df = df_metrics.set_index('hash').join(df.set_index('hash'), how = 'inner')"
   ]
  },
  {
   "cell_type": "code",
   "execution_count": 24,
   "metadata": {},
   "outputs": [],
   "source": [
    "df = df.reset_index()"
   ]
  },
  {
   "cell_type": "code",
   "execution_count": 25,
   "metadata": {},
   "outputs": [
    {
     "output_type": "execute_result",
     "data": {
      "text/plain": [
       "3164"
      ]
     },
     "metadata": {},
     "execution_count": 25
    }
   ],
   "source": [
    "len(df)"
   ]
  },
  {
   "cell_type": "code",
   "execution_count": 26,
   "metadata": {},
   "outputs": [],
   "source": [
    "review_vars = [\n",
    "    'num_votes',\n",
    "    'num_comments',\n",
    "    'pct_pos'\n",
    "]"
   ]
  },
  {
   "cell_type": "code",
   "execution_count": 27,
   "metadata": {},
   "outputs": [],
   "source": [
    "social_vars = [\n",
    "    'pct_pos_prior_pos',\n",
    "    'pct_pos_prior_neg',\n",
    "    'avg_pos_prior_num_votes',\n",
    "    'avg_pos_prior_num_comments',\n",
    "    'pct_pos_prior_pos_core',\n",
    "    'pct_pos_prior_neg_core'\n",
    "]"
   ]
  },
  {
   "cell_type": "code",
   "execution_count": 28,
   "metadata": {},
   "outputs": [],
   "source": [
    "df = df[id_vars + patch_vars + review_vars + social_vars + [target_var]]"
   ]
  },
  {
   "cell_type": "code",
   "execution_count": 29,
   "metadata": {},
   "outputs": [
    {
     "output_type": "execute_result",
     "data": {
      "text/plain": [
       "Index(['hash', 'change_id', 'project', 'num_lines_added', 'num_lines_deleted',\n",
       "       'num_lines_of_code', 'num_file_impacted', 'num_dirs_impacted',\n",
       "       'mean_complexity', 'entropy', 'bug_fixing', 'description_length',\n",
       "       'num_prior_commits', 'num_prior_commits_bug_fixing', 'avg_prior_age',\n",
       "       'author_is_core', 'author_is_exp_author', 'author_is_exp_reviewer',\n",
       "       'num_votes', 'num_comments', 'pct_pos', 'pct_pos_prior_pos',\n",
       "       'pct_pos_prior_neg', 'avg_pos_prior_num_votes',\n",
       "       'avg_pos_prior_num_comments', 'pct_pos_prior_pos_core',\n",
       "       'pct_pos_prior_neg_core', 'fix_inducing'],\n",
       "      dtype='object')"
      ]
     },
     "metadata": {},
     "execution_count": 29
    }
   ],
   "source": [
    "df.columns"
   ]
  },
  {
   "cell_type": "code",
   "execution_count": 30,
   "metadata": {},
   "outputs": [],
   "source": [
    "df.to_csv(f'../data/rq2/rq2_sahara.csv', index = False)"
   ]
  },
  {
   "cell_type": "code",
   "execution_count": 31,
   "metadata": {},
   "outputs": [],
   "source": [
    "num_cols = [\n",
    "    'num_lines_added',\n",
    "    'num_lines_deleted',\n",
    "    'num_lines_of_code',\n",
    "    'num_file_impacted',\n",
    "    'num_dirs_impacted',\n",
    "    'mean_complexity',\n",
    "    'entropy',\n",
    "    'description_length',\n",
    "    'num_prior_commits',\n",
    "    'num_prior_commits_bug_fixing',\n",
    "    'avg_prior_age',\n",
    "    'num_votes',\n",
    "    'num_comments',\n",
    "    'avg_pos_prior_num_votes',\n",
    "    'avg_pos_prior_num_comments'\n",
    "]"
   ]
  },
  {
   "cell_type": "code",
   "execution_count": 32,
   "metadata": {},
   "outputs": [],
   "source": [
    "for c in num_cols:\n",
    "    df[c] = (df[c] - df[c].min()) / (df[c].max() - df[c].min())"
   ]
  },
  {
   "cell_type": "code",
   "execution_count": 33,
   "metadata": {},
   "outputs": [],
   "source": [
    "df.to_csv('../data/rq2/rq2_sahara_norm.csv', index=False)"
   ]
  }
 ],
 "metadata": {
  "kernelspec": {
   "name": "python385jvsc74a57bd07463d7771e7fac18a33c70a18adbf485644e23417b65e82933d98b5dd8543859",
   "display_name": "Python 3.8.5 64-bit ('cs846-043': conda)"
  },
  "language_info": {
   "codemirror_mode": {
    "name": "ipython",
    "version": 3
   },
   "file_extension": ".py",
   "mimetype": "text/x-python",
   "name": "python",
   "nbconvert_exporter": "python",
   "pygments_lexer": "ipython3",
   "version": "3.8.5"
  }
 },
 "nbformat": 4,
 "nbformat_minor": 2
}