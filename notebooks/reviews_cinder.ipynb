{
 "metadata": {
  "language_info": {
   "codemirror_mode": {
    "name": "ipython",
    "version": 3
   },
   "file_extension": ".py",
   "mimetype": "text/x-python",
   "name": "python",
   "nbconvert_exporter": "python",
   "pygments_lexer": "ipython3",
   "version": "3.6.8-final"
  },
  "orig_nbformat": 2,
  "kernelspec": {
   "name": "python3",
   "display_name": "Python 3",
   "language": "python"
  }
 },
 "nbformat": 4,
 "nbformat_minor": 2,
 "cells": [
  {
   "cell_type": "code",
   "execution_count": 1,
   "metadata": {},
   "outputs": [],
   "source": [
    "from tqdm.notebook import tqdm\n",
    "from time import sleep\n",
    "import numpy as np\n",
    "import pandas as pd\n",
    "import requests\n",
    "import json\n",
    "\n",
    "%load_ext autoreload\n",
    "%autoreload 2\n",
    "sys.path.append('../')\n",
    "from src.reviews import *"
   ]
  },
  {
   "cell_type": "code",
   "execution_count": 2,
   "metadata": {},
   "outputs": [],
   "source": [
    "project = 'cinder'"
   ]
  },
  {
   "cell_type": "code",
   "execution_count": 3,
   "metadata": {},
   "outputs": [],
   "source": [
    "df_commits = pd.read_csv(f'../data/commits/commits_{project}.csv')"
   ]
  },
  {
   "cell_type": "code",
   "execution_count": 4,
   "metadata": {},
   "outputs": [
    {
     "output_type": "execute_result",
     "data": {
      "text/plain": [
       "8535"
      ]
     },
     "metadata": {},
     "execution_count": 4
    }
   ],
   "source": [
    "len(df_commits)"
   ]
  },
  {
   "source": [
    "Change IDs"
   ],
   "cell_type": "markdown",
   "metadata": {}
  },
  {
   "cell_type": "code",
   "execution_count": 5,
   "metadata": {},
   "outputs": [],
   "source": [
    "get_prefix = f\"https://review.opendev.org/projects/openstack%2F{project}/commits/\""
   ]
  },
  {
   "cell_type": "code",
   "execution_count": 6,
   "metadata": {},
   "outputs": [],
   "source": [
    "df_commits['change_id'] = ''"
   ]
  },
  {
   "cell_type": "code",
   "execution_count": 7,
   "metadata": {
    "tags": []
   },
   "outputs": [
    {
     "output_type": "display_data",
     "data": {
      "text/plain": "  0%|          | 0/8535 [00:00<?, ?it/s]",
      "application/vnd.jupyter.widget-view+json": {
       "version_major": 2,
       "version_minor": 0,
       "model_id": "5aa117a8e0204cb889c05c8528a09136"
      }
     },
     "metadata": {}
    },
    {
     "output_type": "stream",
     "name": "stdout",
     "text": [
      "---hash c53d8e343e50d4cf7ea9a6a81258848c2d893bfb does not contain a change id in message:\n",
      "Initial fork out of Nova.\n",
      "\n",
      "---hash 9c55720129df12780d1d6480942d6d96abf54a01 does not contain a change id in message:\n",
      "Revert \"Add action extensions to support nova integration.\"\n",
      "\n",
      "This reverts commit 8d8903f466cd7d4270e46ad896817fe94c99b575\n",
      "---hash ea716377a8a04937acfe637086b3657c4527f2ed does not contain a change id in message:\n",
      "Revert \"Don't zero out snapshot volume on snapshot_delete\"\n",
      "\n",
      "This reverts commit 1b3322d45fe2c5ed72cc7f8674e5e319928065ad\n",
      "\n",
      "Turns out that although it's less likely we can still see this issue when zeroing out regular volumes.\n",
      "---hash 444cd5429cc00f3a4ddb5cde4b8b1c974b886e19 does not contain a change id in message:\n",
      "Revert \"use O_DIRECT when copying from /dev/zero too\"\n",
      "\n",
      "It turns out running oflag=direct against the LVM snapshot fails for an IO error every time.  Works fine against the regular volume, but fails on snapshot.\n",
      "\n",
      "This reverts commit 1405a6440d646524d41adfed4fc1344948e2871f\n",
      "---hash 28df9f3de838e7b5eeb8461e15d0da11f95440d8 does not contain a change id in message:\n",
      "Revert \"Implement filter scheduler\"\n",
      "\n",
      "This reverts commit 8dd2140c4c03582965d74232c7b61aef34e43661\n",
      "---hash 698b522a57a66f902c6bfcab91a00a62006207fb does not contain a change id in message:\n",
      "Merge \"Replace openstack.org git:// URLs with https://\"\n"
     ]
    }
   ],
   "source": [
    "with tqdm(total = len(df_commits)) as pbar:\n",
    "    for i, row in df_commits.iterrows():\n",
    "        pbar.set_postfix({'hash' :  row['hash']})\n",
    "        get_addr = get_prefix + row['hash']\n",
    "        response = requests.get(get_addr)\n",
    "        response_json = json.loads(response.text[5:]) # some leading nonsense\n",
    "        message = response_json['message']\n",
    "        change_id = get_change_id(message)\n",
    "        if change_id == '':\n",
    "            print(\"---hash {} does not contain a change id in message:\\n{}\".format(\n",
    "                row['hash'], message))\n",
    "        df_commits.at[i, 'change_id'] = change_id\n",
    "        # Progress bar\n",
    "        pbar.update(1)\n",
    "        sleep(0.001)"
   ]
  },
  {
   "cell_type": "code",
   "execution_count": 8,
   "metadata": {},
   "outputs": [
    {
     "output_type": "execute_result",
     "data": {
      "text/plain": [
       "6"
      ]
     },
     "metadata": {},
     "execution_count": 8
    }
   ],
   "source": [
    "np.sum(df_commits['change_id'] == '')"
   ]
  },
  {
   "cell_type": "code",
   "execution_count": 9,
   "metadata": {},
   "outputs": [],
   "source": [
    "df_commits = df_commits.loc[df_commits['change_id'] != '']"
   ]
  },
  {
   "source": [
    "Change Messages"
   ],
   "cell_type": "markdown",
   "metadata": {}
  },
  {
   "cell_type": "code",
   "execution_count": 10,
   "metadata": {},
   "outputs": [],
   "source": [
    "get_prefix = f'https://review.opendev.org/changes/openstack%2F{project}~master~'"
   ]
  },
  {
   "cell_type": "code",
   "execution_count": 11,
   "metadata": {},
   "outputs": [],
   "source": [
    "reviews = []"
   ]
  },
  {
   "cell_type": "code",
   "execution_count": 12,
   "metadata": {},
   "outputs": [
    {
     "output_type": "display_data",
     "data": {
      "text/plain": "  0%|          | 0/8529 [00:00<?, ?it/s]",
      "application/vnd.jupyter.widget-view+json": {
       "version_major": 2,
       "version_minor": 0,
       "model_id": "4aed507923224d5c8b5d0eb100e883b6"
      }
     },
     "metadata": {}
    },
    {
     "output_type": "stream",
     "name": "stdout",
     "text": [
      "---hash 365a9908b89688fa609ba86c84941848628346d9 with change id I70790aa39c0774726de71e5fa5751c45e7e34ffd had invalid response\n",
      "---hash 900d49723f65e87658381ff955559f54ac98c487 with change id I73f3bdccb4be98df95fa853864e465f4d83a8884 had invalid response\n",
      "---hash ae6c589c52557988e24b5ee8005d8f81564a6068 with change id I64a4fc6af6f83b2d8a6bb5fe9aa0dc3acd58e4ce had invalid response\n",
      "---hash 523080113d15bc5a207ebf89e82c4d4da486cbe0 with change id Ib472c156a7007b2166c6857ae1fa2bb72a2e0c1a had invalid response\n",
      "---hash badedd29ea61d94d742ba71a3b0d54f3ab2cd0bd with change id Iba0e4f9545fc9ba82f080a0fec672761dcfeaeec had invalid response\n",
      "---hash cc0e6118f60964c162d6482dc96454ffec30e061 with change id I7131dbf556627c5ad6fc237bab1e6b867f55c7f8 had invalid response\n",
      "---hash 7d8369099180bb65449685755b0f69f1378bc8ae with change id I9fb29667964a4180af822b811345fa1148dbcd66 had invalid response\n",
      "---hash e784fcfe1b92cd2b5a2697691edcffae947a24ea with change id I887e604f813292239c9128862cf6c014ad73e286 had invalid response\n",
      "---hash e2cf24379e0d881588fad6f966145cef1356a7ba with change id I4a60580fb227428b3754ab7bc0c7aa2ffe1b6443 had invalid response\n"
     ]
    }
   ],
   "source": [
    "with tqdm(total = len(df_commits)) as pbar:\n",
    "    for i, row in df_commits.iterrows():\n",
    "        pbar.set_postfix({'hash' :  row['hash']})\n",
    "        get_addr = get_prefix + row['change_id'] + \"/messages\"\n",
    "        response = requests.get(get_addr)\n",
    "        if response.status_code == 404:\n",
    "            print(\"---hash {} with change id {} had invalid response\".format(\n",
    "                row['hash'], row['change_id']))\n",
    "        else:\n",
    "            response_json = json.loads(response.text[5:])\n",
    "            reviews_for_single_change = get_review_info(project, response_json, row['author_name'])\n",
    "            for re in reviews_for_single_change:\n",
    "                re['hash'] = row['hash']\n",
    "                re['change_id'] = row['change_id']\n",
    "            reviews.extend(reviews_for_single_change)\n",
    "        # Progress bar\n",
    "        pbar.update(1)\n",
    "        sleep(0.001)"
   ]
  },
  {
   "source": [
    "Save to output"
   ],
   "cell_type": "markdown",
   "metadata": {}
  },
  {
   "cell_type": "code",
   "execution_count": 15,
   "metadata": {},
   "outputs": [],
   "source": [
    "df_reviews = pd.DataFrame(reviews)"
   ]
  },
  {
   "cell_type": "code",
   "execution_count": 16,
   "metadata": {},
   "outputs": [],
   "source": [
    "df_reviews.to_csv(f\"../data/reviews/reviews_{project}.csv\", index = False)"
   ]
  }
 ]
}