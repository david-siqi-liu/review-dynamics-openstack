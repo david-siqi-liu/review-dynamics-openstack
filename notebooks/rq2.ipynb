{
 "metadata": {
  "language_info": {
   "codemirror_mode": {
    "name": "ipython",
    "version": 3
   },
   "file_extension": ".py",
   "mimetype": "text/x-python",
   "name": "python",
   "nbconvert_exporter": "python",
   "pygments_lexer": "ipython3",
   "version": "3.8.5-final"
  },
  "orig_nbformat": 2,
  "kernelspec": {
   "name": "python3",
   "display_name": "Python 3.8.5 64-bit ('cs846-043': conda)",
   "metadata": {
    "interpreter": {
     "hash": "7463d7771e7fac18a33c70a18adbf485644e23417b65e82933d98b5dd8543859"
    }
   }
  }
 },
 "nbformat": 4,
 "nbformat_minor": 2,
 "cells": [
  {
   "cell_type": "code",
   "execution_count": 25,
   "metadata": {},
   "outputs": [],
   "source": [
    "from tqdm.notebook import tqdm\n",
    "from time import sleep\n",
    "import numpy as np\n",
    "import pandas as pd\n",
    "import requests\n",
    "import json"
   ]
  },
  {
   "cell_type": "code",
   "execution_count": 26,
   "metadata": {},
   "outputs": [],
   "source": [
    "df_reviews = pd.read_csv('../data/rq1/rq1_all.csv')"
   ]
  },
  {
   "cell_type": "code",
   "execution_count": 27,
   "metadata": {},
   "outputs": [
    {
     "output_type": "execute_result",
     "data": {
      "text/plain": [
       "Index(['hash', 'author_name', 'committer_name', 'author_date', 'commit_date',\n",
       "       'num_lines_added', 'num_lines_deleted', 'num_lines_of_code',\n",
       "       'num_file_impacted', 'num_dirs_impacted', 'min_complexity',\n",
       "       'mean_complexity', 'max_complexity', 'entropy', 'bug_fixing',\n",
       "       'description_length', 'num_prior_commits', 'avg_prior_age',\n",
       "       'num_prior_commits_bug_fixing', 'num_future_commits_bug_fixing',\n",
       "       'fix_inducing', 'reviewer_id', 'reviewer_name', 'reviewer_vote',\n",
       "       'reviewer_is_core', 'num_prior_comments',\n",
       "       'pct_prior_comments_by_reviewer', 'num_prior_votes',\n",
       "       'pct_prior_pos_votes', 'pct_prior_neg_votes',\n",
       "       'pct_prior_pos_votes_core', 'pct_prior_neg_votes_core', 'reviewer_freq',\n",
       "       'change_id', 'project', 'author_is_exp_author',\n",
       "       'author_is_exp_reviewer', 'reviewer_is_exp_author',\n",
       "       'reviewer_is_exp_reviewer', 'author_is_core', 'pos_vote'],\n",
       "      dtype='object')"
      ]
     },
     "metadata": {},
     "execution_count": 27
    }
   ],
   "source": [
    "df_reviews.columns"
   ]
  },
  {
   "cell_type": "code",
   "execution_count": 28,
   "metadata": {},
   "outputs": [
    {
     "output_type": "execute_result",
     "data": {
      "text/plain": [
       "107300"
      ]
     },
     "metadata": {},
     "execution_count": 28
    }
   ],
   "source": [
    "len(df_reviews)"
   ]
  },
  {
   "source": [
    "Columns"
   ],
   "cell_type": "markdown",
   "metadata": {}
  },
  {
   "cell_type": "code",
   "execution_count": 49,
   "metadata": {},
   "outputs": [],
   "source": [
    "id_vars = [\n",
    "    'hash',\n",
    "    'change_id',\n",
    "    'project'\n",
    "]"
   ]
  },
  {
   "cell_type": "code",
   "execution_count": 50,
   "metadata": {},
   "outputs": [],
   "source": [
    "target_var = 'fix_inducing'"
   ]
  },
  {
   "cell_type": "code",
   "execution_count": 51,
   "metadata": {},
   "outputs": [],
   "source": [
    "patch_vars = [\n",
    "  'num_lines_added',\n",
    "  'num_lines_deleted',\n",
    "  'num_lines_of_code', # number of lines in the files before the change\n",
    "  'num_file_impacted',\n",
    "  'num_dirs_impacted',\n",
    "  'mean_complexity', # average Cyclomatic Complexity\n",
    "  'entropy', # dispersion of modified lines across files\n",
    "  'bug_fixing', # whether or not the patch is for fixing bugs\n",
    "  'description_length',\n",
    "  'num_prior_commits', # number of prior patches that impact the same modified lines\n",
    "  'num_prior_commits_bug_fixing',\n",
    "  'avg_prior_age', # average of time intervals (in days) between prior patches and this patch\n",
    "  'author_is_core', # is author a core developer\n",
    "  'author_is_exp_author', # % of prior patches that were made by the same author > 0.05\n",
    "  'author_is_exp_reviewer'\n",
    "]"
   ]
  },
  {
   "source": [
    "Select only `id`, `patch` vars since they are unique to each patch"
   ],
   "cell_type": "markdown",
   "metadata": {}
  },
  {
   "cell_type": "code",
   "execution_count": 70,
   "metadata": {},
   "outputs": [],
   "source": [
    "df = df_reviews[id_vars + patch_vars + [target_var]].copy()"
   ]
  },
  {
   "cell_type": "code",
   "execution_count": 71,
   "metadata": {},
   "outputs": [],
   "source": [
    "df = df.drop_duplicates(keep = 'first', ignore_index = True)"
   ]
  },
  {
   "cell_type": "code",
   "execution_count": 72,
   "metadata": {},
   "outputs": [
    {
     "output_type": "execute_result",
     "data": {
      "text/plain": [
       "22047"
      ]
     },
     "metadata": {},
     "execution_count": 72
    }
   ],
   "source": [
    "len(df)"
   ]
  },
  {
   "source": [
    "Set strong relationship threshold"
   ],
   "cell_type": "markdown",
   "metadata": {}
  },
  {
   "cell_type": "code",
   "execution_count": 37,
   "metadata": {},
   "outputs": [],
   "source": [
    "reviewer_freq_percentiles = np.percentile(\n",
    "    df_reviews['reviewer_freq'],\n",
    "    q=list(range(0, 101, 10))\n",
    ")"
   ]
  },
  {
   "cell_type": "code",
   "execution_count": 38,
   "metadata": {},
   "outputs": [
    {
     "output_type": "execute_result",
     "data": {
      "text/plain": [
       "array([0.        , 0.        , 0.        , 0.        , 0.02222222,\n",
       "       0.09090909, 0.17241379, 0.27118644, 0.41176471, 0.63636364,\n",
       "       1.        ])"
      ]
     },
     "metadata": {},
     "execution_count": 38
    }
   ],
   "source": [
    "reviewer_freq_percentiles"
   ]
  },
  {
   "cell_type": "code",
   "execution_count": 39,
   "metadata": {},
   "outputs": [],
   "source": [
    "high_freq_threshold = 0.40"
   ]
  },
  {
   "cell_type": "code",
   "execution_count": 40,
   "metadata": {},
   "outputs": [],
   "source": [
    "def get_metrics(reviews):\n",
    "    num_reviewers = len(reviews)\n",
    "    num_comments = float('-inf')\n",
    "    num_pos_votes = 0\n",
    "    num_pos_prior_pos = 0\n",
    "    num_pos_prior_neg = 0\n",
    "    num_pos_prior_no_comment = 0\n",
    "    num_pos_prior_pos_core = 0\n",
    "    num_pos_author_core = 0\n",
    "    num_pos_high_freq = 0\n",
    "    for i, row in reviews.iterrows():\n",
    "        pos_vote = row['pos_vote']\n",
    "        num_comments = max(row['num_prior_comments'], num_comments)\n",
    "        if not pos_vote:\n",
    "            continue\n",
    "        num_pos_votes += 1\n",
    "        if row['pct_prior_pos_votes'] > 0:\n",
    "            num_pos_prior_pos += 1\n",
    "        if row['pct_prior_neg_votes'] > 0:\n",
    "            num_pos_prior_neg += 1\n",
    "        if row['num_prior_comments'] == 0:\n",
    "            num_pos_prior_no_comment += 1\n",
    "        if row['pct_prior_pos_votes_core'] > 0:\n",
    "            num_pos_prior_pos_core += 1\n",
    "        if row['author_is_core'] == 1:\n",
    "            num_pos_author_core += 1\n",
    "        if row['reviewer_freq'] >= high_freq_threshold:\n",
    "            num_pos_high_freq += 1\n",
    "    return {\n",
    "        'num_reviewers' : num_reviewers,\n",
    "        'num_comments' : num_comments,\n",
    "        'pct_pos' : num_pos_votes / num_reviewers,\n",
    "        'pct_pos_prior_pos' : num_pos_prior_pos / num_reviewers,\n",
    "        'pct_pos_prior_neg' : num_pos_prior_neg / num_reviewers,\n",
    "        'pct_pos_prior_no_comment' : num_pos_prior_no_comment / num_reviewers,\n",
    "        'pct_pos_prior_pos_core' : num_pos_prior_pos_core / num_reviewers,\n",
    "        'pct_pos_author_core' : num_pos_author_core / num_reviewers,\n",
    "        'pct_pos_high_freq' : num_pos_high_freq / num_reviewers\n",
    "    }"
   ]
  },
  {
   "cell_type": "code",
   "execution_count": 41,
   "metadata": {},
   "outputs": [],
   "source": [
    "from collections import Counter\n",
    "all_statuses = Counter()"
   ]
  },
  {
   "cell_type": "code",
   "execution_count": 42,
   "metadata": {},
   "outputs": [],
   "source": [
    "def get_merged(project, change_id):\n",
    "    get_prefix = f'https://review.opendev.org/changes/openstack%2F{project}~master~'\n",
    "    get_addr = get_prefix + change_id\n",
    "    response = requests.get(get_addr)\n",
    "    if response.status_code == 404:\n",
    "        print(\"---change id {} had invalid response\".format(change_id))\n",
    "        return False\n",
    "    response_json = json.loads(response.text[5:])\n",
    "    if 'status' not in response_json:\n",
    "        print(\"---change id {} had no status in response\".format(change_id))\n",
    "        return False\n",
    "    status = response_json['status']\n",
    "    all_statuses[status] += 1\n",
    "    return status == 'MERGED'"
   ]
  },
  {
   "cell_type": "code",
   "execution_count": 43,
   "metadata": {},
   "outputs": [],
   "source": [
    "all_metrics = []"
   ]
  },
  {
   "cell_type": "code",
   "execution_count": 44,
   "metadata": {},
   "outputs": [],
   "source": [
    "num_not_merged = 0"
   ]
  },
  {
   "cell_type": "code",
   "execution_count": 45,
   "metadata": {},
   "outputs": [
    {
     "output_type": "display_data",
     "data": {
      "text/plain": "  0%|          | 0/22047 [00:00<?, ?it/s]",
      "application/vnd.jupyter.widget-view+json": {
       "version_major": 2,
       "version_minor": 0,
       "model_id": "792dc96c69704e3491437700b11af0a8"
      }
     },
     "metadata": {}
    }
   ],
   "source": [
    "with tqdm(total = len(df)) as pbar:\n",
    "    for i, row in df.iterrows():\n",
    "        pbar.set_postfix({'hash' : row['hash']})\n",
    "        hash_id = row['hash']\n",
    "        change_id = row['change_id']\n",
    "        merged = get_merged(row['project'], row['change_id'])\n",
    "        if not merged:\n",
    "            num_not_merged += 1\n",
    "        else:\n",
    "            reviews = df_reviews.loc[df_reviews['hash'] == hash_id]\n",
    "            metrics = get_metrics(reviews)\n",
    "            metrics['hash'] = hash_id\n",
    "            all_metrics.append(metrics)\n",
    "        # Progress bar\n",
    "        pbar.update(1)\n",
    "        sleep(0.001)"
   ]
  },
  {
   "cell_type": "code",
   "execution_count": 46,
   "metadata": {},
   "outputs": [
    {
     "output_type": "stream",
     "name": "stdout",
     "text": [
      "18\n"
     ]
    }
   ],
   "source": [
    "print(num_not_merged)"
   ]
  },
  {
   "cell_type": "code",
   "execution_count": 47,
   "metadata": {},
   "outputs": [
    {
     "output_type": "execute_result",
     "data": {
      "text/plain": [
       "Counter({'MERGED': 22029, 'ABANDONED': 18})"
      ]
     },
     "metadata": {},
     "execution_count": 47
    }
   ],
   "source": [
    "all_statuses"
   ]
  },
  {
   "cell_type": "code",
   "execution_count": 48,
   "metadata": {},
   "outputs": [],
   "source": [
    "df_metrics = pd.DataFrame(all_metrics)"
   ]
  },
  {
   "source": [
    "Merge"
   ],
   "cell_type": "markdown",
   "metadata": {}
  },
  {
   "cell_type": "code",
   "execution_count": 73,
   "metadata": {},
   "outputs": [],
   "source": [
    "df = df_metrics.set_index('hash').join(df.set_index('hash'), how = 'inner')"
   ]
  },
  {
   "cell_type": "code",
   "execution_count": 74,
   "metadata": {},
   "outputs": [],
   "source": [
    "df = df.reset_index()"
   ]
  },
  {
   "cell_type": "code",
   "execution_count": 75,
   "metadata": {},
   "outputs": [
    {
     "output_type": "execute_result",
     "data": {
      "text/plain": [
       "22029"
      ]
     },
     "metadata": {},
     "execution_count": 75
    }
   ],
   "source": [
    "len(df)"
   ]
  },
  {
   "cell_type": "code",
   "execution_count": 76,
   "metadata": {},
   "outputs": [],
   "source": [
    "review_vars = [\n",
    "    'num_reviewers',\n",
    "    'num_comments',\n",
    "    'pct_pos'\n",
    "]"
   ]
  },
  {
   "cell_type": "code",
   "execution_count": 77,
   "metadata": {},
   "outputs": [],
   "source": [
    "social_vars = [\n",
    "    'pct_pos_prior_pos',\n",
    "    'pct_pos_prior_neg',\n",
    "    'pct_pos_prior_no_comment',\n",
    "    'pct_pos_prior_pos_core',\n",
    "    'pct_pos_author_core',\n",
    "    'pct_pos_high_freq'\n",
    "]"
   ]
  },
  {
   "cell_type": "code",
   "execution_count": 79,
   "metadata": {},
   "outputs": [],
   "source": [
    "df = df[id_vars + patch_vars + review_vars + social_vars + [target_var]]"
   ]
  },
  {
   "cell_type": "code",
   "execution_count": 80,
   "metadata": {},
   "outputs": [
    {
     "output_type": "execute_result",
     "data": {
      "text/plain": [
       "Index(['hash', 'change_id', 'project', 'num_lines_added', 'num_lines_deleted',\n",
       "       'num_lines_of_code', 'num_file_impacted', 'num_dirs_impacted',\n",
       "       'mean_complexity', 'entropy', 'bug_fixing', 'description_length',\n",
       "       'num_prior_commits', 'num_prior_commits_bug_fixing', 'avg_prior_age',\n",
       "       'author_is_core', 'author_is_exp_author', 'author_is_exp_reviewer',\n",
       "       'num_reviewers', 'num_comments', 'pct_pos', 'pct_pos_prior_pos',\n",
       "       'pct_pos_prior_neg', 'pct_pos_prior_no_comment',\n",
       "       'pct_pos_prior_pos_core', 'pct_pos_author_core', 'pct_pos_high_freq',\n",
       "       'fix_inducing'],\n",
       "      dtype='object')"
      ]
     },
     "metadata": {},
     "execution_count": 80
    }
   ],
   "source": [
    "df.columns"
   ]
  },
  {
   "cell_type": "code",
   "execution_count": 81,
   "metadata": {},
   "outputs": [],
   "source": [
    "df.to_csv(f'../data/rq2/rq2_all.csv', index = False)"
   ]
  },
  {
   "cell_type": "code",
   "execution_count": 82,
   "metadata": {},
   "outputs": [],
   "source": [
    "num_cols = [\n",
    "    'num_lines_added',\n",
    "    'num_lines_deleted',\n",
    "    'num_lines_of_code',\n",
    "    'num_file_impacted',\n",
    "    'num_dirs_impacted',\n",
    "    'mean_complexity',\n",
    "    'entropy',\n",
    "    'description_length',\n",
    "    'num_prior_commits',\n",
    "    'num_prior_commits_bug_fixing',\n",
    "    'avg_prior_age',\n",
    "    'num_reviewers',\n",
    "    'num_comments'\n",
    "]"
   ]
  },
  {
   "cell_type": "code",
   "execution_count": 83,
   "metadata": {},
   "outputs": [],
   "source": [
    "for c in num_cols:\n",
    "    df[c] = (df[c] - df[c].min()) / (df[c].max() - df[c].min())"
   ]
  },
  {
   "cell_type": "code",
   "execution_count": 84,
   "metadata": {},
   "outputs": [],
   "source": [
    "df.to_csv('../data/rq2/rq2_all_norm.csv', index=False)"
   ]
  }
 ]
}