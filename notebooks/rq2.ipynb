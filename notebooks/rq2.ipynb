{
 "metadata": {
  "language_info": {
   "codemirror_mode": {
    "name": "ipython",
    "version": 3
   },
   "file_extension": ".py",
   "mimetype": "text/x-python",
   "name": "python",
   "nbconvert_exporter": "python",
   "pygments_lexer": "ipython3",
   "version": "3.8.5"
  },
  "orig_nbformat": 2,
  "kernelspec": {
   "name": "python385jvsc74a57bd07463d7771e7fac18a33c70a18adbf485644e23417b65e82933d98b5dd8543859",
   "display_name": "Python 3.8.5 64-bit ('cs846-043': conda)"
  }
 },
 "nbformat": 4,
 "nbformat_minor": 2,
 "cells": [
  {
   "cell_type": "code",
   "execution_count": 1,
   "metadata": {},
   "outputs": [],
   "source": [
    "from tqdm.notebook import tqdm\n",
    "from time import sleep\n",
    "import numpy as np\n",
    "import pandas as pd\n",
    "import requests\n",
    "import json"
   ]
  },
  {
   "cell_type": "code",
   "execution_count": 2,
   "metadata": {},
   "outputs": [],
   "source": [
    "df_reviews = pd.read_csv('../data/rq1/rq1_all.csv')"
   ]
  },
  {
   "cell_type": "code",
   "execution_count": 3,
   "metadata": {},
   "outputs": [
    {
     "output_type": "execute_result",
     "data": {
      "text/plain": [
       "Index(['hash', 'author_name', 'committer_name', 'author_date', 'commit_date',\n",
       "       'num_lines_added', 'num_lines_deleted', 'num_lines_of_code',\n",
       "       'num_file_impacted', 'num_dirs_impacted', 'min_complexity',\n",
       "       'mean_complexity', 'max_complexity', 'entropy', 'bug_fixing',\n",
       "       'description_length', 'num_prior_commits', 'avg_prior_age',\n",
       "       'num_prior_commits_bug_fixing', 'num_future_commits_bug_fixing',\n",
       "       'fix_inducing', 'reviewer_id', 'reviewer_name', 'reviewer_vote',\n",
       "       'reviewer_is_core', 'num_prior_comments',\n",
       "       'pct_prior_comments_by_reviewer', 'num_prior_votes',\n",
       "       'pct_prior_pos_votes', 'pct_prior_neg_votes',\n",
       "       'pct_prior_pos_votes_core', 'pct_prior_neg_votes_core', 'reviewer_freq',\n",
       "       'change_id', 'project', 'author_is_exp_author',\n",
       "       'author_is_exp_reviewer', 'reviewer_is_exp_author',\n",
       "       'reviewer_is_exp_reviewer', 'author_is_core', 'pos_vote'],\n",
       "      dtype='object')"
      ]
     },
     "metadata": {},
     "execution_count": 3
    }
   ],
   "source": [
    "df_reviews.columns"
   ]
  },
  {
   "cell_type": "code",
   "execution_count": 4,
   "metadata": {},
   "outputs": [
    {
     "output_type": "execute_result",
     "data": {
      "text/plain": [
       "107300"
      ]
     },
     "metadata": {},
     "execution_count": 4
    }
   ],
   "source": [
    "len(df_reviews)"
   ]
  },
  {
   "source": [
    "Columns"
   ],
   "cell_type": "markdown",
   "metadata": {}
  },
  {
   "cell_type": "code",
   "execution_count": 5,
   "metadata": {},
   "outputs": [],
   "source": [
    "id_vars = [\n",
    "    'hash',\n",
    "    'change_id',\n",
    "    'project'\n",
    "]"
   ]
  },
  {
   "cell_type": "code",
   "execution_count": 6,
   "metadata": {},
   "outputs": [],
   "source": [
    "target_var = 'fix_inducing'"
   ]
  },
  {
   "cell_type": "code",
   "execution_count": 7,
   "metadata": {},
   "outputs": [],
   "source": [
    "patch_vars = [\n",
    "  'num_lines_added',\n",
    "  'num_lines_deleted',\n",
    "  'num_lines_of_code', # number of lines in the files before the change\n",
    "  'num_file_impacted',\n",
    "  'num_dirs_impacted',\n",
    "  'mean_complexity', # average Cyclomatic Complexity\n",
    "  'entropy', # dispersion of modified lines across files\n",
    "  'bug_fixing', # whether or not the patch is for fixing bugs\n",
    "  'description_length',\n",
    "  'num_prior_commits', # number of prior patches that impact the same modified lines\n",
    "  'num_prior_commits_bug_fixing',\n",
    "  'avg_prior_age', # average of time intervals (in days) between prior patches and this patch\n",
    "  'author_is_core', # is author a core developer\n",
    "  'author_is_exp_author', # % of prior patches that were made by the same author > 0.05\n",
    "  'author_is_exp_reviewer'\n",
    "]"
   ]
  },
  {
   "source": [
    "Select only `id`, `patch` vars since they are unique to each patch"
   ],
   "cell_type": "markdown",
   "metadata": {}
  },
  {
   "cell_type": "code",
   "execution_count": 8,
   "metadata": {},
   "outputs": [],
   "source": [
    "df = df_reviews[id_vars + patch_vars + [target_var]].copy()"
   ]
  },
  {
   "cell_type": "code",
   "execution_count": 9,
   "metadata": {},
   "outputs": [],
   "source": [
    "df = df.drop_duplicates(keep = 'first', ignore_index = True)"
   ]
  },
  {
   "cell_type": "code",
   "execution_count": 10,
   "metadata": {},
   "outputs": [
    {
     "output_type": "execute_result",
     "data": {
      "text/plain": [
       "22047"
      ]
     },
     "metadata": {},
     "execution_count": 10
    }
   ],
   "source": [
    "len(df)"
   ]
  },
  {
   "source": [
    "Set strong relationship threshold"
   ],
   "cell_type": "markdown",
   "metadata": {}
  },
  {
   "cell_type": "code",
   "execution_count": 11,
   "metadata": {},
   "outputs": [],
   "source": [
    "reviewer_freq_percentiles = np.percentile(\n",
    "    df_reviews['reviewer_freq'],\n",
    "    q=list(range(0, 101, 10))\n",
    ")"
   ]
  },
  {
   "cell_type": "code",
   "execution_count": 12,
   "metadata": {},
   "outputs": [
    {
     "output_type": "execute_result",
     "data": {
      "text/plain": [
       "array([0.        , 0.        , 0.        , 0.        , 0.02222222,\n",
       "       0.09090909, 0.17241379, 0.27118644, 0.41176471, 0.63636364,\n",
       "       1.        ])"
      ]
     },
     "metadata": {},
     "execution_count": 12
    }
   ],
   "source": [
    "reviewer_freq_percentiles"
   ]
  },
  {
   "cell_type": "code",
   "execution_count": 13,
   "metadata": {},
   "outputs": [],
   "source": [
    "high_freq_threshold = 0.40"
   ]
  },
  {
   "cell_type": "code",
   "execution_count": 14,
   "metadata": {},
   "outputs": [],
   "source": [
    "def get_metrics(reviews):\n",
    "    num_votes = len(reviews)\n",
    "    num_comments = float('-inf')\n",
    "    num_pos_votes = 0\n",
    "    num_pos_prior_pos = 0\n",
    "    num_pos_prior_neg = 0\n",
    "    num_pos_prior_votes = 0\n",
    "    num_pos_prior_comments = 0\n",
    "    num_pos_prior_pos_core = 0\n",
    "    num_pos_prior_neg_core = 0\n",
    "    for i, row in reviews.iterrows():\n",
    "        pos_vote = row['pos_vote']\n",
    "        num_comments = max(num_comments, row['num_prior_comments'])\n",
    "        if not pos_vote:\n",
    "            continue\n",
    "        num_pos_votes += 1\n",
    "        if row['pct_prior_pos_votes'] > 0:\n",
    "            num_pos_prior_pos += 1\n",
    "        if row['pct_prior_neg_votes'] > 0:\n",
    "            num_pos_prior_neg += 1\n",
    "        if row['num_prior_votes'] > 0:\n",
    "            num_pos_prior_votes += row['num_prior_votes']\n",
    "        if row['num_prior_comments'] > 0:\n",
    "            num_pos_prior_comments += row['num_prior_comments']\n",
    "        if row['pct_prior_pos_votes_core'] > 0:\n",
    "            num_pos_prior_pos_core += 1\n",
    "        if row['pct_prior_neg_votes_core'] > 0:\n",
    "            num_pos_prior_neg_core += 1\n",
    "    \n",
    "    if num_pos_votes == 0:\n",
    "        return {\n",
    "            'num_votes' : num_votes,\n",
    "            'num_comments' : num_comments,\n",
    "            'pct_pos' : 0,\n",
    "            'pct_pos_prior_pos' : 0,\n",
    "            'pct_pos_prior_neg' : 0,\n",
    "            'avg_pos_prior_num_votes' : 0,\n",
    "            'avg_pos_prior_num_comments' : 0,\n",
    "            'pct_pos_prior_pos_core' : 0,\n",
    "            'pct_pos_prior_neg_core' : 0\n",
    "        }\n",
    "\n",
    "    return {\n",
    "        'num_votes' : num_votes,\n",
    "        'num_comments' : num_comments,\n",
    "        'pct_pos' : num_pos_votes / num_votes,\n",
    "        'pct_pos_prior_pos' : num_pos_prior_pos / num_pos_votes,\n",
    "        'pct_pos_prior_neg' : num_pos_prior_neg / num_pos_votes,\n",
    "        'avg_pos_prior_num_votes' : num_pos_prior_votes / num_pos_votes,\n",
    "        'avg_pos_prior_num_comments' : num_pos_prior_comments / num_pos_votes,\n",
    "        'pct_pos_prior_pos_core' : num_pos_prior_pos_core / num_pos_votes,\n",
    "        'pct_pos_prior_neg_core' : num_pos_prior_neg_core / num_pos_votes\n",
    "    }"
   ]
  },
  {
   "cell_type": "code",
   "execution_count": 15,
   "metadata": {},
   "outputs": [],
   "source": [
    "from collections import Counter\n",
    "all_statuses = Counter()"
   ]
  },
  {
   "cell_type": "code",
   "execution_count": 16,
   "metadata": {},
   "outputs": [],
   "source": [
    "def get_merged(project, change_id):\n",
    "    get_prefix = f'https://review.opendev.org/changes/openstack%2F{project}~master~'\n",
    "    get_addr = get_prefix + change_id\n",
    "    response = requests.get(get_addr)\n",
    "    if response.status_code == 404:\n",
    "        print(\"---change id {} had invalid response\".format(change_id))\n",
    "        return False\n",
    "    response_json = json.loads(response.text[5:])\n",
    "    if 'status' not in response_json:\n",
    "        print(\"---change id {} had no status in response\".format(change_id))\n",
    "        return False\n",
    "    status = response_json['status']\n",
    "    all_statuses[status] += 1\n",
    "    return status == 'MERGED'"
   ]
  },
  {
   "cell_type": "code",
   "execution_count": 17,
   "metadata": {},
   "outputs": [],
   "source": [
    "all_metrics = []"
   ]
  },
  {
   "cell_type": "code",
   "execution_count": 18,
   "metadata": {},
   "outputs": [],
   "source": [
    "num_not_merged = 0"
   ]
  },
  {
   "cell_type": "code",
   "execution_count": 19,
   "metadata": {},
   "outputs": [
    {
     "output_type": "display_data",
     "data": {
      "text/plain": "  0%|          | 0/22047 [00:00<?, ?it/s]",
      "application/vnd.jupyter.widget-view+json": {
       "version_major": 2,
       "version_minor": 0,
       "model_id": "66a806e23c794540ab1f02511efe06f4"
      }
     },
     "metadata": {}
    }
   ],
   "source": [
    "with tqdm(total = len(df)) as pbar:\n",
    "    for i, row in df.iterrows():\n",
    "        pbar.set_postfix({'hash' : row['hash']})\n",
    "        hash_id = row['hash']\n",
    "        change_id = row['change_id']\n",
    "        merged = get_merged(row['project'], row['change_id'])\n",
    "        if not merged:\n",
    "            num_not_merged += 1\n",
    "        else:\n",
    "            reviews = df_reviews.loc[df_reviews['hash'] == hash_id]\n",
    "            metrics = get_metrics(reviews)\n",
    "            metrics['hash'] = hash_id\n",
    "            all_metrics.append(metrics)\n",
    "        # Progress bar\n",
    "        pbar.update(1)\n",
    "        sleep(0.001)"
   ]
  },
  {
   "cell_type": "code",
   "execution_count": 20,
   "metadata": {},
   "outputs": [
    {
     "output_type": "stream",
     "name": "stdout",
     "text": [
      "18\n"
     ]
    }
   ],
   "source": [
    "print(num_not_merged)"
   ]
  },
  {
   "cell_type": "code",
   "execution_count": 21,
   "metadata": {},
   "outputs": [
    {
     "output_type": "execute_result",
     "data": {
      "text/plain": [
       "Counter({'MERGED': 22029, 'ABANDONED': 18})"
      ]
     },
     "metadata": {},
     "execution_count": 21
    }
   ],
   "source": [
    "all_statuses"
   ]
  },
  {
   "cell_type": "code",
   "execution_count": 22,
   "metadata": {},
   "outputs": [],
   "source": [
    "df_metrics = pd.DataFrame(all_metrics)"
   ]
  },
  {
   "source": [
    "Merge"
   ],
   "cell_type": "markdown",
   "metadata": {}
  },
  {
   "cell_type": "code",
   "execution_count": 23,
   "metadata": {},
   "outputs": [],
   "source": [
    "df = df_metrics.set_index('hash').join(df.set_index('hash'), how = 'inner')"
   ]
  },
  {
   "cell_type": "code",
   "execution_count": 24,
   "metadata": {},
   "outputs": [],
   "source": [
    "df = df.reset_index()"
   ]
  },
  {
   "cell_type": "code",
   "execution_count": 25,
   "metadata": {},
   "outputs": [
    {
     "output_type": "execute_result",
     "data": {
      "text/plain": [
       "22029"
      ]
     },
     "metadata": {},
     "execution_count": 25
    }
   ],
   "source": [
    "len(df)"
   ]
  },
  {
   "cell_type": "code",
   "execution_count": 26,
   "metadata": {},
   "outputs": [],
   "source": [
    "review_vars = [\n",
    "    'num_votes',\n",
    "    'num_comments',\n",
    "    'pct_pos'\n",
    "]"
   ]
  },
  {
   "cell_type": "code",
   "execution_count": 27,
   "metadata": {},
   "outputs": [],
   "source": [
    "social_vars = [\n",
    "    'pct_pos_prior_pos',\n",
    "    'pct_pos_prior_neg',\n",
    "    'avg_pos_prior_num_votes',\n",
    "    'avg_pos_prior_num_comments',\n",
    "    'pct_pos_prior_pos_core',\n",
    "    'pct_pos_prior_neg_core'\n",
    "]"
   ]
  },
  {
   "cell_type": "code",
   "execution_count": 28,
   "metadata": {},
   "outputs": [],
   "source": [
    "df = df[id_vars + patch_vars + review_vars + social_vars + [target_var]]"
   ]
  },
  {
   "cell_type": "code",
   "execution_count": 29,
   "metadata": {},
   "outputs": [
    {
     "output_type": "execute_result",
     "data": {
      "text/plain": [
       "Index(['hash', 'change_id', 'project', 'num_lines_added', 'num_lines_deleted',\n",
       "       'num_lines_of_code', 'num_file_impacted', 'num_dirs_impacted',\n",
       "       'mean_complexity', 'entropy', 'bug_fixing', 'description_length',\n",
       "       'num_prior_commits', 'num_prior_commits_bug_fixing', 'avg_prior_age',\n",
       "       'author_is_core', 'author_is_exp_author', 'author_is_exp_reviewer',\n",
       "       'num_votes', 'num_comments', 'pct_pos', 'pct_pos_prior_pos',\n",
       "       'pct_pos_prior_neg', 'avg_pos_prior_num_votes',\n",
       "       'avg_pos_prior_num_comments', 'pct_pos_prior_pos_core',\n",
       "       'pct_pos_prior_neg_core', 'fix_inducing'],\n",
       "      dtype='object')"
      ]
     },
     "metadata": {},
     "execution_count": 29
    }
   ],
   "source": [
    "df.columns"
   ]
  },
  {
   "cell_type": "code",
   "execution_count": 30,
   "metadata": {},
   "outputs": [],
   "source": [
    "df.to_csv(f'../data/rq2/rq2_all.csv', index = False)"
   ]
  },
  {
   "cell_type": "code",
   "execution_count": 31,
   "metadata": {},
   "outputs": [],
   "source": [
    "num_cols = [\n",
    "    'num_lines_added',\n",
    "    'num_lines_deleted',\n",
    "    'num_lines_of_code',\n",
    "    'num_file_impacted',\n",
    "    'num_dirs_impacted',\n",
    "    'mean_complexity',\n",
    "    'entropy',\n",
    "    'description_length',\n",
    "    'num_prior_commits',\n",
    "    'num_prior_commits_bug_fixing',\n",
    "    'avg_prior_age',\n",
    "    'num_votes',\n",
    "    'num_comments',\n",
    "    'avg_pos_prior_num_votes',\n",
    "    'avg_pos_prior_num_comments'\n",
    "]"
   ]
  },
  {
   "cell_type": "code",
   "execution_count": 32,
   "metadata": {},
   "outputs": [],
   "source": [
    "for c in num_cols:\n",
    "    df[c] = (df[c] - df[c].min()) / (df[c].max() - df[c].min())"
   ]
  },
  {
   "cell_type": "code",
   "execution_count": 33,
   "metadata": {},
   "outputs": [],
   "source": [
    "df.to_csv('../data/rq2/rq2_all_norm.csv', index=False)"
   ]
  },
  {
   "cell_type": "code",
   "execution_count": 34,
   "metadata": {},
   "outputs": [
    {
     "output_type": "execute_result",
     "data": {
      "text/plain": [
       "                                count      mean       std       min  \\\n",
       "num_lines_added               22029.0  0.001030  0.008868  0.000000   \n",
       "num_lines_deleted             22029.0  0.000166  0.008637  0.000000   \n",
       "num_lines_of_code             22029.0  0.002588  0.010215  0.000000   \n",
       "num_file_impacted             22029.0  0.003386  0.011736  0.000000   \n",
       "num_dirs_impacted             22029.0  0.008979  0.015693  0.000000   \n",
       "mean_complexity               22029.0  0.078715  0.094522  0.000000   \n",
       "entropy                       22029.0  0.503088  0.400594  0.000000   \n",
       "bug_fixing                    22029.0  0.649371  0.477178  0.000000   \n",
       "description_length            22029.0  0.040376  0.034970  0.000000   \n",
       "num_prior_commits             22029.0  0.004897  0.014605  0.000000   \n",
       "num_prior_commits_bug_fixing  22029.0  0.003361  0.012248  0.000000   \n",
       "avg_prior_age                 22029.0  0.142947  0.119456  0.000000   \n",
       "author_is_core                22029.0  0.127695  0.333758  0.000000   \n",
       "author_is_exp_author          22029.0  0.092242  0.289374  0.000000   \n",
       "author_is_exp_reviewer        22029.0  0.061782  0.240765  0.000000   \n",
       "num_votes                     22029.0  0.124827  0.102969  0.000000   \n",
       "num_comments                  22029.0  0.016681  0.032483  0.000000   \n",
       "pct_pos                       22029.0  0.922838  0.142010  0.133333   \n",
       "pct_pos_prior_pos             22029.0  0.736085  0.212862  0.000000   \n",
       "pct_pos_prior_neg             22029.0  0.310197  0.420715  0.000000   \n",
       "avg_pos_prior_num_votes       22029.0  0.095945  0.090669  0.000000   \n",
       "avg_pos_prior_num_comments    22029.0  0.014105  0.028148  0.000000   \n",
       "pct_pos_prior_pos_core        22029.0  0.309457  0.332980  0.000000   \n",
       "pct_pos_prior_neg_core        22029.0  0.108503  0.278444  0.000000   \n",
       "fix_inducing                  22029.0  0.561578  0.496205  0.000000   \n",
       "\n",
       "                                       25%       50%       75%  max  \n",
       "num_lines_added               2.723979e-05  0.000163  0.000608  1.0  \n",
       "num_lines_deleted             9.435378e-07  0.000005  0.000022  1.0  \n",
       "num_lines_of_code             3.045201e-04  0.000974  0.002730  1.0  \n",
       "num_file_impacted             7.347539e-04  0.001470  0.002939  1.0  \n",
       "num_dirs_impacted             3.134796e-03  0.006270  0.009404  1.0  \n",
       "mean_complexity               1.393110e-02  0.051672  0.108409  1.0  \n",
       "entropy                       0.000000e+00  0.651672  0.870151  1.0  \n",
       "bug_fixing                    0.000000e+00  1.000000  1.000000  1.0  \n",
       "description_length            1.920123e-02  0.032258  0.050691  1.0  \n",
       "num_prior_commits             1.136364e-03  0.001136  0.004545  1.0  \n",
       "num_prior_commits_bug_fixing  0.000000e+00  0.001468  0.002937  1.0  \n",
       "avg_prior_age                 5.156191e-02  0.102371  0.190440  1.0  \n",
       "author_is_core                0.000000e+00  0.000000  0.000000  1.0  \n",
       "author_is_exp_author          0.000000e+00  0.000000  0.000000  1.0  \n",
       "author_is_exp_reviewer        0.000000e+00  0.000000  0.000000  1.0  \n",
       "num_votes                     6.451613e-02  0.096774  0.161290  1.0  \n",
       "num_comments                  2.088929e-03  0.006565  0.017308  1.0  \n",
       "pct_pos                       8.750000e-01  1.000000  1.000000  1.0  \n",
       "pct_pos_prior_pos             6.666667e-01  0.750000  0.888889  1.0  \n",
       "pct_pos_prior_neg             0.000000e+00  0.000000  0.750000  1.0  \n",
       "avg_pos_prior_num_votes       3.809524e-02  0.066667  0.126984  1.0  \n",
       "avg_pos_prior_num_comments    1.697115e-03  0.005391  0.014675  1.0  \n",
       "pct_pos_prior_pos_core        0.000000e+00  0.200000  0.600000  1.0  \n",
       "pct_pos_prior_neg_core        0.000000e+00  0.000000  0.000000  1.0  \n",
       "fix_inducing                  0.000000e+00  1.000000  1.000000  1.0  "
      ],
      "text/html": "<div>\n<style scoped>\n    .dataframe tbody tr th:only-of-type {\n        vertical-align: middle;\n    }\n\n    .dataframe tbody tr th {\n        vertical-align: top;\n    }\n\n    .dataframe thead th {\n        text-align: right;\n    }\n</style>\n<table border=\"1\" class=\"dataframe\">\n  <thead>\n    <tr style=\"text-align: right;\">\n      <th></th>\n      <th>count</th>\n      <th>mean</th>\n      <th>std</th>\n      <th>min</th>\n      <th>25%</th>\n      <th>50%</th>\n      <th>75%</th>\n      <th>max</th>\n    </tr>\n  </thead>\n  <tbody>\n    <tr>\n      <th>num_lines_added</th>\n      <td>22029.0</td>\n      <td>0.001030</td>\n      <td>0.008868</td>\n      <td>0.000000</td>\n      <td>2.723979e-05</td>\n      <td>0.000163</td>\n      <td>0.000608</td>\n      <td>1.0</td>\n    </tr>\n    <tr>\n      <th>num_lines_deleted</th>\n      <td>22029.0</td>\n      <td>0.000166</td>\n      <td>0.008637</td>\n      <td>0.000000</td>\n      <td>9.435378e-07</td>\n      <td>0.000005</td>\n      <td>0.000022</td>\n      <td>1.0</td>\n    </tr>\n    <tr>\n      <th>num_lines_of_code</th>\n      <td>22029.0</td>\n      <td>0.002588</td>\n      <td>0.010215</td>\n      <td>0.000000</td>\n      <td>3.045201e-04</td>\n      <td>0.000974</td>\n      <td>0.002730</td>\n      <td>1.0</td>\n    </tr>\n    <tr>\n      <th>num_file_impacted</th>\n      <td>22029.0</td>\n      <td>0.003386</td>\n      <td>0.011736</td>\n      <td>0.000000</td>\n      <td>7.347539e-04</td>\n      <td>0.001470</td>\n      <td>0.002939</td>\n      <td>1.0</td>\n    </tr>\n    <tr>\n      <th>num_dirs_impacted</th>\n      <td>22029.0</td>\n      <td>0.008979</td>\n      <td>0.015693</td>\n      <td>0.000000</td>\n      <td>3.134796e-03</td>\n      <td>0.006270</td>\n      <td>0.009404</td>\n      <td>1.0</td>\n    </tr>\n    <tr>\n      <th>mean_complexity</th>\n      <td>22029.0</td>\n      <td>0.078715</td>\n      <td>0.094522</td>\n      <td>0.000000</td>\n      <td>1.393110e-02</td>\n      <td>0.051672</td>\n      <td>0.108409</td>\n      <td>1.0</td>\n    </tr>\n    <tr>\n      <th>entropy</th>\n      <td>22029.0</td>\n      <td>0.503088</td>\n      <td>0.400594</td>\n      <td>0.000000</td>\n      <td>0.000000e+00</td>\n      <td>0.651672</td>\n      <td>0.870151</td>\n      <td>1.0</td>\n    </tr>\n    <tr>\n      <th>bug_fixing</th>\n      <td>22029.0</td>\n      <td>0.649371</td>\n      <td>0.477178</td>\n      <td>0.000000</td>\n      <td>0.000000e+00</td>\n      <td>1.000000</td>\n      <td>1.000000</td>\n      <td>1.0</td>\n    </tr>\n    <tr>\n      <th>description_length</th>\n      <td>22029.0</td>\n      <td>0.040376</td>\n      <td>0.034970</td>\n      <td>0.000000</td>\n      <td>1.920123e-02</td>\n      <td>0.032258</td>\n      <td>0.050691</td>\n      <td>1.0</td>\n    </tr>\n    <tr>\n      <th>num_prior_commits</th>\n      <td>22029.0</td>\n      <td>0.004897</td>\n      <td>0.014605</td>\n      <td>0.000000</td>\n      <td>1.136364e-03</td>\n      <td>0.001136</td>\n      <td>0.004545</td>\n      <td>1.0</td>\n    </tr>\n    <tr>\n      <th>num_prior_commits_bug_fixing</th>\n      <td>22029.0</td>\n      <td>0.003361</td>\n      <td>0.012248</td>\n      <td>0.000000</td>\n      <td>0.000000e+00</td>\n      <td>0.001468</td>\n      <td>0.002937</td>\n      <td>1.0</td>\n    </tr>\n    <tr>\n      <th>avg_prior_age</th>\n      <td>22029.0</td>\n      <td>0.142947</td>\n      <td>0.119456</td>\n      <td>0.000000</td>\n      <td>5.156191e-02</td>\n      <td>0.102371</td>\n      <td>0.190440</td>\n      <td>1.0</td>\n    </tr>\n    <tr>\n      <th>author_is_core</th>\n      <td>22029.0</td>\n      <td>0.127695</td>\n      <td>0.333758</td>\n      <td>0.000000</td>\n      <td>0.000000e+00</td>\n      <td>0.000000</td>\n      <td>0.000000</td>\n      <td>1.0</td>\n    </tr>\n    <tr>\n      <th>author_is_exp_author</th>\n      <td>22029.0</td>\n      <td>0.092242</td>\n      <td>0.289374</td>\n      <td>0.000000</td>\n      <td>0.000000e+00</td>\n      <td>0.000000</td>\n      <td>0.000000</td>\n      <td>1.0</td>\n    </tr>\n    <tr>\n      <th>author_is_exp_reviewer</th>\n      <td>22029.0</td>\n      <td>0.061782</td>\n      <td>0.240765</td>\n      <td>0.000000</td>\n      <td>0.000000e+00</td>\n      <td>0.000000</td>\n      <td>0.000000</td>\n      <td>1.0</td>\n    </tr>\n    <tr>\n      <th>num_votes</th>\n      <td>22029.0</td>\n      <td>0.124827</td>\n      <td>0.102969</td>\n      <td>0.000000</td>\n      <td>6.451613e-02</td>\n      <td>0.096774</td>\n      <td>0.161290</td>\n      <td>1.0</td>\n    </tr>\n    <tr>\n      <th>num_comments</th>\n      <td>22029.0</td>\n      <td>0.016681</td>\n      <td>0.032483</td>\n      <td>0.000000</td>\n      <td>2.088929e-03</td>\n      <td>0.006565</td>\n      <td>0.017308</td>\n      <td>1.0</td>\n    </tr>\n    <tr>\n      <th>pct_pos</th>\n      <td>22029.0</td>\n      <td>0.922838</td>\n      <td>0.142010</td>\n      <td>0.133333</td>\n      <td>8.750000e-01</td>\n      <td>1.000000</td>\n      <td>1.000000</td>\n      <td>1.0</td>\n    </tr>\n    <tr>\n      <th>pct_pos_prior_pos</th>\n      <td>22029.0</td>\n      <td>0.736085</td>\n      <td>0.212862</td>\n      <td>0.000000</td>\n      <td>6.666667e-01</td>\n      <td>0.750000</td>\n      <td>0.888889</td>\n      <td>1.0</td>\n    </tr>\n    <tr>\n      <th>pct_pos_prior_neg</th>\n      <td>22029.0</td>\n      <td>0.310197</td>\n      <td>0.420715</td>\n      <td>0.000000</td>\n      <td>0.000000e+00</td>\n      <td>0.000000</td>\n      <td>0.750000</td>\n      <td>1.0</td>\n    </tr>\n    <tr>\n      <th>avg_pos_prior_num_votes</th>\n      <td>22029.0</td>\n      <td>0.095945</td>\n      <td>0.090669</td>\n      <td>0.000000</td>\n      <td>3.809524e-02</td>\n      <td>0.066667</td>\n      <td>0.126984</td>\n      <td>1.0</td>\n    </tr>\n    <tr>\n      <th>avg_pos_prior_num_comments</th>\n      <td>22029.0</td>\n      <td>0.014105</td>\n      <td>0.028148</td>\n      <td>0.000000</td>\n      <td>1.697115e-03</td>\n      <td>0.005391</td>\n      <td>0.014675</td>\n      <td>1.0</td>\n    </tr>\n    <tr>\n      <th>pct_pos_prior_pos_core</th>\n      <td>22029.0</td>\n      <td>0.309457</td>\n      <td>0.332980</td>\n      <td>0.000000</td>\n      <td>0.000000e+00</td>\n      <td>0.200000</td>\n      <td>0.600000</td>\n      <td>1.0</td>\n    </tr>\n    <tr>\n      <th>pct_pos_prior_neg_core</th>\n      <td>22029.0</td>\n      <td>0.108503</td>\n      <td>0.278444</td>\n      <td>0.000000</td>\n      <td>0.000000e+00</td>\n      <td>0.000000</td>\n      <td>0.000000</td>\n      <td>1.0</td>\n    </tr>\n    <tr>\n      <th>fix_inducing</th>\n      <td>22029.0</td>\n      <td>0.561578</td>\n      <td>0.496205</td>\n      <td>0.000000</td>\n      <td>0.000000e+00</td>\n      <td>1.000000</td>\n      <td>1.000000</td>\n      <td>1.0</td>\n    </tr>\n  </tbody>\n</table>\n</div>"
     },
     "metadata": {},
     "execution_count": 34
    }
   ],
   "source": [
    "df.describe().T"
   ]
  }
 ]
}