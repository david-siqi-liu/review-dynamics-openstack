{
 "metadata": {
  "language_info": {
   "codemirror_mode": {
    "name": "ipython",
    "version": 3
   },
   "file_extension": ".py",
   "mimetype": "text/x-python",
   "name": "python",
   "nbconvert_exporter": "python",
   "pygments_lexer": "ipython3",
   "version": "3.7.10-final"
  },
  "orig_nbformat": 2,
  "kernelspec": {
   "name": "python3",
   "display_name": "Python 3",
   "language": "python"
  }
 },
 "nbformat": 4,
 "nbformat_minor": 2,
 "cells": [
  {
   "cell_type": "code",
   "execution_count": 1,
   "metadata": {},
   "outputs": [],
   "source": [
    "%load_ext autoreload\n",
    "%autoreload 2\n",
    "\n",
    "import sys\n",
    "from tqdm.notebook import tqdm\n",
    "from time import sleep\n",
    "sys.path.append('../')\n",
    "from src.combined import *"
   ]
  },
  {
   "cell_type": "code",
   "execution_count": 2,
   "metadata": {},
   "outputs": [],
   "source": [
    "project = 'cinder'"
   ]
  },
  {
   "source": [
    "Load commits and reviewers"
   ],
   "cell_type": "markdown",
   "metadata": {}
  },
  {
   "cell_type": "code",
   "execution_count": 3,
   "metadata": {},
   "outputs": [],
   "source": [
    "df_commits = pd.read_csv(f'..\\data\\commits\\commits_{project}.csv')"
   ]
  },
  {
   "cell_type": "code",
   "execution_count": 4,
   "metadata": {},
   "outputs": [],
   "source": [
    "df_reviews = pd.read_csv(f'..\\data\\\\reviews\\\\reviews_{project}.csv')"
   ]
  },
  {
   "source": [
    "Keep only commits with reviews"
   ],
   "cell_type": "markdown",
   "metadata": {}
  },
  {
   "cell_type": "code",
   "execution_count": 5,
   "metadata": {},
   "outputs": [],
   "source": [
    "commits_without_reviews = df_commits.loc[~df_commits['hash'].isin(df_reviews['hash']), 'hash'].values"
   ]
  },
  {
   "cell_type": "code",
   "execution_count": 6,
   "metadata": {},
   "outputs": [
    {
     "output_type": "execute_result",
     "data": {
      "text/plain": [
       "15"
      ]
     },
     "metadata": {},
     "execution_count": 6
    }
   ],
   "source": [
    "len(commits_without_reviews)"
   ]
  },
  {
   "cell_type": "code",
   "execution_count": 7,
   "metadata": {},
   "outputs": [],
   "source": [
    "df_commits = df_commits.loc[df_commits['hash'].isin(df_reviews['hash'])]"
   ]
  },
  {
   "cell_type": "code",
   "execution_count": 8,
   "metadata": {},
   "outputs": [
    {
     "output_type": "execute_result",
     "data": {
      "text/plain": [
       "8520"
      ]
     },
     "metadata": {},
     "execution_count": 8
    }
   ],
   "source": [
    "len(df_commits)"
   ]
  },
  {
   "source": [
    "Re-format `prior_commits`"
   ],
   "cell_type": "markdown",
   "metadata": {}
  },
  {
   "cell_type": "code",
   "execution_count": 9,
   "metadata": {},
   "outputs": [],
   "source": [
    "df_commits['prior_commits'] = df_commits['prior_commits'].apply(\n",
    "    lambda x : [c for c in split_prior_commits(x) if c not in commits_without_reviews]\n",
    ")"
   ]
  },
  {
   "source": [
    "Join dataframes"
   ],
   "cell_type": "markdown",
   "metadata": {}
  },
  {
   "cell_type": "code",
   "execution_count": 10,
   "metadata": {},
   "outputs": [],
   "source": [
    "df = df_commits.set_index('hash').join(df_reviews.set_index('hash'), how = 'left')\n",
    "\n",
    "df = df.reset_index()"
   ]
  },
  {
   "cell_type": "code",
   "execution_count": 11,
   "metadata": {},
   "outputs": [
    {
     "output_type": "execute_result",
     "data": {
      "text/plain": [
       "38545"
      ]
     },
     "metadata": {},
     "execution_count": 11
    }
   ],
   "source": [
    "len(df)"
   ]
  },
  {
   "cell_type": "code",
   "execution_count": 12,
   "metadata": {},
   "outputs": [
    {
     "output_type": "execute_result",
     "data": {
      "text/plain": [
       "0"
      ]
     },
     "metadata": {},
     "execution_count": 12
    }
   ],
   "source": [
    "# Should be 0 since we already removed beforehand\n",
    "len(df.loc[df['change_id'].isnull()])"
   ]
  },
  {
   "source": [
    "Compute expertise for author and reviewers"
   ],
   "cell_type": "markdown",
   "metadata": {}
  },
  {
   "cell_type": "code",
   "execution_count": 13,
   "metadata": {},
   "outputs": [],
   "source": [
    "df['pct_prior_commits_author_authored'] = np.nan\n",
    "df['pct_prior_commits_author_reviewed'] = np.nan\n",
    "df['pct_prior_commits_reviewer_authored'] = np.nan\n",
    "df['pct_prior_commits_reviewer_reviewed'] = np.nan"
   ]
  },
  {
   "cell_type": "code",
   "execution_count": 14,
   "metadata": {},
   "outputs": [
    {
     "output_type": "display_data",
     "data": {
      "text/plain": "  0%|          | 0/38545 [00:00<?, ?it/s]",
      "application/vnd.jupyter.widget-view+json": {
       "version_major": 2,
       "version_minor": 0,
       "model_id": "19b7773028ac4a47bb0900a01161a931"
      }
     },
     "metadata": {}
    }
   ],
   "source": [
    "with tqdm(total = len(df)) as pbar:\n",
    "    for idx, row in df.iterrows():\n",
    "        pbar.set_postfix({'hash' : row['hash'], 'reviewer' : row['reviewer_name']})\n",
    "        prior_commits = row['prior_commits']\n",
    "        # No prior commit\n",
    "        if len(prior_commits) == 0:\n",
    "            pbar.update(1)\n",
    "            sleep(0.001)\n",
    "            continue\n",
    "        # Initialize counters\n",
    "        prior_authors_count = Counter()\n",
    "        prior_reviewers_count = Counter()\n",
    "        # Iterate through each prior commit\n",
    "        for prior_commit in prior_commits:\n",
    "            # Get the author\n",
    "            prior_author = df_commits.loc[df_commits['hash'] == prior_commit, 'author_name'].values[0]\n",
    "            # Increment count\n",
    "            prior_authors_count[prior_author] += 1\n",
    "            # Get the reviewers\n",
    "            prior_reviewers = df_reviews.loc[df_reviews['hash'] == prior_commit, 'reviewer_name'].values\n",
    "            # Increment counts\n",
    "            for prior_reviewer in prior_reviewers:\n",
    "                prior_reviewers_count[prior_reviewer] += 1\n",
    "        # Calculate percentages for the author\n",
    "        author = row['author_name']\n",
    "        pct_prior_commits_author_authored = prior_authors_count[author] / len(prior_commits)\n",
    "        assert 0 <= pct_prior_commits_author_authored <= 1\n",
    "        pct_prior_commits_author_reviewed = prior_reviewers_count[author] / len(prior_commits)\n",
    "        assert 0 <= pct_prior_commits_author_reviewed <= 1\n",
    "        # Calculate percentages for the reviewer\n",
    "        reviewer = row['reviewer_name']\n",
    "        pct_prior_commits_reviewer_authored = prior_authors_count[reviewer] / len(prior_commits)\n",
    "        assert 0 <= pct_prior_commits_reviewer_authored <= 1\n",
    "        pct_prior_commits_reviewer_reviewed = prior_reviewers_count[reviewer] / len(prior_commits)\n",
    "        assert 0 <= pct_prior_commits_reviewer_reviewed <= 1\n",
    "        # Update values\n",
    "        df.at[idx, 'pct_prior_commits_author_authored'] = pct_prior_commits_author_authored\n",
    "        df.at[idx, 'pct_prior_commits_author_reviewed'] = pct_prior_commits_author_reviewed\n",
    "        df.at[idx, 'pct_prior_commits_reviewer_authored'] = pct_prior_commits_reviewer_authored\n",
    "        df.at[idx, 'pct_prior_commits_reviewer_reviewed'] = pct_prior_commits_reviewer_reviewed\n",
    "        # Progress bar\n",
    "        pbar.update(1)\n",
    "        sleep(0.001)"
   ]
  },
  {
   "source": [
    "Save output"
   ],
   "cell_type": "markdown",
   "metadata": {}
  },
  {
   "cell_type": "code",
   "execution_count": 15,
   "metadata": {},
   "outputs": [],
   "source": [
    "df.drop(columns = ['prior_commits']).to_csv(f'..\\data\\\\rq1\\\\rq1_{project}.csv', index = False)"
   ]
  }
 ]
}