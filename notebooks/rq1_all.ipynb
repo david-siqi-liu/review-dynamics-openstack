{
 "metadata": {
  "language_info": {
   "codemirror_mode": {
    "name": "ipython",
    "version": 3
   },
   "file_extension": ".py",
   "mimetype": "text/x-python",
   "name": "python",
   "nbconvert_exporter": "python",
   "pygments_lexer": "ipython3",
   "version": "3.6.8-final"
  },
  "orig_nbformat": 2,
  "kernelspec": {
   "name": "python3",
   "display_name": "Python 3",
   "language": "python"
  }
 },
 "nbformat": 4,
 "nbformat_minor": 2,
 "cells": [
  {
   "cell_type": "code",
   "execution_count": 1,
   "metadata": {},
   "outputs": [],
   "source": [
    "import json\n",
    "import pandas as pd"
   ]
  },
  {
   "cell_type": "code",
   "execution_count": 2,
   "metadata": {},
   "outputs": [],
   "source": [
    "dfs = []"
   ]
  },
  {
   "cell_type": "code",
   "execution_count": 3,
   "metadata": {},
   "outputs": [],
   "source": [
    "for project in ['cinder', 'glance', 'neutron']:\n",
    "    df = pd.read_csv(f'../data/rq1/rq1_{project}.csv')\n",
    "    df['project'] = project\n",
    "    dfs.append(df)"
   ]
  },
  {
   "cell_type": "code",
   "execution_count": 4,
   "metadata": {},
   "outputs": [],
   "source": [
    "df = pd.concat(dfs, ignore_index=True)"
   ]
  },
  {
   "cell_type": "code",
   "execution_count": 5,
   "metadata": {},
   "outputs": [
    {
     "output_type": "execute_result",
     "data": {
      "text/plain": [
       "107300"
      ]
     },
     "metadata": {},
     "execution_count": 5
    }
   ],
   "source": [
    "len(df)"
   ]
  },
  {
   "source": [
    "## Patch - make experience variables"
   ],
   "cell_type": "markdown",
   "metadata": {}
  },
  {
   "cell_type": "code",
   "execution_count": 6,
   "metadata": {},
   "outputs": [],
   "source": [
    "df['author_is_exp_author'] = df['pct_prior_commits_author_authored'] > 0.05\n",
    "df['author_is_exp_reviewer'] = df['pct_prior_commits_author_reviewed'] > 0.05"
   ]
  },
  {
   "cell_type": "code",
   "execution_count": 7,
   "metadata": {},
   "outputs": [],
   "source": [
    "df['reviewer_is_exp_author'] = df['pct_prior_commits_reviewer_authored'] > 0\n",
    "df['reviewer_is_exp_reviewer'] = df['pct_prior_commits_reviewer_reviewed'] > 0"
   ]
  },
  {
   "cell_type": "code",
   "execution_count": 8,
   "metadata": {},
   "outputs": [],
   "source": [
    "df = df.drop(columns=[\n",
    "    'pct_prior_commits_author_authored',\n",
    "    'pct_prior_commits_author_reviewed',\n",
    "    'pct_prior_commits_reviewer_authored',\n",
    "    'pct_prior_commits_reviewer_reviewed'\n",
    "])"
   ]
  },
  {
   "source": [
    "## Patch - fill in `author_is_core`"
   ],
   "cell_type": "markdown",
   "metadata": {}
  },
  {
   "cell_type": "code",
   "execution_count": 9,
   "metadata": {},
   "outputs": [],
   "source": [
    "with open('../data/core_devs.json', 'r') as j:\n",
    "    CORE_DEVS = json.loads(j.read())"
   ]
  },
  {
   "cell_type": "code",
   "execution_count": 10,
   "metadata": {},
   "outputs": [
    {
     "output_type": "execute_result",
     "data": {
      "text/plain": [
       "{'cinder': ['Brian Rosmaita',\n",
       "  'Eric Harney',\n",
       "  'Gorka Eguileor',\n",
       "  'Ivan Kolodyazhny',\n",
       "  'Jay Bryant',\n",
       "  'Lucio Seki',\n",
       "  'Rajat Dhasmana',\n",
       "  'Sean McGinnis',\n",
       "  'Hemna'],\n",
       " 'glance': ['Abhishek Kekane',\n",
       "  'Brian Rosmaita',\n",
       "  'Dan Smith',\n",
       "  'Glance Bot',\n",
       "  'Nikhil Komawar',\n",
       "  'Sean McGinnis'],\n",
       " 'neutron': ['Akihiro Motoki',\n",
       "  'Brian Haley',\n",
       "  'Hongbin Lu',\n",
       "  'Jakub Libosvar',\n",
       "  'Lajos Katona',\n",
       "  'Miguel Lavalle',\n",
       "  'Nate Johnston',\n",
       "  'Oleg Bondarev',\n",
       "  'Rodolfo Alonso',\n",
       "  'Slawek Kaplonski',\n",
       "  'YAMAMOTO Takashi',\n",
       "  'LIU Yulong'],\n",
       " 'nova': ['Alex Xu',\n",
       "  'Balazs Gibizer',\n",
       "  'Dan Smith',\n",
       "  'Eric Fried',\n",
       "  'Ghanshyam',\n",
       "  'John Garbutt',\n",
       "  'Lee Yarwood',\n",
       "  'stephenfin',\n",
       "  'Sylvain Bauza',\n",
       "  'melwitt']}"
      ]
     },
     "metadata": {},
     "execution_count": 10
    }
   ],
   "source": [
    "CORE_DEVS"
   ]
  },
  {
   "cell_type": "code",
   "execution_count": 11,
   "metadata": {},
   "outputs": [],
   "source": [
    "for idx, row in df.iterrows():\n",
    "    project = row['project']\n",
    "    project_core_devs = CORE_DEVS[project]\n",
    "    author = row['author_name']\n",
    "    if author in project_core_devs:\n",
    "        df.at[idx, 'author_is_core'] = True\n",
    "    else:\n",
    "        df.at[idx, 'author_is_core'] = False"
   ]
  },
  {
   "cell_type": "code",
   "execution_count": 12,
   "metadata": {},
   "outputs": [
    {
     "output_type": "execute_result",
     "data": {
      "text/plain": [
       "False    94930\n",
       "True     12370\n",
       "Name: author_is_core, dtype: int64"
      ]
     },
     "metadata": {},
     "execution_count": 12
    }
   ],
   "source": [
    "df['author_is_core'].value_counts()"
   ]
  },
  {
   "source": [
    "## Make target variable"
   ],
   "cell_type": "markdown",
   "metadata": {}
  },
  {
   "cell_type": "code",
   "execution_count": 13,
   "metadata": {},
   "outputs": [
    {
     "output_type": "execute_result",
     "data": {
      "text/plain": [
       " 2    47922\n",
       " 1    47843\n",
       "-1    10804\n",
       "-2      731\n",
       "Name: reviewer_vote, dtype: int64"
      ]
     },
     "metadata": {},
     "execution_count": 13
    }
   ],
   "source": [
    "df['reviewer_vote'].value_counts()"
   ]
  },
  {
   "cell_type": "code",
   "execution_count": 14,
   "metadata": {},
   "outputs": [],
   "source": [
    "df['pos_vote'] = df['reviewer_vote'] > 0"
   ]
  },
  {
   "cell_type": "code",
   "execution_count": 15,
   "metadata": {},
   "outputs": [
    {
     "output_type": "execute_result",
     "data": {
      "text/plain": [
       "True     95765\n",
       "False    11535\n",
       "Name: pos_vote, dtype: int64"
      ]
     },
     "metadata": {},
     "execution_count": 15
    }
   ],
   "source": [
    "df['pos_vote'].value_counts()"
   ]
  },
  {
   "source": [
    "## Make binary variables 1/0"
   ],
   "cell_type": "markdown",
   "metadata": {}
  },
  {
   "cell_type": "code",
   "execution_count": 16,
   "metadata": {},
   "outputs": [],
   "source": [
    "binary_cols = [\n",
    "    'bug_fixing',\n",
    "    'fix_inducing',\n",
    "    'author_is_core',\n",
    "    'reviewer_is_core',\n",
    "    'pos_vote', \n",
    "    'author_is_exp_author',\n",
    "    'author_is_exp_reviewer',\n",
    "    'reviewer_is_exp_author',\n",
    "    'reviewer_is_exp_reviewer'\n",
    "]"
   ]
  },
  {
   "cell_type": "code",
   "execution_count": 17,
   "metadata": {},
   "outputs": [
    {
     "output_type": "stream",
     "name": "stdout",
     "text": [
      "True     71432\nFalse    35868\nName: bug_fixing, dtype: int64\nTrue     66018\nFalse    41282\nName: fix_inducing, dtype: int64\nFalse    94930\nTrue     12370\nName: author_is_core, dtype: int64\nFalse    84335\nTrue     22965\nName: reviewer_is_core, dtype: int64\nTrue     95765\nFalse    11535\nName: pos_vote, dtype: int64\nFalse    98903\nTrue      8397\nName: author_is_exp_author, dtype: int64\nFalse    101638\nTrue       5662\nName: author_is_exp_reviewer, dtype: int64\nFalse    106032\nTrue       1268\nName: reviewer_is_exp_author, dtype: int64\nFalse    95801\nTrue     11499\nName: reviewer_is_exp_reviewer, dtype: int64\n"
     ]
    }
   ],
   "source": [
    "for c in binary_cols:\n",
    "    print(df[c].value_counts())"
   ]
  },
  {
   "cell_type": "code",
   "execution_count": 18,
   "metadata": {},
   "outputs": [],
   "source": [
    "for c in binary_cols:\n",
    "    df[c] = df[c].astype(int)"
   ]
  },
  {
   "cell_type": "code",
   "execution_count": 19,
   "metadata": {},
   "outputs": [
    {
     "output_type": "stream",
     "name": "stdout",
     "text": [
      "1    71432\n0    35868\nName: bug_fixing, dtype: int64\n1    66018\n0    41282\nName: fix_inducing, dtype: int64\n0    94930\n1    12370\nName: author_is_core, dtype: int64\n0    84335\n1    22965\nName: reviewer_is_core, dtype: int64\n1    95765\n0    11535\nName: pos_vote, dtype: int64\n0    98903\n1     8397\nName: author_is_exp_author, dtype: int64\n0    101638\n1      5662\nName: author_is_exp_reviewer, dtype: int64\n0    106032\n1      1268\nName: reviewer_is_exp_author, dtype: int64\n0    95801\n1    11499\nName: reviewer_is_exp_reviewer, dtype: int64\n"
     ]
    }
   ],
   "source": [
    "for c in binary_cols:\n",
    "    print(df[c].value_counts())"
   ]
  },
  {
   "source": [
    "## Export"
   ],
   "cell_type": "markdown",
   "metadata": {}
  },
  {
   "cell_type": "code",
   "execution_count": 20,
   "metadata": {},
   "outputs": [
    {
     "output_type": "execute_result",
     "data": {
      "text/plain": [
       "                                   count         mean          std    min  \\\n",
       "num_lines_added                 107300.0   134.446347   884.733974    0.0   \n",
       "num_lines_deleted               107300.0   127.558052  7027.968578    0.0   \n",
       "num_lines_of_code               107300.0  2462.982889  7442.339279    0.0   \n",
       "num_file_impacted               107300.0     5.179776    16.725542    0.0   \n",
       "num_dirs_impacted               107300.0     3.252721     5.734251    0.0   \n",
       "min_complexity                  107300.0    48.586999    78.575332    0.0   \n",
       "mean_complexity                 107300.0    81.629744    91.198439    0.0   \n",
       "max_complexity                  107300.0   136.870587   148.096808    0.0   \n",
       "entropy                         107300.0     0.542703     0.386030    0.0   \n",
       "bug_fixing                      107300.0     0.665722     0.471740    0.0   \n",
       "description_length              107300.0    61.032349    49.267821    4.0   \n",
       "num_prior_commits               107300.0     4.973588    13.352346    0.0   \n",
       "avg_prior_age                   107300.0   275.193127   304.150742 -116.0   \n",
       "num_prior_commits_bug_fixing    107300.0     2.685536     8.542385    0.0   \n",
       "num_future_commits_bug_fixing   107300.0     2.854744     6.588340    0.0   \n",
       "fix_inducing                    107300.0     0.615266     0.486535    0.0   \n",
       "reviewer_id                     107300.0  8022.878677  6161.618331    1.0   \n",
       "reviewer_vote                   107300.0     1.224800     0.927450   -2.0   \n",
       "reviewer_is_core                107300.0     0.214026     0.410147    0.0   \n",
       "num_prior_comments              107300.0    68.200121   124.845839    0.0   \n",
       "pct_prior_comments_by_reviewer  107300.0     0.015319     0.071690    0.0   \n",
       "num_prior_votes                 107300.0     3.764958     3.740330    0.0   \n",
       "pct_prior_pos_votes             107300.0     0.663159     0.394409    0.0   \n",
       "pct_prior_neg_votes             107300.0     0.195387     0.298980    0.0   \n",
       "pct_prior_pos_votes_core        107300.0     0.153940     0.273955    0.0   \n",
       "pct_prior_neg_votes_core        107300.0     0.087107     0.246039    0.0   \n",
       "reviewer_freq                   107300.0     0.212223     0.276034    0.0   \n",
       "author_is_exp_author            107300.0     0.078257     0.268577    0.0   \n",
       "author_is_exp_reviewer          107300.0     0.052768     0.223571    0.0   \n",
       "reviewer_is_exp_author          107300.0     0.011817     0.108064    0.0   \n",
       "reviewer_is_exp_reviewer        107300.0     0.107167     0.309327    0.0   \n",
       "author_is_core                  107300.0     0.115284     0.319366    0.0   \n",
       "pos_vote                        107300.0     0.892498     0.309752    0.0   \n",
       "\n",
       "                                        25%          50%           75%  \\\n",
       "num_lines_added                    5.000000    25.000000     88.000000   \n",
       "num_lines_deleted                  1.000000     6.000000     27.000000   \n",
       "num_lines_of_code                321.000000  1042.000000   2767.000000   \n",
       "num_file_impacted                  1.000000     2.000000      5.000000   \n",
       "num_dirs_impacted                  1.000000     2.000000      3.000000   \n",
       "min_complexity                     3.000000    19.000000     61.000000   \n",
       "mean_complexity                   19.272727    56.666667    112.666667   \n",
       "max_complexity                    26.000000    94.000000    197.000000   \n",
       "entropy                            0.000000     0.694220      0.875624   \n",
       "bug_fixing                         0.000000     1.000000      1.000000   \n",
       "description_length                32.000000    49.000000     75.000000   \n",
       "num_prior_commits                  1.000000     2.000000      5.000000   \n",
       "avg_prior_age                     34.295455   185.000000    411.333333   \n",
       "num_prior_commits_bug_fixing       0.000000     1.000000      2.000000   \n",
       "num_future_commits_bug_fixing      0.000000     1.000000      3.000000   \n",
       "fix_inducing                       0.000000     1.000000      1.000000   \n",
       "reviewer_id                     2592.000000  7198.000000  11679.000000   \n",
       "reviewer_vote                      1.000000     1.000000      2.000000   \n",
       "reviewer_is_core                   0.000000     0.000000      0.000000   \n",
       "num_prior_comments                 8.000000    27.000000     74.000000   \n",
       "pct_prior_comments_by_reviewer     0.000000     0.000000      0.000000   \n",
       "num_prior_votes                    1.000000     3.000000      5.000000   \n",
       "pct_prior_pos_votes                0.333333     0.833333      1.000000   \n",
       "pct_prior_neg_votes                0.000000     0.000000      0.333333   \n",
       "pct_prior_pos_votes_core           0.000000     0.000000      0.222222   \n",
       "pct_prior_neg_votes_core           0.000000     0.000000      0.000000   \n",
       "reviewer_freq                      0.000000     0.090909      0.333333   \n",
       "author_is_exp_author               0.000000     0.000000      0.000000   \n",
       "author_is_exp_reviewer             0.000000     0.000000      0.000000   \n",
       "reviewer_is_exp_author             0.000000     0.000000      0.000000   \n",
       "reviewer_is_exp_reviewer           0.000000     0.000000      0.000000   \n",
       "author_is_core                     0.000000     0.000000      0.000000   \n",
       "pos_vote                           1.000000     1.000000      1.000000   \n",
       "\n",
       "                                      max  \n",
       "num_lines_added                  110133.0  \n",
       "num_lines_deleted               1059841.0  \n",
       "num_lines_of_code                840667.0  \n",
       "num_file_impacted                  1361.0  \n",
       "num_dirs_impacted                   319.0  \n",
       "min_complexity                      974.0  \n",
       "mean_complexity                     987.0  \n",
       "max_complexity                     1000.0  \n",
       "entropy                               1.0  \n",
       "bug_fixing                            1.0  \n",
       "description_length                 1306.0  \n",
       "num_prior_commits                   880.0  \n",
       "avg_prior_age                      2541.0  \n",
       "num_prior_commits_bug_fixing        681.0  \n",
       "num_future_commits_bug_fixing       312.0  \n",
       "fix_inducing                          1.0  \n",
       "reviewer_id                       30498.0  \n",
       "reviewer_vote                         2.0  \n",
       "reviewer_is_core                      1.0  \n",
       "num_prior_comments                 3351.0  \n",
       "pct_prior_comments_by_reviewer        1.0  \n",
       "num_prior_votes                      31.0  \n",
       "pct_prior_pos_votes                   1.0  \n",
       "pct_prior_neg_votes                   1.0  \n",
       "pct_prior_pos_votes_core              1.0  \n",
       "pct_prior_neg_votes_core              1.0  \n",
       "reviewer_freq                         1.0  \n",
       "author_is_exp_author                  1.0  \n",
       "author_is_exp_reviewer                1.0  \n",
       "reviewer_is_exp_author                1.0  \n",
       "reviewer_is_exp_reviewer              1.0  \n",
       "author_is_core                        1.0  \n",
       "pos_vote                              1.0  "
      ],
      "text/html": "<div>\n<style scoped>\n    .dataframe tbody tr th:only-of-type {\n        vertical-align: middle;\n    }\n\n    .dataframe tbody tr th {\n        vertical-align: top;\n    }\n\n    .dataframe thead th {\n        text-align: right;\n    }\n</style>\n<table border=\"1\" class=\"dataframe\">\n  <thead>\n    <tr style=\"text-align: right;\">\n      <th></th>\n      <th>count</th>\n      <th>mean</th>\n      <th>std</th>\n      <th>min</th>\n      <th>25%</th>\n      <th>50%</th>\n      <th>75%</th>\n      <th>max</th>\n    </tr>\n  </thead>\n  <tbody>\n    <tr>\n      <th>num_lines_added</th>\n      <td>107300.0</td>\n      <td>134.446347</td>\n      <td>884.733974</td>\n      <td>0.0</td>\n      <td>5.000000</td>\n      <td>25.000000</td>\n      <td>88.000000</td>\n      <td>110133.0</td>\n    </tr>\n    <tr>\n      <th>num_lines_deleted</th>\n      <td>107300.0</td>\n      <td>127.558052</td>\n      <td>7027.968578</td>\n      <td>0.0</td>\n      <td>1.000000</td>\n      <td>6.000000</td>\n      <td>27.000000</td>\n      <td>1059841.0</td>\n    </tr>\n    <tr>\n      <th>num_lines_of_code</th>\n      <td>107300.0</td>\n      <td>2462.982889</td>\n      <td>7442.339279</td>\n      <td>0.0</td>\n      <td>321.000000</td>\n      <td>1042.000000</td>\n      <td>2767.000000</td>\n      <td>840667.0</td>\n    </tr>\n    <tr>\n      <th>num_file_impacted</th>\n      <td>107300.0</td>\n      <td>5.179776</td>\n      <td>16.725542</td>\n      <td>0.0</td>\n      <td>1.000000</td>\n      <td>2.000000</td>\n      <td>5.000000</td>\n      <td>1361.0</td>\n    </tr>\n    <tr>\n      <th>num_dirs_impacted</th>\n      <td>107300.0</td>\n      <td>3.252721</td>\n      <td>5.734251</td>\n      <td>0.0</td>\n      <td>1.000000</td>\n      <td>2.000000</td>\n      <td>3.000000</td>\n      <td>319.0</td>\n    </tr>\n    <tr>\n      <th>min_complexity</th>\n      <td>107300.0</td>\n      <td>48.586999</td>\n      <td>78.575332</td>\n      <td>0.0</td>\n      <td>3.000000</td>\n      <td>19.000000</td>\n      <td>61.000000</td>\n      <td>974.0</td>\n    </tr>\n    <tr>\n      <th>mean_complexity</th>\n      <td>107300.0</td>\n      <td>81.629744</td>\n      <td>91.198439</td>\n      <td>0.0</td>\n      <td>19.272727</td>\n      <td>56.666667</td>\n      <td>112.666667</td>\n      <td>987.0</td>\n    </tr>\n    <tr>\n      <th>max_complexity</th>\n      <td>107300.0</td>\n      <td>136.870587</td>\n      <td>148.096808</td>\n      <td>0.0</td>\n      <td>26.000000</td>\n      <td>94.000000</td>\n      <td>197.000000</td>\n      <td>1000.0</td>\n    </tr>\n    <tr>\n      <th>entropy</th>\n      <td>107300.0</td>\n      <td>0.542703</td>\n      <td>0.386030</td>\n      <td>0.0</td>\n      <td>0.000000</td>\n      <td>0.694220</td>\n      <td>0.875624</td>\n      <td>1.0</td>\n    </tr>\n    <tr>\n      <th>bug_fixing</th>\n      <td>107300.0</td>\n      <td>0.665722</td>\n      <td>0.471740</td>\n      <td>0.0</td>\n      <td>0.000000</td>\n      <td>1.000000</td>\n      <td>1.000000</td>\n      <td>1.0</td>\n    </tr>\n    <tr>\n      <th>description_length</th>\n      <td>107300.0</td>\n      <td>61.032349</td>\n      <td>49.267821</td>\n      <td>4.0</td>\n      <td>32.000000</td>\n      <td>49.000000</td>\n      <td>75.000000</td>\n      <td>1306.0</td>\n    </tr>\n    <tr>\n      <th>num_prior_commits</th>\n      <td>107300.0</td>\n      <td>4.973588</td>\n      <td>13.352346</td>\n      <td>0.0</td>\n      <td>1.000000</td>\n      <td>2.000000</td>\n      <td>5.000000</td>\n      <td>880.0</td>\n    </tr>\n    <tr>\n      <th>avg_prior_age</th>\n      <td>107300.0</td>\n      <td>275.193127</td>\n      <td>304.150742</td>\n      <td>-116.0</td>\n      <td>34.295455</td>\n      <td>185.000000</td>\n      <td>411.333333</td>\n      <td>2541.0</td>\n    </tr>\n    <tr>\n      <th>num_prior_commits_bug_fixing</th>\n      <td>107300.0</td>\n      <td>2.685536</td>\n      <td>8.542385</td>\n      <td>0.0</td>\n      <td>0.000000</td>\n      <td>1.000000</td>\n      <td>2.000000</td>\n      <td>681.0</td>\n    </tr>\n    <tr>\n      <th>num_future_commits_bug_fixing</th>\n      <td>107300.0</td>\n      <td>2.854744</td>\n      <td>6.588340</td>\n      <td>0.0</td>\n      <td>0.000000</td>\n      <td>1.000000</td>\n      <td>3.000000</td>\n      <td>312.0</td>\n    </tr>\n    <tr>\n      <th>fix_inducing</th>\n      <td>107300.0</td>\n      <td>0.615266</td>\n      <td>0.486535</td>\n      <td>0.0</td>\n      <td>0.000000</td>\n      <td>1.000000</td>\n      <td>1.000000</td>\n      <td>1.0</td>\n    </tr>\n    <tr>\n      <th>reviewer_id</th>\n      <td>107300.0</td>\n      <td>8022.878677</td>\n      <td>6161.618331</td>\n      <td>1.0</td>\n      <td>2592.000000</td>\n      <td>7198.000000</td>\n      <td>11679.000000</td>\n      <td>30498.0</td>\n    </tr>\n    <tr>\n      <th>reviewer_vote</th>\n      <td>107300.0</td>\n      <td>1.224800</td>\n      <td>0.927450</td>\n      <td>-2.0</td>\n      <td>1.000000</td>\n      <td>1.000000</td>\n      <td>2.000000</td>\n      <td>2.0</td>\n    </tr>\n    <tr>\n      <th>reviewer_is_core</th>\n      <td>107300.0</td>\n      <td>0.214026</td>\n      <td>0.410147</td>\n      <td>0.0</td>\n      <td>0.000000</td>\n      <td>0.000000</td>\n      <td>0.000000</td>\n      <td>1.0</td>\n    </tr>\n    <tr>\n      <th>num_prior_comments</th>\n      <td>107300.0</td>\n      <td>68.200121</td>\n      <td>124.845839</td>\n      <td>0.0</td>\n      <td>8.000000</td>\n      <td>27.000000</td>\n      <td>74.000000</td>\n      <td>3351.0</td>\n    </tr>\n    <tr>\n      <th>pct_prior_comments_by_reviewer</th>\n      <td>107300.0</td>\n      <td>0.015319</td>\n      <td>0.071690</td>\n      <td>0.0</td>\n      <td>0.000000</td>\n      <td>0.000000</td>\n      <td>0.000000</td>\n      <td>1.0</td>\n    </tr>\n    <tr>\n      <th>num_prior_votes</th>\n      <td>107300.0</td>\n      <td>3.764958</td>\n      <td>3.740330</td>\n      <td>0.0</td>\n      <td>1.000000</td>\n      <td>3.000000</td>\n      <td>5.000000</td>\n      <td>31.0</td>\n    </tr>\n    <tr>\n      <th>pct_prior_pos_votes</th>\n      <td>107300.0</td>\n      <td>0.663159</td>\n      <td>0.394409</td>\n      <td>0.0</td>\n      <td>0.333333</td>\n      <td>0.833333</td>\n      <td>1.000000</td>\n      <td>1.0</td>\n    </tr>\n    <tr>\n      <th>pct_prior_neg_votes</th>\n      <td>107300.0</td>\n      <td>0.195387</td>\n      <td>0.298980</td>\n      <td>0.0</td>\n      <td>0.000000</td>\n      <td>0.000000</td>\n      <td>0.333333</td>\n      <td>1.0</td>\n    </tr>\n    <tr>\n      <th>pct_prior_pos_votes_core</th>\n      <td>107300.0</td>\n      <td>0.153940</td>\n      <td>0.273955</td>\n      <td>0.0</td>\n      <td>0.000000</td>\n      <td>0.000000</td>\n      <td>0.222222</td>\n      <td>1.0</td>\n    </tr>\n    <tr>\n      <th>pct_prior_neg_votes_core</th>\n      <td>107300.0</td>\n      <td>0.087107</td>\n      <td>0.246039</td>\n      <td>0.0</td>\n      <td>0.000000</td>\n      <td>0.000000</td>\n      <td>0.000000</td>\n      <td>1.0</td>\n    </tr>\n    <tr>\n      <th>reviewer_freq</th>\n      <td>107300.0</td>\n      <td>0.212223</td>\n      <td>0.276034</td>\n      <td>0.0</td>\n      <td>0.000000</td>\n      <td>0.090909</td>\n      <td>0.333333</td>\n      <td>1.0</td>\n    </tr>\n    <tr>\n      <th>author_is_exp_author</th>\n      <td>107300.0</td>\n      <td>0.078257</td>\n      <td>0.268577</td>\n      <td>0.0</td>\n      <td>0.000000</td>\n      <td>0.000000</td>\n      <td>0.000000</td>\n      <td>1.0</td>\n    </tr>\n    <tr>\n      <th>author_is_exp_reviewer</th>\n      <td>107300.0</td>\n      <td>0.052768</td>\n      <td>0.223571</td>\n      <td>0.0</td>\n      <td>0.000000</td>\n      <td>0.000000</td>\n      <td>0.000000</td>\n      <td>1.0</td>\n    </tr>\n    <tr>\n      <th>reviewer_is_exp_author</th>\n      <td>107300.0</td>\n      <td>0.011817</td>\n      <td>0.108064</td>\n      <td>0.0</td>\n      <td>0.000000</td>\n      <td>0.000000</td>\n      <td>0.000000</td>\n      <td>1.0</td>\n    </tr>\n    <tr>\n      <th>reviewer_is_exp_reviewer</th>\n      <td>107300.0</td>\n      <td>0.107167</td>\n      <td>0.309327</td>\n      <td>0.0</td>\n      <td>0.000000</td>\n      <td>0.000000</td>\n      <td>0.000000</td>\n      <td>1.0</td>\n    </tr>\n    <tr>\n      <th>author_is_core</th>\n      <td>107300.0</td>\n      <td>0.115284</td>\n      <td>0.319366</td>\n      <td>0.0</td>\n      <td>0.000000</td>\n      <td>0.000000</td>\n      <td>0.000000</td>\n      <td>1.0</td>\n    </tr>\n    <tr>\n      <th>pos_vote</th>\n      <td>107300.0</td>\n      <td>0.892498</td>\n      <td>0.309752</td>\n      <td>0.0</td>\n      <td>1.000000</td>\n      <td>1.000000</td>\n      <td>1.000000</td>\n      <td>1.0</td>\n    </tr>\n  </tbody>\n</table>\n</div>"
     },
     "metadata": {},
     "execution_count": 20
    }
   ],
   "source": [
    "df.describe().T"
   ]
  },
  {
   "cell_type": "code",
   "execution_count": 21,
   "metadata": {},
   "outputs": [],
   "source": [
    "df.to_csv('../data/rq1/rq1_all.csv', index=False)"
   ]
  },
  {
   "source": [
    "## Normalize numerical columns"
   ],
   "cell_type": "markdown",
   "metadata": {}
  },
  {
   "cell_type": "code",
   "execution_count": 22,
   "metadata": {},
   "outputs": [],
   "source": [
    "num_cols = [\n",
    "    'min_complexity',\n",
    "    'mean_complexity',\n",
    "    'max_complexity',\n",
    "    'num_prior_votes',\n",
    "    'num_lines_added',\n",
    "    'num_lines_deleted',\n",
    "    'num_lines_of_code',\n",
    "    'num_dirs_impacted',\n",
    "    'num_file_impacted',\n",
    "    'description_length',\n",
    "    'num_prior_commits',\n",
    "    'num_prior_comments',\n",
    "    'num_prior_commits_bug_fixing',\n",
    "    'num_future_commits_bug_fixing',\n",
    "    'avg_prior_age'\n",
    "]"
   ]
  },
  {
   "cell_type": "code",
   "execution_count": 23,
   "metadata": {},
   "outputs": [],
   "source": [
    "for c in num_cols:\n",
    "    df[c] = (df[c] - df[c].min()) / (df[c].max() - df[c].min())"
   ]
  },
  {
   "source": [
    "## Export normalized"
   ],
   "cell_type": "markdown",
   "metadata": {}
  },
  {
   "cell_type": "code",
   "execution_count": 24,
   "metadata": {},
   "outputs": [
    {
     "output_type": "execute_result",
     "data": {
      "text/plain": [
       "                                   count         mean          std  min  \\\n",
       "num_lines_added                 107300.0     0.001221     0.008033  0.0   \n",
       "num_lines_deleted               107300.0     0.000120     0.006631  0.0   \n",
       "num_lines_of_code               107300.0     0.002930     0.008853  0.0   \n",
       "num_file_impacted               107300.0     0.003806     0.012289  0.0   \n",
       "num_dirs_impacted               107300.0     0.010197     0.017976  0.0   \n",
       "min_complexity                  107300.0     0.049884     0.080673  0.0   \n",
       "mean_complexity                 107300.0     0.082705     0.092400  0.0   \n",
       "max_complexity                  107300.0     0.136871     0.148097  0.0   \n",
       "entropy                         107300.0     0.542703     0.386030  0.0   \n",
       "bug_fixing                      107300.0     0.665722     0.471740  0.0   \n",
       "description_length              107300.0     0.043804     0.037840  0.0   \n",
       "num_prior_commits               107300.0     0.005652     0.015173  0.0   \n",
       "avg_prior_age                   107300.0     0.147231     0.114471  0.0   \n",
       "num_prior_commits_bug_fixing    107300.0     0.003944     0.012544  0.0   \n",
       "num_future_commits_bug_fixing   107300.0     0.009150     0.021116  0.0   \n",
       "fix_inducing                    107300.0     0.615266     0.486535  0.0   \n",
       "reviewer_id                     107300.0  8022.878677  6161.618331  1.0   \n",
       "reviewer_vote                   107300.0     1.224800     0.927450 -2.0   \n",
       "reviewer_is_core                107300.0     0.214026     0.410147  0.0   \n",
       "num_prior_comments              107300.0     0.020352     0.037256  0.0   \n",
       "pct_prior_comments_by_reviewer  107300.0     0.015319     0.071690  0.0   \n",
       "num_prior_votes                 107300.0     0.121450     0.120656  0.0   \n",
       "pct_prior_pos_votes             107300.0     0.663159     0.394409  0.0   \n",
       "pct_prior_neg_votes             107300.0     0.195387     0.298980  0.0   \n",
       "pct_prior_pos_votes_core        107300.0     0.153940     0.273955  0.0   \n",
       "pct_prior_neg_votes_core        107300.0     0.087107     0.246039  0.0   \n",
       "reviewer_freq                   107300.0     0.212223     0.276034  0.0   \n",
       "author_is_exp_author            107300.0     0.078257     0.268577  0.0   \n",
       "author_is_exp_reviewer          107300.0     0.052768     0.223571  0.0   \n",
       "reviewer_is_exp_author          107300.0     0.011817     0.108064  0.0   \n",
       "reviewer_is_exp_reviewer        107300.0     0.107167     0.309327  0.0   \n",
       "author_is_core                  107300.0     0.115284     0.319366  0.0   \n",
       "pos_vote                        107300.0     0.892498     0.309752  0.0   \n",
       "\n",
       "                                         25%          50%           75%  \\\n",
       "num_lines_added                 4.539965e-05     0.000227      0.000799   \n",
       "num_lines_deleted               9.435378e-07     0.000006      0.000025   \n",
       "num_lines_of_code               3.818397e-04     0.001239      0.003291   \n",
       "num_file_impacted               7.347539e-04     0.001470      0.003674   \n",
       "num_dirs_impacted               3.134796e-03     0.006270      0.009404   \n",
       "min_complexity                  3.080082e-03     0.019507      0.062628   \n",
       "mean_complexity                 1.952657e-02     0.057413      0.114151   \n",
       "max_complexity                  2.600000e-02     0.094000      0.197000   \n",
       "entropy                         0.000000e+00     0.694220      0.875624   \n",
       "bug_fixing                      0.000000e+00     1.000000      1.000000   \n",
       "description_length              2.150538e-02     0.034562      0.054531   \n",
       "num_prior_commits               1.136364e-03     0.002273      0.005682   \n",
       "avg_prior_age                   5.656585e-02     0.113286      0.198469   \n",
       "num_prior_commits_bug_fixing    0.000000e+00     0.001468      0.002937   \n",
       "num_future_commits_bug_fixing   0.000000e+00     0.003205      0.009615   \n",
       "fix_inducing                    0.000000e+00     1.000000      1.000000   \n",
       "reviewer_id                     2.592000e+03  7198.000000  11679.000000   \n",
       "reviewer_vote                   1.000000e+00     1.000000      2.000000   \n",
       "reviewer_is_core                0.000000e+00     0.000000      0.000000   \n",
       "num_prior_comments              2.387347e-03     0.008057      0.022083   \n",
       "pct_prior_comments_by_reviewer  0.000000e+00     0.000000      0.000000   \n",
       "num_prior_votes                 3.225806e-02     0.096774      0.161290   \n",
       "pct_prior_pos_votes             3.333333e-01     0.833333      1.000000   \n",
       "pct_prior_neg_votes             0.000000e+00     0.000000      0.333333   \n",
       "pct_prior_pos_votes_core        0.000000e+00     0.000000      0.222222   \n",
       "pct_prior_neg_votes_core        0.000000e+00     0.000000      0.000000   \n",
       "reviewer_freq                   0.000000e+00     0.090909      0.333333   \n",
       "author_is_exp_author            0.000000e+00     0.000000      0.000000   \n",
       "author_is_exp_reviewer          0.000000e+00     0.000000      0.000000   \n",
       "reviewer_is_exp_author          0.000000e+00     0.000000      0.000000   \n",
       "reviewer_is_exp_reviewer        0.000000e+00     0.000000      0.000000   \n",
       "author_is_core                  0.000000e+00     0.000000      0.000000   \n",
       "pos_vote                        1.000000e+00     1.000000      1.000000   \n",
       "\n",
       "                                    max  \n",
       "num_lines_added                     1.0  \n",
       "num_lines_deleted                   1.0  \n",
       "num_lines_of_code                   1.0  \n",
       "num_file_impacted                   1.0  \n",
       "num_dirs_impacted                   1.0  \n",
       "min_complexity                      1.0  \n",
       "mean_complexity                     1.0  \n",
       "max_complexity                      1.0  \n",
       "entropy                             1.0  \n",
       "bug_fixing                          1.0  \n",
       "description_length                  1.0  \n",
       "num_prior_commits                   1.0  \n",
       "avg_prior_age                       1.0  \n",
       "num_prior_commits_bug_fixing        1.0  \n",
       "num_future_commits_bug_fixing       1.0  \n",
       "fix_inducing                        1.0  \n",
       "reviewer_id                     30498.0  \n",
       "reviewer_vote                       2.0  \n",
       "reviewer_is_core                    1.0  \n",
       "num_prior_comments                  1.0  \n",
       "pct_prior_comments_by_reviewer      1.0  \n",
       "num_prior_votes                     1.0  \n",
       "pct_prior_pos_votes                 1.0  \n",
       "pct_prior_neg_votes                 1.0  \n",
       "pct_prior_pos_votes_core            1.0  \n",
       "pct_prior_neg_votes_core            1.0  \n",
       "reviewer_freq                       1.0  \n",
       "author_is_exp_author                1.0  \n",
       "author_is_exp_reviewer              1.0  \n",
       "reviewer_is_exp_author              1.0  \n",
       "reviewer_is_exp_reviewer            1.0  \n",
       "author_is_core                      1.0  \n",
       "pos_vote                            1.0  "
      ],
      "text/html": "<div>\n<style scoped>\n    .dataframe tbody tr th:only-of-type {\n        vertical-align: middle;\n    }\n\n    .dataframe tbody tr th {\n        vertical-align: top;\n    }\n\n    .dataframe thead th {\n        text-align: right;\n    }\n</style>\n<table border=\"1\" class=\"dataframe\">\n  <thead>\n    <tr style=\"text-align: right;\">\n      <th></th>\n      <th>count</th>\n      <th>mean</th>\n      <th>std</th>\n      <th>min</th>\n      <th>25%</th>\n      <th>50%</th>\n      <th>75%</th>\n      <th>max</th>\n    </tr>\n  </thead>\n  <tbody>\n    <tr>\n      <th>num_lines_added</th>\n      <td>107300.0</td>\n      <td>0.001221</td>\n      <td>0.008033</td>\n      <td>0.0</td>\n      <td>4.539965e-05</td>\n      <td>0.000227</td>\n      <td>0.000799</td>\n      <td>1.0</td>\n    </tr>\n    <tr>\n      <th>num_lines_deleted</th>\n      <td>107300.0</td>\n      <td>0.000120</td>\n      <td>0.006631</td>\n      <td>0.0</td>\n      <td>9.435378e-07</td>\n      <td>0.000006</td>\n      <td>0.000025</td>\n      <td>1.0</td>\n    </tr>\n    <tr>\n      <th>num_lines_of_code</th>\n      <td>107300.0</td>\n      <td>0.002930</td>\n      <td>0.008853</td>\n      <td>0.0</td>\n      <td>3.818397e-04</td>\n      <td>0.001239</td>\n      <td>0.003291</td>\n      <td>1.0</td>\n    </tr>\n    <tr>\n      <th>num_file_impacted</th>\n      <td>107300.0</td>\n      <td>0.003806</td>\n      <td>0.012289</td>\n      <td>0.0</td>\n      <td>7.347539e-04</td>\n      <td>0.001470</td>\n      <td>0.003674</td>\n      <td>1.0</td>\n    </tr>\n    <tr>\n      <th>num_dirs_impacted</th>\n      <td>107300.0</td>\n      <td>0.010197</td>\n      <td>0.017976</td>\n      <td>0.0</td>\n      <td>3.134796e-03</td>\n      <td>0.006270</td>\n      <td>0.009404</td>\n      <td>1.0</td>\n    </tr>\n    <tr>\n      <th>min_complexity</th>\n      <td>107300.0</td>\n      <td>0.049884</td>\n      <td>0.080673</td>\n      <td>0.0</td>\n      <td>3.080082e-03</td>\n      <td>0.019507</td>\n      <td>0.062628</td>\n      <td>1.0</td>\n    </tr>\n    <tr>\n      <th>mean_complexity</th>\n      <td>107300.0</td>\n      <td>0.082705</td>\n      <td>0.092400</td>\n      <td>0.0</td>\n      <td>1.952657e-02</td>\n      <td>0.057413</td>\n      <td>0.114151</td>\n      <td>1.0</td>\n    </tr>\n    <tr>\n      <th>max_complexity</th>\n      <td>107300.0</td>\n      <td>0.136871</td>\n      <td>0.148097</td>\n      <td>0.0</td>\n      <td>2.600000e-02</td>\n      <td>0.094000</td>\n      <td>0.197000</td>\n      <td>1.0</td>\n    </tr>\n    <tr>\n      <th>entropy</th>\n      <td>107300.0</td>\n      <td>0.542703</td>\n      <td>0.386030</td>\n      <td>0.0</td>\n      <td>0.000000e+00</td>\n      <td>0.694220</td>\n      <td>0.875624</td>\n      <td>1.0</td>\n    </tr>\n    <tr>\n      <th>bug_fixing</th>\n      <td>107300.0</td>\n      <td>0.665722</td>\n      <td>0.471740</td>\n      <td>0.0</td>\n      <td>0.000000e+00</td>\n      <td>1.000000</td>\n      <td>1.000000</td>\n      <td>1.0</td>\n    </tr>\n    <tr>\n      <th>description_length</th>\n      <td>107300.0</td>\n      <td>0.043804</td>\n      <td>0.037840</td>\n      <td>0.0</td>\n      <td>2.150538e-02</td>\n      <td>0.034562</td>\n      <td>0.054531</td>\n      <td>1.0</td>\n    </tr>\n    <tr>\n      <th>num_prior_commits</th>\n      <td>107300.0</td>\n      <td>0.005652</td>\n      <td>0.015173</td>\n      <td>0.0</td>\n      <td>1.136364e-03</td>\n      <td>0.002273</td>\n      <td>0.005682</td>\n      <td>1.0</td>\n    </tr>\n    <tr>\n      <th>avg_prior_age</th>\n      <td>107300.0</td>\n      <td>0.147231</td>\n      <td>0.114471</td>\n      <td>0.0</td>\n      <td>5.656585e-02</td>\n      <td>0.113286</td>\n      <td>0.198469</td>\n      <td>1.0</td>\n    </tr>\n    <tr>\n      <th>num_prior_commits_bug_fixing</th>\n      <td>107300.0</td>\n      <td>0.003944</td>\n      <td>0.012544</td>\n      <td>0.0</td>\n      <td>0.000000e+00</td>\n      <td>0.001468</td>\n      <td>0.002937</td>\n      <td>1.0</td>\n    </tr>\n    <tr>\n      <th>num_future_commits_bug_fixing</th>\n      <td>107300.0</td>\n      <td>0.009150</td>\n      <td>0.021116</td>\n      <td>0.0</td>\n      <td>0.000000e+00</td>\n      <td>0.003205</td>\n      <td>0.009615</td>\n      <td>1.0</td>\n    </tr>\n    <tr>\n      <th>fix_inducing</th>\n      <td>107300.0</td>\n      <td>0.615266</td>\n      <td>0.486535</td>\n      <td>0.0</td>\n      <td>0.000000e+00</td>\n      <td>1.000000</td>\n      <td>1.000000</td>\n      <td>1.0</td>\n    </tr>\n    <tr>\n      <th>reviewer_id</th>\n      <td>107300.0</td>\n      <td>8022.878677</td>\n      <td>6161.618331</td>\n      <td>1.0</td>\n      <td>2.592000e+03</td>\n      <td>7198.000000</td>\n      <td>11679.000000</td>\n      <td>30498.0</td>\n    </tr>\n    <tr>\n      <th>reviewer_vote</th>\n      <td>107300.0</td>\n      <td>1.224800</td>\n      <td>0.927450</td>\n      <td>-2.0</td>\n      <td>1.000000e+00</td>\n      <td>1.000000</td>\n      <td>2.000000</td>\n      <td>2.0</td>\n    </tr>\n    <tr>\n      <th>reviewer_is_core</th>\n      <td>107300.0</td>\n      <td>0.214026</td>\n      <td>0.410147</td>\n      <td>0.0</td>\n      <td>0.000000e+00</td>\n      <td>0.000000</td>\n      <td>0.000000</td>\n      <td>1.0</td>\n    </tr>\n    <tr>\n      <th>num_prior_comments</th>\n      <td>107300.0</td>\n      <td>0.020352</td>\n      <td>0.037256</td>\n      <td>0.0</td>\n      <td>2.387347e-03</td>\n      <td>0.008057</td>\n      <td>0.022083</td>\n      <td>1.0</td>\n    </tr>\n    <tr>\n      <th>pct_prior_comments_by_reviewer</th>\n      <td>107300.0</td>\n      <td>0.015319</td>\n      <td>0.071690</td>\n      <td>0.0</td>\n      <td>0.000000e+00</td>\n      <td>0.000000</td>\n      <td>0.000000</td>\n      <td>1.0</td>\n    </tr>\n    <tr>\n      <th>num_prior_votes</th>\n      <td>107300.0</td>\n      <td>0.121450</td>\n      <td>0.120656</td>\n      <td>0.0</td>\n      <td>3.225806e-02</td>\n      <td>0.096774</td>\n      <td>0.161290</td>\n      <td>1.0</td>\n    </tr>\n    <tr>\n      <th>pct_prior_pos_votes</th>\n      <td>107300.0</td>\n      <td>0.663159</td>\n      <td>0.394409</td>\n      <td>0.0</td>\n      <td>3.333333e-01</td>\n      <td>0.833333</td>\n      <td>1.000000</td>\n      <td>1.0</td>\n    </tr>\n    <tr>\n      <th>pct_prior_neg_votes</th>\n      <td>107300.0</td>\n      <td>0.195387</td>\n      <td>0.298980</td>\n      <td>0.0</td>\n      <td>0.000000e+00</td>\n      <td>0.000000</td>\n      <td>0.333333</td>\n      <td>1.0</td>\n    </tr>\n    <tr>\n      <th>pct_prior_pos_votes_core</th>\n      <td>107300.0</td>\n      <td>0.153940</td>\n      <td>0.273955</td>\n      <td>0.0</td>\n      <td>0.000000e+00</td>\n      <td>0.000000</td>\n      <td>0.222222</td>\n      <td>1.0</td>\n    </tr>\n    <tr>\n      <th>pct_prior_neg_votes_core</th>\n      <td>107300.0</td>\n      <td>0.087107</td>\n      <td>0.246039</td>\n      <td>0.0</td>\n      <td>0.000000e+00</td>\n      <td>0.000000</td>\n      <td>0.000000</td>\n      <td>1.0</td>\n    </tr>\n    <tr>\n      <th>reviewer_freq</th>\n      <td>107300.0</td>\n      <td>0.212223</td>\n      <td>0.276034</td>\n      <td>0.0</td>\n      <td>0.000000e+00</td>\n      <td>0.090909</td>\n      <td>0.333333</td>\n      <td>1.0</td>\n    </tr>\n    <tr>\n      <th>author_is_exp_author</th>\n      <td>107300.0</td>\n      <td>0.078257</td>\n      <td>0.268577</td>\n      <td>0.0</td>\n      <td>0.000000e+00</td>\n      <td>0.000000</td>\n      <td>0.000000</td>\n      <td>1.0</td>\n    </tr>\n    <tr>\n      <th>author_is_exp_reviewer</th>\n      <td>107300.0</td>\n      <td>0.052768</td>\n      <td>0.223571</td>\n      <td>0.0</td>\n      <td>0.000000e+00</td>\n      <td>0.000000</td>\n      <td>0.000000</td>\n      <td>1.0</td>\n    </tr>\n    <tr>\n      <th>reviewer_is_exp_author</th>\n      <td>107300.0</td>\n      <td>0.011817</td>\n      <td>0.108064</td>\n      <td>0.0</td>\n      <td>0.000000e+00</td>\n      <td>0.000000</td>\n      <td>0.000000</td>\n      <td>1.0</td>\n    </tr>\n    <tr>\n      <th>reviewer_is_exp_reviewer</th>\n      <td>107300.0</td>\n      <td>0.107167</td>\n      <td>0.309327</td>\n      <td>0.0</td>\n      <td>0.000000e+00</td>\n      <td>0.000000</td>\n      <td>0.000000</td>\n      <td>1.0</td>\n    </tr>\n    <tr>\n      <th>author_is_core</th>\n      <td>107300.0</td>\n      <td>0.115284</td>\n      <td>0.319366</td>\n      <td>0.0</td>\n      <td>0.000000e+00</td>\n      <td>0.000000</td>\n      <td>0.000000</td>\n      <td>1.0</td>\n    </tr>\n    <tr>\n      <th>pos_vote</th>\n      <td>107300.0</td>\n      <td>0.892498</td>\n      <td>0.309752</td>\n      <td>0.0</td>\n      <td>1.000000e+00</td>\n      <td>1.000000</td>\n      <td>1.000000</td>\n      <td>1.0</td>\n    </tr>\n  </tbody>\n</table>\n</div>"
     },
     "metadata": {},
     "execution_count": 24
    }
   ],
   "source": [
    "df.describe().T"
   ]
  },
  {
   "cell_type": "code",
   "execution_count": 25,
   "metadata": {},
   "outputs": [],
   "source": [
    "df.to_csv('../data/rq1/rq1_all_norm.csv', index=False)"
   ]
  }
 ]
}