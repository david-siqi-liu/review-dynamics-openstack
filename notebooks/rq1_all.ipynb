{
 "metadata": {
  "language_info": {
   "codemirror_mode": {
    "name": "ipython",
    "version": 3
   },
   "file_extension": ".py",
   "mimetype": "text/x-python",
   "name": "python",
   "nbconvert_exporter": "python",
   "pygments_lexer": "ipython3",
   "version": "3.6.8-final"
  },
  "orig_nbformat": 2,
  "kernelspec": {
   "name": "python3",
   "display_name": "Python 3",
   "language": "python"
  }
 },
 "nbformat": 4,
 "nbformat_minor": 2,
 "cells": [
  {
   "cell_type": "code",
   "execution_count": 1,
   "metadata": {},
   "outputs": [],
   "source": [
    "import json\n",
    "import pandas as pd"
   ]
  },
  {
   "cell_type": "code",
   "execution_count": 2,
   "metadata": {},
   "outputs": [],
   "source": [
    "dfs = []"
   ]
  },
  {
   "cell_type": "code",
   "execution_count": 3,
   "metadata": {},
   "outputs": [],
   "source": [
    "for project in ['cinder', 'glance', 'neutron']:\n",
    "    df = pd.read_csv(f'../data/rq1/rq1_{project}.csv')\n",
    "    df['project'] = project\n",
    "    dfs.append(df)"
   ]
  },
  {
   "cell_type": "code",
   "execution_count": 4,
   "metadata": {},
   "outputs": [],
   "source": [
    "df = pd.concat(dfs, ignore_index=True)"
   ]
  },
  {
   "cell_type": "code",
   "execution_count": 5,
   "metadata": {},
   "outputs": [
    {
     "output_type": "execute_result",
     "data": {
      "text/plain": [
       "107213"
      ]
     },
     "metadata": {},
     "execution_count": 5
    }
   ],
   "source": [
    "len(df)"
   ]
  },
  {
   "source": [
    "## Patch - fill in NANs"
   ],
   "cell_type": "markdown",
   "metadata": {}
  },
  {
   "cell_type": "code",
   "execution_count": 6,
   "metadata": {},
   "outputs": [
    {
     "output_type": "execute_result",
     "data": {
      "text/plain": [
       "hash                                       0\n",
       "author_name                                0\n",
       "committer_name                             0\n",
       "author_date                                0\n",
       "commit_date                                0\n",
       "num_lines_added                            0\n",
       "num_lines_deleted                          0\n",
       "num_lines_of_code                          0\n",
       "num_file_impacted                          0\n",
       "num_dirs_impacted                          0\n",
       "min_complexity                             0\n",
       "mean_complexity                            0\n",
       "max_complexity                             0\n",
       "entropy                                    0\n",
       "bug_fixing                                 0\n",
       "description_length                         0\n",
       "num_prior_commits                          0\n",
       "avg_prior_age                              0\n",
       "num_prior_commits_bug_fixing               0\n",
       "num_future_commits_bug_fixing              0\n",
       "fix_inducing                               0\n",
       "reviewer_id                                0\n",
       "reviewer_name                              0\n",
       "reviewer_vote                              0\n",
       "reviewer_is_core                           0\n",
       "num_prior_votes                            0\n",
       "pct_prior_pos_votes                        0\n",
       "pct_prior_neg_votes                        0\n",
       "pct_prior_pos_votes_core                   0\n",
       "pct_prior_neg_votes_core                   0\n",
       "change_id                                  0\n",
       "pct_prior_commits_author_authored      16761\n",
       "pct_prior_commits_author_reviewed      16761\n",
       "pct_prior_commits_reviewer_authored    16761\n",
       "pct_prior_commits_reviewer_reviewed    16761\n",
       "project                                    0\n",
       "dtype: int64"
      ]
     },
     "metadata": {},
     "execution_count": 6
    }
   ],
   "source": [
    "df.isna().sum()"
   ]
  },
  {
   "cell_type": "code",
   "execution_count": 7,
   "metadata": {},
   "outputs": [],
   "source": [
    "df = df.fillna(0)"
   ]
  },
  {
   "source": [
    "## Patch - make experience"
   ],
   "cell_type": "markdown",
   "metadata": {}
  },
  {
   "cell_type": "code",
   "execution_count": 8,
   "metadata": {},
   "outputs": [],
   "source": [
    "df['author_is_exp_author'] = df['pct_prior_commits_author_authored'] > 0.05\n",
    "df['author_is_exp_reviewer'] = df['pct_prior_commits_author_reviewed'] > 0.05"
   ]
  },
  {
   "cell_type": "code",
   "execution_count": 9,
   "metadata": {},
   "outputs": [],
   "source": [
    "df['reviewer_is_exp_author'] = df['pct_prior_commits_reviewer_authored'] > 0\n",
    "df['reviewer_is_exp_reviewer'] = df['pct_prior_commits_reviewer_reviewed'] > 0"
   ]
  },
  {
   "cell_type": "code",
   "execution_count": 10,
   "metadata": {},
   "outputs": [],
   "source": [
    "df = df.drop(columns=['pct_prior_commits_author_authored', 'pct_prior_commits_author_reviewed', 'pct_prior_commits_reviewer_authored', 'pct_prior_commits_reviewer_reviewed'])"
   ]
  },
  {
   "source": [
    "## Patch - fill in `author_is_core`"
   ],
   "cell_type": "markdown",
   "metadata": {}
  },
  {
   "cell_type": "code",
   "execution_count": 11,
   "metadata": {},
   "outputs": [],
   "source": [
    "with open('../data/core_devs.json', 'r') as j:\n",
    "    CORE_DEVS = json.loads(j.read())"
   ]
  },
  {
   "cell_type": "code",
   "execution_count": 12,
   "metadata": {},
   "outputs": [
    {
     "output_type": "execute_result",
     "data": {
      "text/plain": [
       "{'cinder': ['Brian Rosmaita',\n",
       "  'Eric Harney',\n",
       "  'Gorka Eguileor',\n",
       "  'Ivan Kolodyazhny',\n",
       "  'Jay Bryant',\n",
       "  'Lucio Seki',\n",
       "  'Rajat Dhasmana',\n",
       "  'Sean McGinnis',\n",
       "  'Hemna'],\n",
       " 'glance': ['Abhishek Kekane',\n",
       "  'Brian Rosmaita',\n",
       "  'Dan Smith',\n",
       "  'Glance Bot',\n",
       "  'Nikhil Komawar',\n",
       "  'Sean McGinnis'],\n",
       " 'neutron': ['Akihiro Motoki',\n",
       "  'Brian Haley',\n",
       "  'Hongbin Lu',\n",
       "  'Jakub Libosvar',\n",
       "  'Lajos Katona',\n",
       "  'Miguel Lavalle',\n",
       "  'Nate Johnston',\n",
       "  'Oleg Bondarev',\n",
       "  'Rodolfo Alonso',\n",
       "  'Slawek Kaplonski',\n",
       "  'YAMAMOTO Takashi',\n",
       "  'LIU Yulong'],\n",
       " 'nova': ['Alex Xu',\n",
       "  'Balazs Gibizer',\n",
       "  'Dan Smith',\n",
       "  'Eric Fried',\n",
       "  'Ghanshyam',\n",
       "  'John Garbutt',\n",
       "  'Lee Yarwood',\n",
       "  'stephenfin',\n",
       "  'Sylvain Bauza',\n",
       "  'melwitt']}"
      ]
     },
     "metadata": {},
     "execution_count": 12
    }
   ],
   "source": [
    "CORE_DEVS"
   ]
  },
  {
   "cell_type": "code",
   "execution_count": 13,
   "metadata": {},
   "outputs": [],
   "source": [
    "for idx, row in df.iterrows():\n",
    "    project = row['project']\n",
    "    project_core_devs = CORE_DEVS[project]\n",
    "    author = row['author_name']\n",
    "    if author in project_core_devs:\n",
    "        df.at[idx, 'author_is_core'] = True\n",
    "    else:\n",
    "        df.at[idx, 'author_is_core'] = False"
   ]
  },
  {
   "cell_type": "code",
   "execution_count": 14,
   "metadata": {},
   "outputs": [
    {
     "output_type": "execute_result",
     "data": {
      "text/plain": [
       "False    94843\n",
       "True     12370\n",
       "Name: author_is_core, dtype: int64"
      ]
     },
     "metadata": {},
     "execution_count": 14
    }
   ],
   "source": [
    "df['author_is_core'].value_counts()"
   ]
  },
  {
   "source": [
    "## Target variable"
   ],
   "cell_type": "markdown",
   "metadata": {}
  },
  {
   "cell_type": "code",
   "execution_count": 15,
   "metadata": {},
   "outputs": [
    {
     "output_type": "execute_result",
     "data": {
      "text/plain": [
       " 2    47888\n",
       " 1    47795\n",
       "-1    10801\n",
       "-2      729\n",
       "Name: reviewer_vote, dtype: int64"
      ]
     },
     "metadata": {},
     "execution_count": 15
    }
   ],
   "source": [
    "df['reviewer_vote'].value_counts()"
   ]
  },
  {
   "cell_type": "code",
   "execution_count": 16,
   "metadata": {},
   "outputs": [],
   "source": [
    "df['pos_vote'] = df['reviewer_vote'] > 0"
   ]
  },
  {
   "cell_type": "code",
   "execution_count": 17,
   "metadata": {},
   "outputs": [
    {
     "output_type": "execute_result",
     "data": {
      "text/plain": [
       "True     95683\n",
       "False    11530\n",
       "Name: pos_vote, dtype: int64"
      ]
     },
     "metadata": {},
     "execution_count": 17
    }
   ],
   "source": [
    "df['pos_vote'].value_counts()"
   ]
  },
  {
   "source": [
    "## Make binary variables 1/0"
   ],
   "cell_type": "markdown",
   "metadata": {}
  },
  {
   "cell_type": "code",
   "execution_count": 18,
   "metadata": {},
   "outputs": [],
   "source": [
    "binary_cols = ['bug_fixing', 'fix_inducing', 'author_is_core', 'reviewer_is_core', 'pos_vote', 'author_is_exp_author', 'author_is_exp_reviewer', 'reviewer_is_exp_author', 'reviewer_is_exp_reviewer']"
   ]
  },
  {
   "cell_type": "code",
   "execution_count": 19,
   "metadata": {},
   "outputs": [
    {
     "output_type": "stream",
     "name": "stdout",
     "text": [
      "True     71377\nFalse    35836\nName: bug_fixing, dtype: int64\nTrue     65950\nFalse    41263\nName: fix_inducing, dtype: int64\nFalse    94843\nTrue     12370\nName: author_is_core, dtype: int64\nFalse    84248\nTrue     22965\nName: reviewer_is_core, dtype: int64\nTrue     95683\nFalse    11530\nName: pos_vote, dtype: int64\nFalse    81080\nTrue     26133\nName: author_is_exp_author, dtype: int64\nFalse    85834\nTrue     21379\nName: author_is_exp_reviewer, dtype: int64\nFalse    100414\nTrue       6799\nName: reviewer_is_exp_author, dtype: int64\nFalse    67853\nTrue     39360\nName: reviewer_is_exp_reviewer, dtype: int64\n"
     ]
    }
   ],
   "source": [
    "for c in binary_cols:\n",
    "    print(df[c].value_counts())"
   ]
  },
  {
   "cell_type": "code",
   "execution_count": 20,
   "metadata": {},
   "outputs": [],
   "source": [
    "for c in binary_cols:\n",
    "    df[c] = df[c].astype(int)"
   ]
  },
  {
   "cell_type": "code",
   "execution_count": 21,
   "metadata": {},
   "outputs": [
    {
     "output_type": "stream",
     "name": "stdout",
     "text": [
      "1    71377\n0    35836\nName: bug_fixing, dtype: int64\n1    65950\n0    41263\nName: fix_inducing, dtype: int64\n0    94843\n1    12370\nName: author_is_core, dtype: int64\n0    84248\n1    22965\nName: reviewer_is_core, dtype: int64\n1    95683\n0    11530\nName: pos_vote, dtype: int64\n0    81080\n1    26133\nName: author_is_exp_author, dtype: int64\n0    85834\n1    21379\nName: author_is_exp_reviewer, dtype: int64\n0    100414\n1      6799\nName: reviewer_is_exp_author, dtype: int64\n0    67853\n1    39360\nName: reviewer_is_exp_reviewer, dtype: int64\n"
     ]
    }
   ],
   "source": [
    "for c in binary_cols:\n",
    "    print(df[c].value_counts())"
   ]
  },
  {
   "source": [
    "## Export"
   ],
   "cell_type": "markdown",
   "metadata": {}
  },
  {
   "cell_type": "code",
   "execution_count": 22,
   "metadata": {},
   "outputs": [
    {
     "output_type": "execute_result",
     "data": {
      "text/plain": [
       "                                  count         mean          std    min  \\\n",
       "num_lines_added                107213.0   134.443808   885.006429    0.0   \n",
       "num_lines_deleted              107213.0   127.581375  7030.815267    0.0   \n",
       "num_lines_of_code              107213.0  2464.355367  7445.052297    0.0   \n",
       "num_file_impacted              107213.0     5.174186    16.671576    0.0   \n",
       "num_dirs_impacted              107213.0     3.251630     5.724486    0.0   \n",
       "min_complexity                 107213.0    48.614030    78.599338    0.0   \n",
       "mean_complexity                107213.0    81.679091    91.216767    0.0   \n",
       "max_complexity                 107213.0   136.948905   148.121810    0.0   \n",
       "entropy                        107213.0     0.542821     0.386003    0.0   \n",
       "bug_fixing                     107213.0     0.665749     0.471730    0.0   \n",
       "description_length             107213.0    61.048119    49.277898    4.0   \n",
       "num_prior_commits              107213.0     4.977102    13.357159    0.0   \n",
       "avg_prior_age                  107213.0   275.410285   304.178353 -116.0   \n",
       "num_prior_commits_bug_fixing   107213.0     2.687454     8.545566    0.0   \n",
       "num_future_commits_bug_fixing  107213.0     2.854187     6.589207    0.0   \n",
       "fix_inducing                   107213.0     0.615131     0.486567    0.0   \n",
       "reviewer_id                    107213.0  8028.931706  6160.437464    1.0   \n",
       "reviewer_vote                  107213.0     1.224777     0.927532   -2.0   \n",
       "reviewer_is_core               107213.0     0.214200     0.410268    0.0   \n",
       "num_prior_votes                107213.0     3.767351     3.740835    0.0   \n",
       "pct_prior_pos_votes            107213.0     0.663267     0.394306    0.0   \n",
       "pct_prior_neg_votes            107213.0     0.195481     0.299000    0.0   \n",
       "pct_prior_pos_votes_core       107213.0     0.154065     0.274031    0.0   \n",
       "pct_prior_neg_votes_core       107213.0     0.087177     0.246126    0.0   \n",
       "author_is_exp_author           107213.0     0.243748     0.429345    0.0   \n",
       "author_is_exp_reviewer         107213.0     0.199407     0.399556    0.0   \n",
       "reviewer_is_exp_author         107213.0     0.063416     0.243710    0.0   \n",
       "reviewer_is_exp_reviewer       107213.0     0.367120     0.482022    0.0   \n",
       "author_is_core                 107213.0     0.115378     0.319479    0.0   \n",
       "pos_vote                       107213.0     0.892457     0.309804    0.0   \n",
       "\n",
       "                                       25%          50%           75%  \\\n",
       "num_lines_added                   5.000000    25.000000     88.000000   \n",
       "num_lines_deleted                 1.000000     6.000000     27.000000   \n",
       "num_lines_of_code               321.000000  1044.000000   2767.000000   \n",
       "num_file_impacted                 1.000000     2.000000      5.000000   \n",
       "num_dirs_impacted                 1.000000     2.000000      3.000000   \n",
       "min_complexity                    3.000000    19.000000     61.000000   \n",
       "mean_complexity                  19.333333    56.818182    112.875000   \n",
       "max_complexity                   26.000000    94.000000    197.000000   \n",
       "entropy                           0.000000     0.694446      0.875624   \n",
       "bug_fixing                        0.000000     1.000000      1.000000   \n",
       "description_length               32.000000    49.000000     75.000000   \n",
       "num_prior_commits                 1.000000     2.000000      5.000000   \n",
       "avg_prior_age                    34.833333   185.500000    411.500000   \n",
       "num_prior_commits_bug_fixing      0.000000     1.000000      2.000000   \n",
       "num_future_commits_bug_fixing     0.000000     1.000000      3.000000   \n",
       "fix_inducing                      0.000000     1.000000      1.000000   \n",
       "reviewer_id                    2592.000000  7198.000000  11682.000000   \n",
       "reviewer_vote                     1.000000     1.000000      2.000000   \n",
       "reviewer_is_core                  0.000000     0.000000      0.000000   \n",
       "num_prior_votes                   1.000000     3.000000      5.000000   \n",
       "pct_prior_pos_votes               0.333333     0.833333      1.000000   \n",
       "pct_prior_neg_votes               0.000000     0.000000      0.333333   \n",
       "pct_prior_pos_votes_core          0.000000     0.000000      0.222222   \n",
       "pct_prior_neg_votes_core          0.000000     0.000000      0.000000   \n",
       "author_is_exp_author              0.000000     0.000000      0.000000   \n",
       "author_is_exp_reviewer            0.000000     0.000000      0.000000   \n",
       "reviewer_is_exp_author            0.000000     0.000000      0.000000   \n",
       "reviewer_is_exp_reviewer          0.000000     0.000000      1.000000   \n",
       "author_is_core                    0.000000     0.000000      0.000000   \n",
       "pos_vote                          1.000000     1.000000      1.000000   \n",
       "\n",
       "                                     max  \n",
       "num_lines_added                 110133.0  \n",
       "num_lines_deleted              1059841.0  \n",
       "num_lines_of_code               840667.0  \n",
       "num_file_impacted                 1361.0  \n",
       "num_dirs_impacted                  319.0  \n",
       "min_complexity                     974.0  \n",
       "mean_complexity                    987.0  \n",
       "max_complexity                    1000.0  \n",
       "entropy                              1.0  \n",
       "bug_fixing                           1.0  \n",
       "description_length                1306.0  \n",
       "num_prior_commits                  880.0  \n",
       "avg_prior_age                     2541.0  \n",
       "num_prior_commits_bug_fixing       681.0  \n",
       "num_future_commits_bug_fixing      312.0  \n",
       "fix_inducing                         1.0  \n",
       "reviewer_id                      30498.0  \n",
       "reviewer_vote                        2.0  \n",
       "reviewer_is_core                     1.0  \n",
       "num_prior_votes                     31.0  \n",
       "pct_prior_pos_votes                  1.0  \n",
       "pct_prior_neg_votes                  1.0  \n",
       "pct_prior_pos_votes_core             1.0  \n",
       "pct_prior_neg_votes_core             1.0  \n",
       "author_is_exp_author                 1.0  \n",
       "author_is_exp_reviewer               1.0  \n",
       "reviewer_is_exp_author               1.0  \n",
       "reviewer_is_exp_reviewer             1.0  \n",
       "author_is_core                       1.0  \n",
       "pos_vote                             1.0  "
      ],
      "text/html": "<div>\n<style scoped>\n    .dataframe tbody tr th:only-of-type {\n        vertical-align: middle;\n    }\n\n    .dataframe tbody tr th {\n        vertical-align: top;\n    }\n\n    .dataframe thead th {\n        text-align: right;\n    }\n</style>\n<table border=\"1\" class=\"dataframe\">\n  <thead>\n    <tr style=\"text-align: right;\">\n      <th></th>\n      <th>count</th>\n      <th>mean</th>\n      <th>std</th>\n      <th>min</th>\n      <th>25%</th>\n      <th>50%</th>\n      <th>75%</th>\n      <th>max</th>\n    </tr>\n  </thead>\n  <tbody>\n    <tr>\n      <th>num_lines_added</th>\n      <td>107213.0</td>\n      <td>134.443808</td>\n      <td>885.006429</td>\n      <td>0.0</td>\n      <td>5.000000</td>\n      <td>25.000000</td>\n      <td>88.000000</td>\n      <td>110133.0</td>\n    </tr>\n    <tr>\n      <th>num_lines_deleted</th>\n      <td>107213.0</td>\n      <td>127.581375</td>\n      <td>7030.815267</td>\n      <td>0.0</td>\n      <td>1.000000</td>\n      <td>6.000000</td>\n      <td>27.000000</td>\n      <td>1059841.0</td>\n    </tr>\n    <tr>\n      <th>num_lines_of_code</th>\n      <td>107213.0</td>\n      <td>2464.355367</td>\n      <td>7445.052297</td>\n      <td>0.0</td>\n      <td>321.000000</td>\n      <td>1044.000000</td>\n      <td>2767.000000</td>\n      <td>840667.0</td>\n    </tr>\n    <tr>\n      <th>num_file_impacted</th>\n      <td>107213.0</td>\n      <td>5.174186</td>\n      <td>16.671576</td>\n      <td>0.0</td>\n      <td>1.000000</td>\n      <td>2.000000</td>\n      <td>5.000000</td>\n      <td>1361.0</td>\n    </tr>\n    <tr>\n      <th>num_dirs_impacted</th>\n      <td>107213.0</td>\n      <td>3.251630</td>\n      <td>5.724486</td>\n      <td>0.0</td>\n      <td>1.000000</td>\n      <td>2.000000</td>\n      <td>3.000000</td>\n      <td>319.0</td>\n    </tr>\n    <tr>\n      <th>min_complexity</th>\n      <td>107213.0</td>\n      <td>48.614030</td>\n      <td>78.599338</td>\n      <td>0.0</td>\n      <td>3.000000</td>\n      <td>19.000000</td>\n      <td>61.000000</td>\n      <td>974.0</td>\n    </tr>\n    <tr>\n      <th>mean_complexity</th>\n      <td>107213.0</td>\n      <td>81.679091</td>\n      <td>91.216767</td>\n      <td>0.0</td>\n      <td>19.333333</td>\n      <td>56.818182</td>\n      <td>112.875000</td>\n      <td>987.0</td>\n    </tr>\n    <tr>\n      <th>max_complexity</th>\n      <td>107213.0</td>\n      <td>136.948905</td>\n      <td>148.121810</td>\n      <td>0.0</td>\n      <td>26.000000</td>\n      <td>94.000000</td>\n      <td>197.000000</td>\n      <td>1000.0</td>\n    </tr>\n    <tr>\n      <th>entropy</th>\n      <td>107213.0</td>\n      <td>0.542821</td>\n      <td>0.386003</td>\n      <td>0.0</td>\n      <td>0.000000</td>\n      <td>0.694446</td>\n      <td>0.875624</td>\n      <td>1.0</td>\n    </tr>\n    <tr>\n      <th>bug_fixing</th>\n      <td>107213.0</td>\n      <td>0.665749</td>\n      <td>0.471730</td>\n      <td>0.0</td>\n      <td>0.000000</td>\n      <td>1.000000</td>\n      <td>1.000000</td>\n      <td>1.0</td>\n    </tr>\n    <tr>\n      <th>description_length</th>\n      <td>107213.0</td>\n      <td>61.048119</td>\n      <td>49.277898</td>\n      <td>4.0</td>\n      <td>32.000000</td>\n      <td>49.000000</td>\n      <td>75.000000</td>\n      <td>1306.0</td>\n    </tr>\n    <tr>\n      <th>num_prior_commits</th>\n      <td>107213.0</td>\n      <td>4.977102</td>\n      <td>13.357159</td>\n      <td>0.0</td>\n      <td>1.000000</td>\n      <td>2.000000</td>\n      <td>5.000000</td>\n      <td>880.0</td>\n    </tr>\n    <tr>\n      <th>avg_prior_age</th>\n      <td>107213.0</td>\n      <td>275.410285</td>\n      <td>304.178353</td>\n      <td>-116.0</td>\n      <td>34.833333</td>\n      <td>185.500000</td>\n      <td>411.500000</td>\n      <td>2541.0</td>\n    </tr>\n    <tr>\n      <th>num_prior_commits_bug_fixing</th>\n      <td>107213.0</td>\n      <td>2.687454</td>\n      <td>8.545566</td>\n      <td>0.0</td>\n      <td>0.000000</td>\n      <td>1.000000</td>\n      <td>2.000000</td>\n      <td>681.0</td>\n    </tr>\n    <tr>\n      <th>num_future_commits_bug_fixing</th>\n      <td>107213.0</td>\n      <td>2.854187</td>\n      <td>6.589207</td>\n      <td>0.0</td>\n      <td>0.000000</td>\n      <td>1.000000</td>\n      <td>3.000000</td>\n      <td>312.0</td>\n    </tr>\n    <tr>\n      <th>fix_inducing</th>\n      <td>107213.0</td>\n      <td>0.615131</td>\n      <td>0.486567</td>\n      <td>0.0</td>\n      <td>0.000000</td>\n      <td>1.000000</td>\n      <td>1.000000</td>\n      <td>1.0</td>\n    </tr>\n    <tr>\n      <th>reviewer_id</th>\n      <td>107213.0</td>\n      <td>8028.931706</td>\n      <td>6160.437464</td>\n      <td>1.0</td>\n      <td>2592.000000</td>\n      <td>7198.000000</td>\n      <td>11682.000000</td>\n      <td>30498.0</td>\n    </tr>\n    <tr>\n      <th>reviewer_vote</th>\n      <td>107213.0</td>\n      <td>1.224777</td>\n      <td>0.927532</td>\n      <td>-2.0</td>\n      <td>1.000000</td>\n      <td>1.000000</td>\n      <td>2.000000</td>\n      <td>2.0</td>\n    </tr>\n    <tr>\n      <th>reviewer_is_core</th>\n      <td>107213.0</td>\n      <td>0.214200</td>\n      <td>0.410268</td>\n      <td>0.0</td>\n      <td>0.000000</td>\n      <td>0.000000</td>\n      <td>0.000000</td>\n      <td>1.0</td>\n    </tr>\n    <tr>\n      <th>num_prior_votes</th>\n      <td>107213.0</td>\n      <td>3.767351</td>\n      <td>3.740835</td>\n      <td>0.0</td>\n      <td>1.000000</td>\n      <td>3.000000</td>\n      <td>5.000000</td>\n      <td>31.0</td>\n    </tr>\n    <tr>\n      <th>pct_prior_pos_votes</th>\n      <td>107213.0</td>\n      <td>0.663267</td>\n      <td>0.394306</td>\n      <td>0.0</td>\n      <td>0.333333</td>\n      <td>0.833333</td>\n      <td>1.000000</td>\n      <td>1.0</td>\n    </tr>\n    <tr>\n      <th>pct_prior_neg_votes</th>\n      <td>107213.0</td>\n      <td>0.195481</td>\n      <td>0.299000</td>\n      <td>0.0</td>\n      <td>0.000000</td>\n      <td>0.000000</td>\n      <td>0.333333</td>\n      <td>1.0</td>\n    </tr>\n    <tr>\n      <th>pct_prior_pos_votes_core</th>\n      <td>107213.0</td>\n      <td>0.154065</td>\n      <td>0.274031</td>\n      <td>0.0</td>\n      <td>0.000000</td>\n      <td>0.000000</td>\n      <td>0.222222</td>\n      <td>1.0</td>\n    </tr>\n    <tr>\n      <th>pct_prior_neg_votes_core</th>\n      <td>107213.0</td>\n      <td>0.087177</td>\n      <td>0.246126</td>\n      <td>0.0</td>\n      <td>0.000000</td>\n      <td>0.000000</td>\n      <td>0.000000</td>\n      <td>1.0</td>\n    </tr>\n    <tr>\n      <th>author_is_exp_author</th>\n      <td>107213.0</td>\n      <td>0.243748</td>\n      <td>0.429345</td>\n      <td>0.0</td>\n      <td>0.000000</td>\n      <td>0.000000</td>\n      <td>0.000000</td>\n      <td>1.0</td>\n    </tr>\n    <tr>\n      <th>author_is_exp_reviewer</th>\n      <td>107213.0</td>\n      <td>0.199407</td>\n      <td>0.399556</td>\n      <td>0.0</td>\n      <td>0.000000</td>\n      <td>0.000000</td>\n      <td>0.000000</td>\n      <td>1.0</td>\n    </tr>\n    <tr>\n      <th>reviewer_is_exp_author</th>\n      <td>107213.0</td>\n      <td>0.063416</td>\n      <td>0.243710</td>\n      <td>0.0</td>\n      <td>0.000000</td>\n      <td>0.000000</td>\n      <td>0.000000</td>\n      <td>1.0</td>\n    </tr>\n    <tr>\n      <th>reviewer_is_exp_reviewer</th>\n      <td>107213.0</td>\n      <td>0.367120</td>\n      <td>0.482022</td>\n      <td>0.0</td>\n      <td>0.000000</td>\n      <td>0.000000</td>\n      <td>1.000000</td>\n      <td>1.0</td>\n    </tr>\n    <tr>\n      <th>author_is_core</th>\n      <td>107213.0</td>\n      <td>0.115378</td>\n      <td>0.319479</td>\n      <td>0.0</td>\n      <td>0.000000</td>\n      <td>0.000000</td>\n      <td>0.000000</td>\n      <td>1.0</td>\n    </tr>\n    <tr>\n      <th>pos_vote</th>\n      <td>107213.0</td>\n      <td>0.892457</td>\n      <td>0.309804</td>\n      <td>0.0</td>\n      <td>1.000000</td>\n      <td>1.000000</td>\n      <td>1.000000</td>\n      <td>1.0</td>\n    </tr>\n  </tbody>\n</table>\n</div>"
     },
     "metadata": {},
     "execution_count": 22
    }
   ],
   "source": [
    "df.describe().T"
   ]
  },
  {
   "cell_type": "code",
   "execution_count": 23,
   "metadata": {},
   "outputs": [],
   "source": [
    "df.to_csv('../data/rq1/rq1_all.csv', index=False)"
   ]
  },
  {
   "source": [
    "## Normalize numerical columns"
   ],
   "cell_type": "markdown",
   "metadata": {}
  },
  {
   "cell_type": "code",
   "execution_count": 24,
   "metadata": {},
   "outputs": [],
   "source": [
    "num_cols = [\n",
    "    'min_complexity',\n",
    "    'mean_complexity',\n",
    "    'max_complexity',\n",
    "    'num_prior_votes',\n",
    "    'num_lines_added',\n",
    "    'num_lines_deleted',\n",
    "    'num_lines_of_code',\n",
    "    'num_dirs_impacted',\n",
    "    'num_file_impacted',\n",
    "    'description_length',\n",
    "    'num_prior_commits',\n",
    "    'num_prior_commits_bug_fixing',\n",
    "    'num_future_commits_bug_fixing',\n",
    "    'avg_prior_age'\n",
    "]"
   ]
  },
  {
   "cell_type": "code",
   "execution_count": 25,
   "metadata": {},
   "outputs": [],
   "source": [
    "for c in num_cols:\n",
    "    df[c] = (df[c] - df[c].min()) / (df[c].max() - df[c].min())"
   ]
  },
  {
   "source": [
    "## Export Normalized"
   ],
   "cell_type": "markdown",
   "metadata": {}
  },
  {
   "cell_type": "code",
   "execution_count": 26,
   "metadata": {},
   "outputs": [
    {
     "output_type": "execute_result",
     "data": {
      "text/plain": [
       "                                  count         mean          std  min  \\\n",
       "num_lines_added                107213.0     0.001221     0.008036  0.0   \n",
       "num_lines_deleted              107213.0     0.000120     0.006634  0.0   \n",
       "num_lines_of_code              107213.0     0.002931     0.008856  0.0   \n",
       "num_file_impacted              107213.0     0.003802     0.012250  0.0   \n",
       "num_dirs_impacted              107213.0     0.010193     0.017945  0.0   \n",
       "min_complexity                 107213.0     0.049912     0.080697  0.0   \n",
       "mean_complexity                107213.0     0.082755     0.092418  0.0   \n",
       "max_complexity                 107213.0     0.136949     0.148122  0.0   \n",
       "entropy                        107213.0     0.542821     0.386003  0.0   \n",
       "bug_fixing                     107213.0     0.665749     0.471730  0.0   \n",
       "description_length             107213.0     0.043816     0.037848  0.0   \n",
       "num_prior_commits              107213.0     0.005656     0.015179  0.0   \n",
       "avg_prior_age                  107213.0     0.147313     0.114482  0.0   \n",
       "num_prior_commits_bug_fixing   107213.0     0.003946     0.012549  0.0   \n",
       "num_future_commits_bug_fixing  107213.0     0.009148     0.021119  0.0   \n",
       "fix_inducing                   107213.0     0.615131     0.486567  0.0   \n",
       "reviewer_id                    107213.0  8028.931706  6160.437464  1.0   \n",
       "reviewer_vote                  107213.0     1.224777     0.927532 -2.0   \n",
       "reviewer_is_core               107213.0     0.214200     0.410268  0.0   \n",
       "num_prior_votes                107213.0     0.121527     0.120672  0.0   \n",
       "pct_prior_pos_votes            107213.0     0.663267     0.394306  0.0   \n",
       "pct_prior_neg_votes            107213.0     0.195481     0.299000  0.0   \n",
       "pct_prior_pos_votes_core       107213.0     0.154065     0.274031  0.0   \n",
       "pct_prior_neg_votes_core       107213.0     0.087177     0.246126  0.0   \n",
       "author_is_exp_author           107213.0     0.243748     0.429345  0.0   \n",
       "author_is_exp_reviewer         107213.0     0.199407     0.399556  0.0   \n",
       "reviewer_is_exp_author         107213.0     0.063416     0.243710  0.0   \n",
       "reviewer_is_exp_reviewer       107213.0     0.367120     0.482022  0.0   \n",
       "author_is_core                 107213.0     0.115378     0.319479  0.0   \n",
       "pos_vote                       107213.0     0.892457     0.309804  0.0   \n",
       "\n",
       "                                        25%          50%           75%  \\\n",
       "num_lines_added                4.539965e-05     0.000227      0.000799   \n",
       "num_lines_deleted              9.435378e-07     0.000006      0.000025   \n",
       "num_lines_of_code              3.818397e-04     0.001242      0.003291   \n",
       "num_file_impacted              7.347539e-04     0.001470      0.003674   \n",
       "num_dirs_impacted              3.134796e-03     0.006270      0.009404   \n",
       "min_complexity                 3.080082e-03     0.019507      0.062628   \n",
       "mean_complexity                1.958798e-02     0.057567      0.114362   \n",
       "max_complexity                 2.600000e-02     0.094000      0.197000   \n",
       "entropy                        0.000000e+00     0.694446      0.875624   \n",
       "bug_fixing                     0.000000e+00     1.000000      1.000000   \n",
       "description_length             2.150538e-02     0.034562      0.054531   \n",
       "num_prior_commits              1.136364e-03     0.002273      0.005682   \n",
       "avg_prior_age                  5.676829e-02     0.113474      0.198532   \n",
       "num_prior_commits_bug_fixing   0.000000e+00     0.001468      0.002937   \n",
       "num_future_commits_bug_fixing  0.000000e+00     0.003205      0.009615   \n",
       "fix_inducing                   0.000000e+00     1.000000      1.000000   \n",
       "reviewer_id                    2.592000e+03  7198.000000  11682.000000   \n",
       "reviewer_vote                  1.000000e+00     1.000000      2.000000   \n",
       "reviewer_is_core               0.000000e+00     0.000000      0.000000   \n",
       "num_prior_votes                3.225806e-02     0.096774      0.161290   \n",
       "pct_prior_pos_votes            3.333333e-01     0.833333      1.000000   \n",
       "pct_prior_neg_votes            0.000000e+00     0.000000      0.333333   \n",
       "pct_prior_pos_votes_core       0.000000e+00     0.000000      0.222222   \n",
       "pct_prior_neg_votes_core       0.000000e+00     0.000000      0.000000   \n",
       "author_is_exp_author           0.000000e+00     0.000000      0.000000   \n",
       "author_is_exp_reviewer         0.000000e+00     0.000000      0.000000   \n",
       "reviewer_is_exp_author         0.000000e+00     0.000000      0.000000   \n",
       "reviewer_is_exp_reviewer       0.000000e+00     0.000000      1.000000   \n",
       "author_is_core                 0.000000e+00     0.000000      0.000000   \n",
       "pos_vote                       1.000000e+00     1.000000      1.000000   \n",
       "\n",
       "                                   max  \n",
       "num_lines_added                    1.0  \n",
       "num_lines_deleted                  1.0  \n",
       "num_lines_of_code                  1.0  \n",
       "num_file_impacted                  1.0  \n",
       "num_dirs_impacted                  1.0  \n",
       "min_complexity                     1.0  \n",
       "mean_complexity                    1.0  \n",
       "max_complexity                     1.0  \n",
       "entropy                            1.0  \n",
       "bug_fixing                         1.0  \n",
       "description_length                 1.0  \n",
       "num_prior_commits                  1.0  \n",
       "avg_prior_age                      1.0  \n",
       "num_prior_commits_bug_fixing       1.0  \n",
       "num_future_commits_bug_fixing      1.0  \n",
       "fix_inducing                       1.0  \n",
       "reviewer_id                    30498.0  \n",
       "reviewer_vote                      2.0  \n",
       "reviewer_is_core                   1.0  \n",
       "num_prior_votes                    1.0  \n",
       "pct_prior_pos_votes                1.0  \n",
       "pct_prior_neg_votes                1.0  \n",
       "pct_prior_pos_votes_core           1.0  \n",
       "pct_prior_neg_votes_core           1.0  \n",
       "author_is_exp_author               1.0  \n",
       "author_is_exp_reviewer             1.0  \n",
       "reviewer_is_exp_author             1.0  \n",
       "reviewer_is_exp_reviewer           1.0  \n",
       "author_is_core                     1.0  \n",
       "pos_vote                           1.0  "
      ],
      "text/html": "<div>\n<style scoped>\n    .dataframe tbody tr th:only-of-type {\n        vertical-align: middle;\n    }\n\n    .dataframe tbody tr th {\n        vertical-align: top;\n    }\n\n    .dataframe thead th {\n        text-align: right;\n    }\n</style>\n<table border=\"1\" class=\"dataframe\">\n  <thead>\n    <tr style=\"text-align: right;\">\n      <th></th>\n      <th>count</th>\n      <th>mean</th>\n      <th>std</th>\n      <th>min</th>\n      <th>25%</th>\n      <th>50%</th>\n      <th>75%</th>\n      <th>max</th>\n    </tr>\n  </thead>\n  <tbody>\n    <tr>\n      <th>num_lines_added</th>\n      <td>107213.0</td>\n      <td>0.001221</td>\n      <td>0.008036</td>\n      <td>0.0</td>\n      <td>4.539965e-05</td>\n      <td>0.000227</td>\n      <td>0.000799</td>\n      <td>1.0</td>\n    </tr>\n    <tr>\n      <th>num_lines_deleted</th>\n      <td>107213.0</td>\n      <td>0.000120</td>\n      <td>0.006634</td>\n      <td>0.0</td>\n      <td>9.435378e-07</td>\n      <td>0.000006</td>\n      <td>0.000025</td>\n      <td>1.0</td>\n    </tr>\n    <tr>\n      <th>num_lines_of_code</th>\n      <td>107213.0</td>\n      <td>0.002931</td>\n      <td>0.008856</td>\n      <td>0.0</td>\n      <td>3.818397e-04</td>\n      <td>0.001242</td>\n      <td>0.003291</td>\n      <td>1.0</td>\n    </tr>\n    <tr>\n      <th>num_file_impacted</th>\n      <td>107213.0</td>\n      <td>0.003802</td>\n      <td>0.012250</td>\n      <td>0.0</td>\n      <td>7.347539e-04</td>\n      <td>0.001470</td>\n      <td>0.003674</td>\n      <td>1.0</td>\n    </tr>\n    <tr>\n      <th>num_dirs_impacted</th>\n      <td>107213.0</td>\n      <td>0.010193</td>\n      <td>0.017945</td>\n      <td>0.0</td>\n      <td>3.134796e-03</td>\n      <td>0.006270</td>\n      <td>0.009404</td>\n      <td>1.0</td>\n    </tr>\n    <tr>\n      <th>min_complexity</th>\n      <td>107213.0</td>\n      <td>0.049912</td>\n      <td>0.080697</td>\n      <td>0.0</td>\n      <td>3.080082e-03</td>\n      <td>0.019507</td>\n      <td>0.062628</td>\n      <td>1.0</td>\n    </tr>\n    <tr>\n      <th>mean_complexity</th>\n      <td>107213.0</td>\n      <td>0.082755</td>\n      <td>0.092418</td>\n      <td>0.0</td>\n      <td>1.958798e-02</td>\n      <td>0.057567</td>\n      <td>0.114362</td>\n      <td>1.0</td>\n    </tr>\n    <tr>\n      <th>max_complexity</th>\n      <td>107213.0</td>\n      <td>0.136949</td>\n      <td>0.148122</td>\n      <td>0.0</td>\n      <td>2.600000e-02</td>\n      <td>0.094000</td>\n      <td>0.197000</td>\n      <td>1.0</td>\n    </tr>\n    <tr>\n      <th>entropy</th>\n      <td>107213.0</td>\n      <td>0.542821</td>\n      <td>0.386003</td>\n      <td>0.0</td>\n      <td>0.000000e+00</td>\n      <td>0.694446</td>\n      <td>0.875624</td>\n      <td>1.0</td>\n    </tr>\n    <tr>\n      <th>bug_fixing</th>\n      <td>107213.0</td>\n      <td>0.665749</td>\n      <td>0.471730</td>\n      <td>0.0</td>\n      <td>0.000000e+00</td>\n      <td>1.000000</td>\n      <td>1.000000</td>\n      <td>1.0</td>\n    </tr>\n    <tr>\n      <th>description_length</th>\n      <td>107213.0</td>\n      <td>0.043816</td>\n      <td>0.037848</td>\n      <td>0.0</td>\n      <td>2.150538e-02</td>\n      <td>0.034562</td>\n      <td>0.054531</td>\n      <td>1.0</td>\n    </tr>\n    <tr>\n      <th>num_prior_commits</th>\n      <td>107213.0</td>\n      <td>0.005656</td>\n      <td>0.015179</td>\n      <td>0.0</td>\n      <td>1.136364e-03</td>\n      <td>0.002273</td>\n      <td>0.005682</td>\n      <td>1.0</td>\n    </tr>\n    <tr>\n      <th>avg_prior_age</th>\n      <td>107213.0</td>\n      <td>0.147313</td>\n      <td>0.114482</td>\n      <td>0.0</td>\n      <td>5.676829e-02</td>\n      <td>0.113474</td>\n      <td>0.198532</td>\n      <td>1.0</td>\n    </tr>\n    <tr>\n      <th>num_prior_commits_bug_fixing</th>\n      <td>107213.0</td>\n      <td>0.003946</td>\n      <td>0.012549</td>\n      <td>0.0</td>\n      <td>0.000000e+00</td>\n      <td>0.001468</td>\n      <td>0.002937</td>\n      <td>1.0</td>\n    </tr>\n    <tr>\n      <th>num_future_commits_bug_fixing</th>\n      <td>107213.0</td>\n      <td>0.009148</td>\n      <td>0.021119</td>\n      <td>0.0</td>\n      <td>0.000000e+00</td>\n      <td>0.003205</td>\n      <td>0.009615</td>\n      <td>1.0</td>\n    </tr>\n    <tr>\n      <th>fix_inducing</th>\n      <td>107213.0</td>\n      <td>0.615131</td>\n      <td>0.486567</td>\n      <td>0.0</td>\n      <td>0.000000e+00</td>\n      <td>1.000000</td>\n      <td>1.000000</td>\n      <td>1.0</td>\n    </tr>\n    <tr>\n      <th>reviewer_id</th>\n      <td>107213.0</td>\n      <td>8028.931706</td>\n      <td>6160.437464</td>\n      <td>1.0</td>\n      <td>2.592000e+03</td>\n      <td>7198.000000</td>\n      <td>11682.000000</td>\n      <td>30498.0</td>\n    </tr>\n    <tr>\n      <th>reviewer_vote</th>\n      <td>107213.0</td>\n      <td>1.224777</td>\n      <td>0.927532</td>\n      <td>-2.0</td>\n      <td>1.000000e+00</td>\n      <td>1.000000</td>\n      <td>2.000000</td>\n      <td>2.0</td>\n    </tr>\n    <tr>\n      <th>reviewer_is_core</th>\n      <td>107213.0</td>\n      <td>0.214200</td>\n      <td>0.410268</td>\n      <td>0.0</td>\n      <td>0.000000e+00</td>\n      <td>0.000000</td>\n      <td>0.000000</td>\n      <td>1.0</td>\n    </tr>\n    <tr>\n      <th>num_prior_votes</th>\n      <td>107213.0</td>\n      <td>0.121527</td>\n      <td>0.120672</td>\n      <td>0.0</td>\n      <td>3.225806e-02</td>\n      <td>0.096774</td>\n      <td>0.161290</td>\n      <td>1.0</td>\n    </tr>\n    <tr>\n      <th>pct_prior_pos_votes</th>\n      <td>107213.0</td>\n      <td>0.663267</td>\n      <td>0.394306</td>\n      <td>0.0</td>\n      <td>3.333333e-01</td>\n      <td>0.833333</td>\n      <td>1.000000</td>\n      <td>1.0</td>\n    </tr>\n    <tr>\n      <th>pct_prior_neg_votes</th>\n      <td>107213.0</td>\n      <td>0.195481</td>\n      <td>0.299000</td>\n      <td>0.0</td>\n      <td>0.000000e+00</td>\n      <td>0.000000</td>\n      <td>0.333333</td>\n      <td>1.0</td>\n    </tr>\n    <tr>\n      <th>pct_prior_pos_votes_core</th>\n      <td>107213.0</td>\n      <td>0.154065</td>\n      <td>0.274031</td>\n      <td>0.0</td>\n      <td>0.000000e+00</td>\n      <td>0.000000</td>\n      <td>0.222222</td>\n      <td>1.0</td>\n    </tr>\n    <tr>\n      <th>pct_prior_neg_votes_core</th>\n      <td>107213.0</td>\n      <td>0.087177</td>\n      <td>0.246126</td>\n      <td>0.0</td>\n      <td>0.000000e+00</td>\n      <td>0.000000</td>\n      <td>0.000000</td>\n      <td>1.0</td>\n    </tr>\n    <tr>\n      <th>author_is_exp_author</th>\n      <td>107213.0</td>\n      <td>0.243748</td>\n      <td>0.429345</td>\n      <td>0.0</td>\n      <td>0.000000e+00</td>\n      <td>0.000000</td>\n      <td>0.000000</td>\n      <td>1.0</td>\n    </tr>\n    <tr>\n      <th>author_is_exp_reviewer</th>\n      <td>107213.0</td>\n      <td>0.199407</td>\n      <td>0.399556</td>\n      <td>0.0</td>\n      <td>0.000000e+00</td>\n      <td>0.000000</td>\n      <td>0.000000</td>\n      <td>1.0</td>\n    </tr>\n    <tr>\n      <th>reviewer_is_exp_author</th>\n      <td>107213.0</td>\n      <td>0.063416</td>\n      <td>0.243710</td>\n      <td>0.0</td>\n      <td>0.000000e+00</td>\n      <td>0.000000</td>\n      <td>0.000000</td>\n      <td>1.0</td>\n    </tr>\n    <tr>\n      <th>reviewer_is_exp_reviewer</th>\n      <td>107213.0</td>\n      <td>0.367120</td>\n      <td>0.482022</td>\n      <td>0.0</td>\n      <td>0.000000e+00</td>\n      <td>0.000000</td>\n      <td>1.000000</td>\n      <td>1.0</td>\n    </tr>\n    <tr>\n      <th>author_is_core</th>\n      <td>107213.0</td>\n      <td>0.115378</td>\n      <td>0.319479</td>\n      <td>0.0</td>\n      <td>0.000000e+00</td>\n      <td>0.000000</td>\n      <td>0.000000</td>\n      <td>1.0</td>\n    </tr>\n    <tr>\n      <th>pos_vote</th>\n      <td>107213.0</td>\n      <td>0.892457</td>\n      <td>0.309804</td>\n      <td>0.0</td>\n      <td>1.000000e+00</td>\n      <td>1.000000</td>\n      <td>1.000000</td>\n      <td>1.0</td>\n    </tr>\n  </tbody>\n</table>\n</div>"
     },
     "metadata": {},
     "execution_count": 26
    }
   ],
   "source": [
    "df.describe().T"
   ]
  },
  {
   "cell_type": "code",
   "execution_count": 27,
   "metadata": {},
   "outputs": [],
   "source": [
    "df.to_csv('../data/rq1/rq1_all_norm.csv', index=False)"
   ]
  }
 ]
}