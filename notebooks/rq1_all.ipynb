{
 "metadata": {
  "language_info": {
   "codemirror_mode": {
    "name": "ipython",
    "version": 3
   },
   "file_extension": ".py",
   "mimetype": "text/x-python",
   "name": "python",
   "nbconvert_exporter": "python",
   "pygments_lexer": "ipython3",
   "version": "3.6.8-final"
  },
  "orig_nbformat": 2,
  "kernelspec": {
   "name": "python3",
   "display_name": "Python 3",
   "language": "python"
  }
 },
 "nbformat": 4,
 "nbformat_minor": 2,
 "cells": [
  {
   "cell_type": "code",
   "execution_count": 1,
   "metadata": {},
   "outputs": [],
   "source": [
    "import json\n",
    "import pandas as pd"
   ]
  },
  {
   "cell_type": "code",
   "execution_count": 2,
   "metadata": {},
   "outputs": [],
   "source": [
    "dfs = []"
   ]
  },
  {
   "cell_type": "code",
   "execution_count": 3,
   "metadata": {},
   "outputs": [],
   "source": [
    "for project in ['cinder', 'glance', 'neutron']:\n",
    "    df = pd.read_csv(f'../data/rq1/rq1_{project}.csv')\n",
    "    df['project'] = project\n",
    "    dfs.append(df)"
   ]
  },
  {
   "cell_type": "code",
   "execution_count": 4,
   "metadata": {},
   "outputs": [],
   "source": [
    "df = pd.concat(dfs, ignore_index=True)"
   ]
  },
  {
   "cell_type": "code",
   "execution_count": 5,
   "metadata": {},
   "outputs": [
    {
     "output_type": "execute_result",
     "data": {
      "text/plain": [
       "107213"
      ]
     },
     "metadata": {},
     "execution_count": 5
    }
   ],
   "source": [
    "len(df)"
   ]
  },
  {
   "source": [
    "## Patch - fill in NANs"
   ],
   "cell_type": "markdown",
   "metadata": {}
  },
  {
   "cell_type": "code",
   "execution_count": 6,
   "metadata": {},
   "outputs": [
    {
     "output_type": "execute_result",
     "data": {
      "text/plain": [
       "hash                                       0\n",
       "author_name                                0\n",
       "committer_name                             0\n",
       "author_date                                0\n",
       "commit_date                                0\n",
       "num_lines_added                            0\n",
       "num_lines_deleted                          0\n",
       "num_lines_of_code                          0\n",
       "num_file_impacted                          0\n",
       "num_dirs_impacted                          0\n",
       "min_complexity                             0\n",
       "mean_complexity                            0\n",
       "max_complexity                             0\n",
       "entropy                                    0\n",
       "bug_fixing                                 0\n",
       "description_length                         0\n",
       "num_prior_commits                          0\n",
       "avg_prior_age                              0\n",
       "num_prior_commits_bug_fixing               0\n",
       "num_future_commits_bug_fixing              0\n",
       "fix_inducing                               0\n",
       "reviewer_id                                0\n",
       "reviewer_name                              0\n",
       "reviewer_vote                              0\n",
       "reviewer_is_core                           0\n",
       "num_prior_votes                            0\n",
       "pct_prior_pos_votes                        0\n",
       "pct_prior_neg_votes                        0\n",
       "pct_prior_pos_votes_core                   0\n",
       "pct_prior_neg_votes_core                   0\n",
       "change_id                                  0\n",
       "pct_prior_commits_author_authored      16761\n",
       "pct_prior_commits_author_reviewed      16761\n",
       "pct_prior_commits_reviewer_authored    16761\n",
       "pct_prior_commits_reviewer_reviewed    16761\n",
       "project                                    0\n",
       "dtype: int64"
      ]
     },
     "metadata": {},
     "execution_count": 6
    }
   ],
   "source": [
    "df.isna().sum()"
   ]
  },
  {
   "cell_type": "code",
   "execution_count": 7,
   "metadata": {},
   "outputs": [],
   "source": [
    "df = df.fillna(0)"
   ]
  },
  {
   "source": [
    "## Patch - fill in `author_is_core`"
   ],
   "cell_type": "markdown",
   "metadata": {}
  },
  {
   "cell_type": "code",
   "execution_count": 8,
   "metadata": {},
   "outputs": [],
   "source": [
    "with open('../data/core_devs.json', 'r') as j:\n",
    "    CORE_DEVS = json.loads(j.read())"
   ]
  },
  {
   "cell_type": "code",
   "execution_count": 9,
   "metadata": {},
   "outputs": [
    {
     "output_type": "execute_result",
     "data": {
      "text/plain": [
       "{'cinder': ['Brian Rosmaita',\n",
       "  'Eric Harney',\n",
       "  'Gorka Eguileor',\n",
       "  'Ivan Kolodyazhny',\n",
       "  'Jay Bryant',\n",
       "  'Lucio Seki',\n",
       "  'Rajat Dhasmana',\n",
       "  'Sean McGinnis',\n",
       "  'Hemna'],\n",
       " 'glance': ['Abhishek Kekane',\n",
       "  'Brian Rosmaita',\n",
       "  'Dan Smith',\n",
       "  'Glance Bot',\n",
       "  'Nikhil Komawar',\n",
       "  'Sean McGinnis'],\n",
       " 'neutron': ['Akihiro Motoki',\n",
       "  'Brian Haley',\n",
       "  'Hongbin Lu',\n",
       "  'Jakub Libosvar',\n",
       "  'Lajos Katona',\n",
       "  'Miguel Lavalle',\n",
       "  'Nate Johnston',\n",
       "  'Oleg Bondarev',\n",
       "  'Rodolfo Alonso',\n",
       "  'Slawek Kaplonski',\n",
       "  'YAMAMOTO Takashi',\n",
       "  'LIU Yulong'],\n",
       " 'nova': ['Alex Xu',\n",
       "  'Balazs Gibizer',\n",
       "  'Dan Smith',\n",
       "  'Eric Fried',\n",
       "  'Ghanshyam',\n",
       "  'John Garbutt',\n",
       "  'Lee Yarwood',\n",
       "  'stephenfin',\n",
       "  'Sylvain Bauza',\n",
       "  'melwitt']}"
      ]
     },
     "metadata": {},
     "execution_count": 9
    }
   ],
   "source": [
    "CORE_DEVS"
   ]
  },
  {
   "cell_type": "code",
   "execution_count": 10,
   "metadata": {},
   "outputs": [],
   "source": [
    "for idx, row in df.iterrows():\n",
    "    project = row['project']\n",
    "    project_core_devs = CORE_DEVS[project]\n",
    "    author = row['author_name']\n",
    "    if author in project_core_devs:\n",
    "        df.at[idx, 'author_is_core'] = True\n",
    "    else:\n",
    "        df.at[idx, 'author_is_core'] = False"
   ]
  },
  {
   "cell_type": "code",
   "execution_count": 11,
   "metadata": {},
   "outputs": [
    {
     "output_type": "execute_result",
     "data": {
      "text/plain": [
       "False    94843\n",
       "True     12370\n",
       "Name: author_is_core, dtype: int64"
      ]
     },
     "metadata": {},
     "execution_count": 11
    }
   ],
   "source": [
    "df['author_is_core'].value_counts()"
   ]
  },
  {
   "source": [
    "## Target variable"
   ],
   "cell_type": "markdown",
   "metadata": {}
  },
  {
   "cell_type": "code",
   "execution_count": 12,
   "metadata": {},
   "outputs": [
    {
     "output_type": "execute_result",
     "data": {
      "text/plain": [
       " 2    47888\n",
       " 1    47795\n",
       "-1    10801\n",
       "-2      729\n",
       "Name: reviewer_vote, dtype: int64"
      ]
     },
     "metadata": {},
     "execution_count": 12
    }
   ],
   "source": [
    "df['reviewer_vote'].value_counts()"
   ]
  },
  {
   "cell_type": "code",
   "execution_count": 13,
   "metadata": {},
   "outputs": [],
   "source": [
    "df['pos_vote'] = df['reviewer_vote'] > 0"
   ]
  },
  {
   "cell_type": "code",
   "execution_count": 14,
   "metadata": {},
   "outputs": [
    {
     "output_type": "execute_result",
     "data": {
      "text/plain": [
       "True     95683\n",
       "False    11530\n",
       "Name: pos_vote, dtype: int64"
      ]
     },
     "metadata": {},
     "execution_count": 14
    }
   ],
   "source": [
    "df['pos_vote'].value_counts()"
   ]
  },
  {
   "source": [
    "## Export"
   ],
   "cell_type": "markdown",
   "metadata": {}
  },
  {
   "cell_type": "code",
   "execution_count": 15,
   "metadata": {},
   "outputs": [],
   "source": [
    "df.to_csv('../data/rq1/rq1_all.csv', index=False)"
   ]
  }
 ]
}