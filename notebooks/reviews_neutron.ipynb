{
 "metadata": {
  "language_info": {
   "codemirror_mode": {
    "name": "ipython",
    "version": 3
   },
   "file_extension": ".py",
   "mimetype": "text/x-python",
   "name": "python",
   "nbconvert_exporter": "python",
   "pygments_lexer": "ipython3",
   "version": "3.6.8-final"
  },
  "orig_nbformat": 2,
  "kernelspec": {
   "name": "python3",
   "display_name": "Python 3",
   "language": "python"
  }
 },
 "nbformat": 4,
 "nbformat_minor": 2,
 "cells": [
  {
   "cell_type": "code",
   "execution_count": 1,
   "metadata": {},
   "outputs": [],
   "source": [
    "from tqdm.notebook import tqdm\n",
    "from time import sleep\n",
    "import numpy as np\n",
    "import pandas as pd\n",
    "import requests\n",
    "import json\n",
    "\n",
    "%load_ext autoreload\n",
    "%autoreload 2\n",
    "sys.path.append('../')\n",
    "from src.reviews import *"
   ]
  },
  {
   "cell_type": "code",
   "execution_count": 2,
   "metadata": {},
   "outputs": [],
   "source": [
    "project = 'neutron'"
   ]
  },
  {
   "cell_type": "code",
   "execution_count": 3,
   "metadata": {},
   "outputs": [],
   "source": [
    "df_commits = pd.read_csv(f'../data/commits/commits_{project}.csv')"
   ]
  },
  {
   "cell_type": "code",
   "execution_count": 4,
   "metadata": {},
   "outputs": [
    {
     "output_type": "execute_result",
     "data": {
      "text/plain": [
       "10751"
      ]
     },
     "metadata": {},
     "execution_count": 4
    }
   ],
   "source": [
    "len(df_commits)"
   ]
  },
  {
   "source": [
    "Change IDs"
   ],
   "cell_type": "markdown",
   "metadata": {}
  },
  {
   "cell_type": "code",
   "execution_count": 5,
   "metadata": {},
   "outputs": [],
   "source": [
    "get_prefix = f\"https://review.opendev.org/projects/openstack%2F{project}/commits/\""
   ]
  },
  {
   "cell_type": "code",
   "execution_count": 6,
   "metadata": {},
   "outputs": [],
   "source": [
    "df_commits['change_id'] = ''"
   ]
  },
  {
   "cell_type": "code",
   "execution_count": 7,
   "metadata": {
    "tags": []
   },
   "outputs": [
    {
     "output_type": "display_data",
     "data": {
      "text/plain": "  0%|          | 0/10751 [00:00<?, ?it/s]",
      "application/vnd.jupyter.widget-view+json": {
       "version_major": 2,
       "version_minor": 0,
       "model_id": "46ab36c8bd3a436a94ed4a012ecc16ee"
      }
     },
     "metadata": {}
    }
   ],
   "source": [
    "with tqdm(total = len(df_commits)) as pbar:\n",
    "    for i, row in df_commits.iterrows():\n",
    "        pbar.set_postfix({'hash' :  row['hash']})\n",
    "        get_addr = get_prefix + row['hash']\n",
    "        response = requests.get(get_addr)\n",
    "        response_json = json.loads(response.text[5:]) # some leading nonsense\n",
    "        message = response_json['message']\n",
    "        change_id = get_change_id(message)\n",
    "        if change_id == '':\n",
    "            print(\"---hash {} does not contain a change id in message:\\n{}\".format(\n",
    "                row['hash'], message))\n",
    "        df_commits.at[i, 'change_id'] = change_id\n",
    "        # Progress bar\n",
    "        pbar.update(1)\n",
    "        sleep(0.001)"
   ]
  },
  {
   "cell_type": "code",
   "execution_count": 8,
   "metadata": {},
   "outputs": [
    {
     "output_type": "execute_result",
     "data": {
      "text/plain": [
       "0"
      ]
     },
     "metadata": {},
     "execution_count": 8
    }
   ],
   "source": [
    "np.sum(df_commits['change_id'] == '')"
   ]
  },
  {
   "cell_type": "code",
   "execution_count": 9,
   "metadata": {},
   "outputs": [],
   "source": [
    "df_commits = df_commits.loc[df_commits['change_id'] != '']"
   ]
  },
  {
   "source": [
    "Change Messages"
   ],
   "cell_type": "markdown",
   "metadata": {}
  },
  {
   "cell_type": "code",
   "execution_count": 10,
   "metadata": {},
   "outputs": [],
   "source": [
    "get_prefix = f'https://review.opendev.org/changes/openstack%2F{project}~master~'"
   ]
  },
  {
   "cell_type": "code",
   "execution_count": 11,
   "metadata": {},
   "outputs": [],
   "source": [
    "reviews = []"
   ]
  },
  {
   "cell_type": "code",
   "execution_count": 12,
   "metadata": {
    "tags": [
     "outputPrepend"
    ]
   },
   "outputs": [
    {
     "output_type": "display_data",
     "data": {
      "text/plain": "  0%|          | 0/10751 [00:00<?, ?it/s]",
      "application/vnd.jupyter.widget-view+json": {
       "version_major": 2,
       "version_minor": 0,
       "model_id": "23ee5613577a41fdb2794200355fad1d"
      }
     },
     "metadata": {}
    },
    {
     "output_type": "stream",
     "name": "stdout",
     "text": [
      "7a0eec64c0e0513df3f3e9f1f3489086f6316f9 had invalid response\n",
      "---hash 6e3da8a952cc9a52f375cb70e01e27e8a71c1fff with change id Ifb5cac5b1529fef7862f5a63a0d1592f5bcc01d0 had invalid response\n",
      "---hash 2add4e5ad4d12c817737d04ddb973b3aeeb25af3 with change id Ie61a9f0c0b0b4896da33a201e42b1c4bc4bae49b had invalid response\n",
      "---hash f7ae3a04b541767c638fc4c8ff1e0db78ab94996 with change id I1b7bd1773bcd12ab282e77ee0dc41c27846fb66b had invalid response\n",
      "---hash 4d5ae8852a79eb4ba041122e65052abf8c196efb with change id I2d35d0659bd3f06c570ba99e8b8a41b620253e75 had invalid response\n",
      "---hash 148bf97ef562241e9d5bb67a55497f8b82c5a829 with change id I3be4ae2a62e92e758b2719161ab1674d0f8bb6af had invalid response\n",
      "---hash 1cfed745d54a6ce9cb3dd4e6f454666d9e6676c2 with change id I373e1bf2d9b0efc9b1aff01695405f7a70ca6bef had invalid response\n",
      "---hash 96d1cb1ae2f0188988102a56c2886870af94d88e with change id I86e8048e2d9b84690dbede9a94cfc884985069c5 had invalid response\n",
      "---hash 7f759c077f8f860c13db92d2ea6b353ef6b70900 with change id Ib8c70c6aec4e320c84546c8ab52e29b97c62d401 had invalid response\n",
      "---hash b17f865f85fddafaab367f55470c2b7ae8135e62 with change id Iba82d9728e99238bcc55b12f0ab9eb936fd62147 had invalid response\n",
      "---hash be1d242fa3efcef9e7095fbbf0e2de022fa86a45 with change id Ided0740548987ca91f1549f251c7906e6449f91d had invalid response\n",
      "---hash 4310b4c2a68914aa78275a78f882c70eb57c1fde with change id I55a7dac602e2e770c21b6c7957430cb7115e5bdc had invalid response\n",
      "---hash 3e2ef95dfdfe19a0097f8d68f453cbabbb8f2169 with change id I9226932191464face6e20625e35ad4b7529db4ca had invalid response\n",
      "---hash d7e60d59a34a7415a0b0185dbaa99bdc84723608 with change id I7bd5d0568e773365eaab1ebd99dcd7186da22dae had invalid response\n",
      "---hash 3d6666af4921a28ccb95d25d88087e89e23e3ec5 with change id I7228b3a288848833947271a0966ca415bfaa07c4 had invalid response\n",
      "---hash e90b28662eb769e26f2f6c202a71910819c3ff41 with change id I9b6cacfda4f40230d746222bed5b6c490be63743 had invalid response\n",
      "---hash b167ec6d4f5577c54a1a02e6a835b875a6e2150a with change id I66f87b99241a25d39d08c124bae3779c872bc567 had invalid response\n",
      "---hash 3de65f57e30b73f5d7efc0344a102f1e40a6b40e with change id I38528863e1145caf05fe3b2425511d1c5b5c0f93 had invalid response\n",
      "---hash e3dba1424114575581c153e02227282e036ad0a2 with change id Ifc92c19a69d28784c030d605c2eb161c2ba4b3f5 had invalid response\n",
      "---hash dc802438887265c1faa0a92df7c7c701854cf5fc with change id I524cf5a14e99dc6bee4d4261557d98c75efa0809 had invalid response\n",
      "---hash 2d38c742e84aebccd367eb7312ddaaeb0d02bc01 with change id I0ac8a009e781b6edb283d8634b1a2f047db092dc had invalid response\n",
      "---hash c26142be338ef14f5fd0a4c7aa5b4ac42bc685d1 with change id I813de7ff1bee188f4294f4b3eb3645ebd903297b had invalid response\n",
      "---hash 8a0e11143cadfc925e6f986fb39d73e6879a8fae with change id I114225ad6fa52ae5a085719251f273f3de4d72ef had invalid response\n",
      "---hash 4ee9eebd7dd5ed7c87d481eda500b664ae564644 with change id If9c7a7b9b8a5d2367d8f3225fbf07d8e3ec8865d had invalid response\n",
      "---hash 878e85527fa6833a85d7d9ad15e63e26aeb00ccd with change id I2f58c767ba35eeee2f9ecc363e5b042ea8638faa had invalid response\n",
      "---hash cbc7826f2c0b77f1283ed62a3adb332c639cbdd5 with change id Icecb3fc08c81bd9fb9f8bad54ed800a4eb55d399 had invalid response\n",
      "---hash 2fed2617cd843f10aa74e34cef5efe7f7dae00c3 with change id I7f2342d62634f5b4af3a083cc1aaff46efe28519 had invalid response\n",
      "---hash ec799c458976d5bdc03f36fa4bf56c8ca0160614 with change id I9c3cb40fd12c3e404aa1e585f76970e2ee49f4d8 had invalid response\n",
      "---hash 65d5a9401470c5a67be46d28aad56cd287013d13 with change id Ie2617cb5e502b49e8c33bb47ad295c80e53b769a had invalid response\n",
      "---hash a71cb067d0100a1ec3f6df037c6c4740a6b2771a with change id Id6bc992af9f1ab46c022d3c88aa66a0f3bb7f227 had invalid response\n",
      "---hash 00589382cf1ea7034d5dee5aec8bf3814f7e92a5 with change id I28167e356e70235304b166c997df52ca1b28f836 had invalid response\n",
      "---hash 78703ddefbbf93dda8ecb173f14086880bb9f82f with change id Ic4342cc0637d659191f084467ccdb9c90e89a023 had invalid response\n",
      "---hash 3edec57c2250daafdcdac88581efa1acc5acf237 with change id I012b5fe4e95f166f66da91274734d7184c224dfd had invalid response\n",
      "---hash 31e09028e3b3c85954a9aebf32c412bd897afdbb with change id I6e95aa6cb61d5cc36600394b2198587793da8a0e had invalid response\n",
      "---hash 954e9de8b3b697b39e087f2d03b49f0856c44c32 with change id I1aecb2e7c4d8cb8f239072d1cb9df3db29dcedde had invalid response\n",
      "---hash 6f3b70b5061af332c7accd348ec31b453c272e98 with change id Ica80753ce3052b68ba8db2d2760ed4310ec0b976 had invalid response\n",
      "---hash dd6cd44b2155605345a6925d3373bb6afe0bcf62 with change id I8ab3e885bdf010fe95529157f3db4f1089326c86 had invalid response\n",
      "---hash 46d2150b3b747b60a7ac439b15c6909be69f19b8 with change id I7777c827f754e3269d69f6a5331325a76c5e57b2 had invalid response\n",
      "---hash 3a9975cbc30d9253b96cec9e079b411add184ec1 with change id I82695bcf1b78910dc415a92473ac7f539e85f36a had invalid response\n",
      "---hash 9544ffb615f69f25268f0f2fd3d92ca4acc7d8cb with change id I9e388173dfe0eb43c961018bd687bc86f34c7a6a had invalid response\n",
      "---hash cdcffc709baa3290934e6fc3e7f87862dbbbe0e1 with change id Ie952b63e3760d1924a34676e97319ec4301effca had invalid response\n",
      "---hash 3cbe446cb6db0ee18c928bb3ec1ff688db5febd4 with change id I3962dd2c0e1273905781faf3f5c51886dea21cd4 had invalid response\n",
      "---hash 1ec79bad468f65d0adfb16f652170f059c92a3bc with change id Ib09824552edd287ec1df3bdd6700c9ce8a02df29 had invalid response\n",
      "---hash e19eb49c1c066c8fa4a3c19183bca1daef553a5c with change id I040b3a3c9e137267dfe237dd90fb525026b0d16e had invalid response\n",
      "---hash a1c05891a52fba19dec1122e25144446ee8717ae with change id I3c6a3711d3cd9924d55cf6d0ed84be18c993c275 had invalid response\n",
      "---hash 4af0de954aabb51560d4c28f8ea246a53d214b20 with change id Icf821dec17f435d8e47e1047fb05225e7dd071f0 had invalid response\n",
      "---hash 6140da5f25da126cdbfae3e9ee397315e7834fc5 with change id I3d89bcbb9c64b87d7425155c33b2f753176e94fd had invalid response\n",
      "---hash 0a33e355bcfb0a44ad3617f659ab452a04abdbdb with change id Ia16393453b1ed48651fbd778bbe0ac6427560117 had invalid response\n",
      "---hash 0395f142031bb200373b439c7798629eee1321eb with change id I1b7d4611215a471d5c24eb3d7208dcddb7e015f4 had invalid response\n",
      "---hash ddd9ee9a4c1dc36b405cb4cb854bb1b46ed32e98 with change id I6cf2394a27f8bb29a18c99effe2dc2251c138d59 had invalid response\n",
      "---hash c22cce92f8cc93392e07124d00771c3c5a962cba with change id Icd8a725f231e2749bb81da0bcad0f7ef95beb676 had invalid response\n",
      "---hash ea02f25fbef43580c619eb778aab3dc874427eef with change id I1887d402a4377babb648182727cf51b9f2627e1c had invalid response\n",
      "---hash d3708de0cb1dacc610bc9585a55dd260a862104d with change id I744ab2d8327a428a5467f2d07d073a5f8c333520 had invalid response\n",
      "---hash e467fb3f5bc3ae925838ad3fc8a7a41185a9c4c1 with change id I0f34ed8464857859bcd519e301a49b0b067593b0 had invalid response\n",
      "---hash 5d58a6877336089ccd89acee6edc2b7c9ee9ee3c with change id Iddab10729cf12e3b7425c5d2298f2a6b3436289c had invalid response\n",
      "---hash 517cf5b843922b6a789c4d4fd1381444acbb91d2 with change id I8eaffa243f74a8f93dfc1638727ac9cd0bdf505d had invalid response\n",
      "---hash 69f4b813e8a086512f39ee3ef5b8f3354f9af8c0 with change id Ibd94c41fb847d67aabb94172d0117bafc0fdbdf6 had invalid response\n",
      "---hash 15b524c0d8e6b723fc5c9861ec6332b785039ff2 with change id Ib4355481a51c9c568ab821c45b2c6fe863a594dd had invalid response\n",
      "---hash 7ed1d4f61635e67d0a554ed34540a03222c3f9d3 with change id I25c72aae74469b687766754bbeb749dfd1b8867c had invalid response\n",
      "---hash fcc5d5bcf7348f3c6e530463ef4e90acddd04286 with change id I1c1fd593235fda1cdd053980f50eff21ca9011b6 had invalid response\n",
      "---hash 9599e748cafd504d469a0e225e37ede18345d5ee with change id I06a0b5c4f474b370072f2b6a13146f17a51eb847 had invalid response\n",
      "---hash d2259240bb06f2e1d82465d3ddc0ee7073795087 with change id I5929338953a2ad7fa68312d79394a306eb0164a2 had invalid response\n",
      "---hash 301ffb02ecccdddfee361ee6738b7ff84d7cc0d8 with change id Idefa819f9a21cf53762b1fb923dafb63f2b256e0 had invalid response\n",
      "---hash 5c21e5d826f7e7d184224f3817d8b5ee7346ee9b with change id I5875fb24b7c95efb3bd7cd548bd5d9d21d6544ba had invalid response\n",
      "---hash fd0bf111838b90dcf76d670987770835904810fb with change id Ica4626083054200e3b82bef23984462e7c596e1e had invalid response\n",
      "---hash 9193048edf186d90739ff2e1b3d9737fc3ba06fb with change id Iac895d7eff8dc4f34b56007a48fa6fc64535fca3 had invalid response\n",
      "---hash c240d381dc281e542f32045174333dd6909b44d2 with change id I86cf669dabbdad9680b6739d59e0f81a74c8629f had invalid response\n",
      "---hash 92d94bf020ede2a37c3c966c9ac7ed68b139cccd with change id I994253ac15320254104862d2df8dacfc7fc00014 had invalid response\n",
      "---hash 612ffff9aff93e3e41c549097a1249f2ea37a8e0 with change id I05e1902c75e4ce5de7f88f5d6281934a3a9a84ac had invalid response\n",
      "---hash a798840a40c3ec00d2b27edb772328403d1376c9 with change id I93fde3c472e4ecd7af8a7ce50be832b7216e40f6 had invalid response\n",
      "---hash 12f7abd3982d3580abdb9055c650bdad50900cf4 with change id I0d18ae256877a129e203110003fcadd1d63590b4 had invalid response\n",
      "---hash e7ef7cace1da95e43401a086f314c3cb89d9fc9d with change id I13870680d7756be9dd020135bc8e91d1c12f728d had invalid response\n",
      "---hash 01e9b771031bd83c12f5ca2f1725927e70050763 with change id I725c876739ff85b4db8fb053de0362ce367ae78c had invalid response\n",
      "---hash ec1e812e34339f3d4b2f259a7dd294c5487d8f80 with change id I4108c3d111067d8217bc4112c05e1bde0125e0ef had invalid response\n",
      "---hash ef3c74ffa81f1efd53275133cc4012d9b9d11a8d with change id Ia5f7ce327eb9733faf948f68b5ff30d20df20635 had invalid response\n",
      "---hash 8c7c33c85678e37da3a40e2167d37f01146ca9cc with change id Icc71ae923d88e2db193d4a33726f8455af4c5dd8 had invalid response\n",
      "---hash 3a9c08b80b7f86fa2cd0cbc08de6d1845249ac13 with change id I3095f0e8249941f24cbf478cba142135272ebfd3 had invalid response\n",
      "---hash 9badcd249dab2d3330f0cd608496b59c9f44499a with change id I42fb51c428c5ddf39501b9dc1792add62206f4d6 had invalid response\n",
      "---hash 11924b11532979090abdba9960dd2dad81debcfe with change id If06de416dfe0eb7115fd4be9feb461fae8e8358d had invalid response\n",
      "---hash 3b97f79ab7756a8737df53405b3dd458e79752be with change id Idec13ff4ec575b6d0c0a455c1b3bd9d9700ff7fb had invalid response\n",
      "---hash c9bdcb5557dbf8f782fe502dbb6c98c3550e5241 with change id Iadabd14c3490c842608e53ceccf38c79dcdf8d85 had invalid response\n",
      "---hash 582d03e4642a1eb271c187e65527b0c232548a49 with change id Ia152b3ff385d2aa0cf40664ef039265b046b1d17 had invalid response\n",
      "---hash 1f2c05a0b13d429ba6822b2e6acb5b56e10cb0ed with change id I0a6d401f6c1d35cbed397eed79a9aa7db07d179b had invalid response\n",
      "---hash 80ff953069dc096383e04350a7013971214e1e5d with change id Ic950db35aec66fc0f81070a0641e0473f70d765c had invalid response\n",
      "---hash f80aa722a664324de1efe453803794a50c9e5cb1 with change id I64610e4b60112daec982a8cacded9b9b936c10bd had invalid response\n",
      "---hash 87aa42bc765614750e4f3fab446d03384722133a with change id If789695b4084aed467d5f773c6b6bebea073724d had invalid response\n",
      "---hash cb8fb80a4b62e5d2fb15642c770c3b15495d2bf5 with change id I3b354765e0efc9fa511421e7acbb937ded1146d8 had invalid response\n",
      "---hash 52f60ba6c7319b139e2d6e17a2d3fa07344786b3 with change id I0854c8ebc3b690c9195beeca92fe37f1121b410a had invalid response\n",
      "---hash 336a547aad506ccf69a58e7ac11b9ea12e9f66f9 with change id Icfbf32c36f98cc6e203841b152c7f6fc4f48c20a had invalid response\n",
      "---hash c660173edcc137c53bad6194183188bcac3552a1 with change id I205cbc2d9a2eeee1a0a9fb5794efc063de6f326d had invalid response\n",
      "---hash 2b280a634ecb6f57c44c1d5a34b07e0bdb4d750e with change id I5592d49909408df66e4d01cebbc45204c2be66c1 had invalid response\n",
      "---hash 12ff4d6b5890c2fd1e0a3e58f974be3e1f1465ca with change id Ib30a9213b86b33826291197cf01f00bc1dd3db52 had invalid response\n",
      "---hash 651eeb6a5f40e58b7a6b3ccb59826bb6f08827c0 with change id I582ff43a0ce2f17e3f9fedf7cd32dfbac1ebae28 had invalid response\n",
      "---hash 0c154ca94438e26884770742822728ecde3810e0 with change id Ic703a0865d1cfa057ab1ad5290b793b22df06af6 had invalid response\n",
      "---hash 7ccc705f6177d9fd198f079e8b57cf44e58b1963 with change id I0a2679fa1ccfb7bae6083df9a71c6cb5205a21d9 had invalid response\n",
      "---hash 1753187d490758238a09827f867a2d6542ee941b with change id I8926adb0a30728e4f82e55d71ad7e76676a22086 had invalid response\n",
      "---hash cc0ae6dd49da3e67c1d0400bc422e735c27e98fb with change id I683102e617202e0ffc953a0d3cc179879f8faf82 had invalid response\n",
      "---hash 75737c5ef0f7abe8aab80f77336ff9be18494ebc with change id I882d60843e1e651f3f9754746ac670f499431466 had invalid response\n",
      "---hash 0e2ce9c5c4cf5a44b32858c1842a3e4bc9a46e37 with change id Id157bd1e105051a583fea8e5107326289c551739 had invalid response\n",
      "---hash 81009f6b942e468214db9550d58cda11ecf06545 with change id I3e0d0a3fe2effade4e7bcd94018313ab2beb8f28 had invalid response\n",
      "---hash 0a0b4c53c0dfdb1d1274286d7c1058ddccf17410 with change id I7a78ea4a8b3a03ef2013d41f9788e554f73c990b had invalid response\n",
      "---hash f58d14ca02f8a5f6fd441ac55f6ec11afe070c80 with change id I69d1e4b3bab8b62c5d8e45ec6294f4195de7ef83 had invalid response\n",
      "---hash 23ef0da0fbc335d962bf1e0a4ec60c34394c2782 with change id If611149be19c5c159fc7bd0a4ba2829c11735d52 had invalid response\n",
      "---hash 06368a001932a748fa78a6bb1f8419a5b78ee515 with change id Id3a7d8ddf5599a532e3d5609d94522579f85b938 had invalid response\n",
      "---hash 29808803dfa7efb17b213cdf5f055aa2f04a17b2 with change id I86197d02d0474fd9a55a09efcce6a7380c08c5e0 had invalid response\n",
      "---hash d148e68b71852f5cc0994a9137975ecf5393fb92 with change id I6f6976aa49694f7ef17afa4e93bc769cd0069f65 had invalid response\n",
      "---hash 4dd9841186ca258249f111bd68f4abbf748718e8 with change id I0587d89b0e841e5fd19b91157602efb5aa97513e had invalid response\n",
      "---hash d5ee971d713e72ecd4e9465665ba06d9e3051c0e with change id Id5a356a595a052d0cf1f57d376ad8289e710a9b3 had invalid response\n",
      "---hash 11e22a435adc20d65196b937381c5d931130e771 with change id I130cfbc8b78da6df4405b90ea1ab47899491ba41 had invalid response\n",
      "---hash ac3e1e1256402ab014902239a93ecceff76637d1 with change id I9120748505856acc7aa8d15d896697dd8487bb02 had invalid response\n",
      "---hash 088289acd23a9fe84e8346c9475976d24efde580 with change id I48e04b42c07c34cf1daa17e7a29a6950453946ff had invalid response\n",
      "---hash a034115e6160d8c2d7e63a1465fea97e1ced03fb with change id Ie5424a257b9ca07afa72a39ae6f1551d6ad351e7 had invalid response\n",
      "---hash 5f5be37899d5eb8815729a8677a9ab2247ecb07c with change id I22397af3a43254d146abaa4a4429ac654b4c3c50 had invalid response\n",
      "---hash a7eeab83ebe1023c14cfaab6b8366a6950e3551d with change id I9df9981129b8f3b82e867c8423986f5e0150186b had invalid response\n",
      "---hash 09dd8848d3ae309ddfbe9fa7cd1f9abf4442ec7d with change id I31f59e1ee3bbd6bdb039cd149d7a335c692d538d had invalid response\n",
      "---hash d83375960c3716241dd1d5e60fd773a647be0eda with change id I28931d2be00dd87a8155a50afe008e03e9699f17 had invalid response\n",
      "---hash 4ef2dcc106eb8014daf0f94e12db1030eb86aab6 with change id I24272ba44eb502c8552d3556c84214942944646c had invalid response\n",
      "---hash af2e56d86caad9b72c55dbc4248c63d9db7bb8e0 with change id I23fe45ef08618ad91567feb1707028e0a0bfe0d6 had invalid response\n",
      "---hash 991bcd671161f398cb77c6f96efb1638eddf35ae with change id Ia4e96c7c734cf4abe9a35c813bd8330b15b68f4c had invalid response\n",
      "---hash ca0d7bce211d33ef8081684542ba4854cb743d74 with change id Iae4dcc20c967d1da216772a3a3660e0421263527 had invalid response\n",
      "---hash 2aac5991aca3a90df40668a4e73c389010192287 with change id I4a1f4ec1ed9a9104fe7e5bbce66147d8ea6c0f27 had invalid response\n",
      "---hash a7b91632fc65ab9d2687298c68b1d715866d0356 with change id Ic237c09131f6579f3df1a3a10ba1e5f7a3d42bde had invalid response\n",
      "---hash becfd6ebe603d5bac0148afb1e0892eaa3e325e5 with change id I91b08c5d8ccaa2867b6eafd0c86872f401dd04c8 had invalid response\n",
      "---hash df257dec56ae3c1f834b0c423ae55ec85164981a with change id I48940dc88b04e5e54e55187423295a6d34ee725d had invalid response\n",
      "---hash 8aedbd7ef5f4c2accf75484cddffd4223faa51c6 with change id I57a006352d97363005f4f2a7d79ec8f1c91d1555 had invalid response\n",
      "---hash a17d97fc00d7467e9128f9691d3409636ce1e9b4 with change id I46a972b045c03f65888a22f55e893c69da3db14b had invalid response\n",
      "---hash 995c35221bd9d51a71022902a00a1d9e23449787 with change id I364fc8158e502d4dcc3510d6157f12969961a11d had invalid response\n",
      "---hash d56fea0a39cbb53c36b0f7df3f7baef34588ec9a with change id Ie802a235ae19bf679ba638563ac7377337448f2a had invalid response\n",
      "---hash bb1546df15b57923fdbb9057407274bdcce59c50 with change id Id7e64c745cdd63d650a3f69572635dc10197259c had invalid response\n",
      "---hash 2ba2456f9dae2a4cf30804a562c08832c24b6231 with change id I56384f5f964ea90d72babf911aa5639989e9c3d8 had invalid response\n",
      "---hash 2c5f44e1b3bd4ed8a0b7232fd293b576cc8c1c87 with change id I9c29ad9564671ae5a2db35835bc4a30e75482cb2 had invalid response\n",
      "---hash 22188bb0d96b05e9e2a8eb6ed73b18b6d36fc2ac with change id I9df72f59c7e65414ddbc8431676312a0d4fd36c8 had invalid response\n",
      "---hash bcf369b4d099c1cd3a39d47dc015e9ff280a8dfb with change id I34880d1ce796cfd6f81d16fc1b9fd8387b5db056 had invalid response\n",
      "---hash ae319ee3590ffeaac3a31f98894bfbf9a82926c0 with change id Ia748194b2c07a04a711d32ce8058a006e73621ef had invalid response\n",
      "---hash be9bff66be7939b42cea47675f6c0542003a8c54 with change id I61f1cfcad4ff00582e0a481400642dd656d5245e had invalid response\n",
      "---hash 6f2849c91691a551447c2977ff0a1bead5d5d744 with change id I28d09f217464c1abef6fc38907071a65c17da86c had invalid response\n",
      "---hash 4e4a6cff5d257c85fb062d660ef2d1c9d0941ce9 with change id I4305f374e4aacab718daa6f131f278cc69e8d699 had invalid response\n",
      "---hash 7ab8ee2118e27a7940f4b66d88f028b30c2fb513 with change id Ib1ae1d4de9f61bf9eea7e3ceb7fd971195e452e3 had invalid response\n",
      "---hash cbc7cd6cc4d4cc9cce9c7698b807629812247d3b with change id I2c2e6f6e449a51ea60de75325855affa62869692 had invalid response\n",
      "---hash 5d8735e15875c9d923046256af5a3c5f1a130e28 with change id I3b00348c854b5d887d74c115d06984222f20ccc1 had invalid response\n",
      "---hash 1a87e36c61444531874a4e6b3018c37ca4a0d566 with change id I01cfd45b99dcfca4e320900caebdc68f6562ddd8 had invalid response\n",
      "---hash 611ca6bf42a20bfc076b3275fec4bd1f1c100691 with change id I796f6abf56dc7ff0f374b9912b92085f4a993a27 had invalid response\n",
      "---hash 3b8fdf4eaaa3262147a61fa1f2e6debb22ed0cf1 with change id Ie2217972c75b14a0867477f26f434055b33a9ae6 had invalid response\n",
      "---hash a9eead2b7bdf1123602af13766bfa5c3dc6a2a7e with change id I014a18474ff79d48de469d7fc2a12c2e195ce22d had invalid response\n",
      "---hash 3cf7838344fa009060253bf8ead3c28278f8f54a with change id I331444d577b03257db2fcc96324d020eff9bef08 had invalid response\n",
      "---hash 6f585ca08a19a0e24232885dfe2490f117b30b3b with change id I183c6ff67597fe93e394fc8f07d7229112d4e215 had invalid response\n",
      "---hash 2dfa49db138d3e7e84a7fff03cb08fe34729daeb with change id I686f3e3ed1095fdb48dd0515b58b159594f64f9e had invalid response\n",
      "---hash 4f1fb05959b211c0edc52021af8774a163aa518c with change id I22388de076cbd90da33502249e101749e019e0cb had invalid response\n",
      "---hash fdc3431ccd219accf6a795079d9b67b8656eed8e with change id Ic6314ef9c1db6524fbb0ed8b1bacdc2b081c4775 had invalid response\n",
      "---hash 40151be9b3d7768de0c231f00d99f05371515c7b with change id I917e89b2191b3d4646e66a7a313783a56cf0ace5 had invalid response\n",
      "---hash 496c67e9700a8ae5138242feed07128a1d961956 with change id Ia14afe104b38a9b16fd3dc964686a733061d7e5c had invalid response\n",
      "---hash fb69960f1e1b5f62c10dfeda22269a8b661cbb8c with change id Ie471869d9b2793acdc412f13507038433f6a72c6 had invalid response\n",
      "---hash 2c40310584826c69fbed01a3f31fb2a2dbc5243f with change id I4ec0d2276c3974117b497228d289c3fb0dc5a140 had invalid response\n",
      "---hash 3b0934e9f11b1bc9bf339681f2b5abad77a995e7 with change id I5463e1ffb9e7fc772ba27dd7b7d7d2414a526b5a had invalid response\n",
      "---hash 892a325d7e66a164a74c5bafdf7e0d460af275d9 with change id I597258484d388091366bf9baed6e87dafb3f0cc3 had invalid response\n",
      "---hash b682ec29301facb21d649e688b36541d8262552b with change id Iebba9a068678ee6861761a3c8cb22f64276442df had invalid response\n",
      "---hash 4283a7e36b74823f229400f0f049742f630db28b with change id I6a908470987ce05769c425c4623df404cef76a10 had invalid response\n",
      "---hash d559cd53e86fb0a3313289467bf4c56bbe76bcec with change id Ic66c186ab73bad6fcd133f2b9d15e07fd0eebb33 had invalid response\n"
     ]
    }
   ],
   "source": [
    "with tqdm(total = len(df_commits)) as pbar:\n",
    "    for i, row in df_commits.iterrows():\n",
    "        pbar.set_postfix({'hash' :  row['hash']})\n",
    "        get_addr = get_prefix + row['change_id'] + \"/messages\"\n",
    "        response = requests.get(get_addr)\n",
    "        if response.status_code == 404:\n",
    "            print(\"---hash {} with change id {} had invalid response\".format(\n",
    "                row['hash'], row['change_id']))\n",
    "        else:\n",
    "            response_json = json.loads(response.text[5:])\n",
    "            reviews_for_single_change = get_review_info(project, response_json, row['author_name'])\n",
    "            for re in reviews_for_single_change:\n",
    "                re['hash'] = row['hash']\n",
    "                re['change_id'] = row['change_id']\n",
    "            reviews.extend(reviews_for_single_change)\n",
    "        # Progress bar\n",
    "        pbar.update(1)\n",
    "        sleep(0.001)"
   ]
  },
  {
   "source": [
    "Save to output"
   ],
   "cell_type": "markdown",
   "metadata": {}
  },
  {
   "cell_type": "code",
   "execution_count": 13,
   "metadata": {},
   "outputs": [],
   "source": [
    "df_reviews = pd.DataFrame(reviews)"
   ]
  },
  {
   "cell_type": "code",
   "execution_count": 14,
   "metadata": {},
   "outputs": [],
   "source": [
    "df_reviews.to_csv(f\"../data/reviews/reviews_{project}.csv\", index = False)"
   ]
  }
 ]
}