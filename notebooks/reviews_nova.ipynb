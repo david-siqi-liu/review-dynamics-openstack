{
 "metadata": {
  "language_info": {
   "codemirror_mode": {
    "name": "ipython",
    "version": 3
   },
   "file_extension": ".py",
   "mimetype": "text/x-python",
   "name": "python",
   "nbconvert_exporter": "python",
   "pygments_lexer": "ipython3",
   "version": "3.7.10-final"
  },
  "orig_nbformat": 2,
  "kernelspec": {
   "name": "python3",
   "display_name": "Python 3",
   "language": "python"
  }
 },
 "nbformat": 4,
 "nbformat_minor": 2,
 "cells": [
  {
   "cell_type": "code",
   "execution_count": 1,
   "metadata": {},
   "outputs": [],
   "source": [
    "from tqdm.notebook import tqdm\n",
    "from time import sleep\n",
    "import numpy as np\n",
    "import pandas as pd\n",
    "import requests\n",
    "import json\n",
    "\n",
    "%load_ext autoreload\n",
    "%autoreload 2\n",
    "sys.path.append('../')\n",
    "from src.reviews import *"
   ]
  },
  {
   "cell_type": "code",
   "execution_count": 2,
   "metadata": {},
   "outputs": [],
   "source": [
    "project = 'nova'"
   ]
  },
  {
   "cell_type": "code",
   "execution_count": 3,
   "metadata": {},
   "outputs": [],
   "source": [
    "df_commits = pd.read_csv(f'..\\data\\commits\\commits_{project}.csv')"
   ]
  },
  {
   "cell_type": "code",
   "execution_count": 4,
   "metadata": {},
   "outputs": [
    {
     "output_type": "execute_result",
     "data": {
      "text/plain": [
       "21796"
      ]
     },
     "metadata": {},
     "execution_count": 4
    }
   ],
   "source": [
    "len(df_commits)"
   ]
  },
  {
   "source": [
    "Change IDs"
   ],
   "cell_type": "markdown",
   "metadata": {}
  },
  {
   "cell_type": "code",
   "execution_count": 5,
   "metadata": {},
   "outputs": [],
   "source": [
    "get_prefix = f\"https://review.opendev.org/projects/openstack%2F{project}/commits/\""
   ]
  },
  {
   "cell_type": "code",
   "execution_count": 6,
   "metadata": {},
   "outputs": [],
   "source": [
    "df_commits['change_id'] = ''"
   ]
  },
  {
   "cell_type": "code",
   "execution_count": 7,
   "metadata": {
    "tags": []
   },
   "outputs": [
    {
     "output_type": "display_data",
     "data": {
      "text/plain": "  0%|          | 0/21796 [00:00<?, ?it/s]",
      "application/vnd.jupyter.widget-view+json": {
       "version_major": 2,
       "version_minor": 0,
       "model_id": "16b77ca27e704353989b02fe7e9874c2"
      }
     },
     "metadata": {}
    },
    {
     "output_type": "stream",
     "name": "stdout",
     "text": [
      "---hash 4180e0f147608aebf4d74033553f526b21329946 does not contain a change id in message:\nMerge \"Revert \"Fix migration and instance resize update order\"\"\n"
     ]
    }
   ],
   "source": [
    "with tqdm(total = len(df_commits)) as pbar:\n",
    "    for i, row in df_commits.iterrows():\n",
    "        pbar.set_postfix({'hash' :  row['hash']})\n",
    "        get_addr = get_prefix + row['hash']\n",
    "        response = requests.get(get_addr)\n",
    "        response_json = json.loads(response.text[5:]) # some leading nonsense\n",
    "        message = response_json['message']\n",
    "        change_id = get_change_id(message)\n",
    "        if change_id == '':\n",
    "            print(\"---hash {} does not contain a change id in message:\\n{}\".format(\n",
    "                row['hash'], message))\n",
    "        df_commits.at[i, 'change_id'] = change_id\n",
    "        # Progress bar\n",
    "        pbar.update(1)\n",
    "        sleep(0.001)"
   ]
  },
  {
   "cell_type": "code",
   "execution_count": 8,
   "metadata": {},
   "outputs": [
    {
     "output_type": "execute_result",
     "data": {
      "text/plain": [
       "1"
      ]
     },
     "metadata": {},
     "execution_count": 8
    }
   ],
   "source": [
    "np.sum(df_commits['change_id'] == '')"
   ]
  },
  {
   "cell_type": "code",
   "execution_count": 9,
   "metadata": {},
   "outputs": [],
   "source": [
    "df_commits = df_commits.loc[df_commits['change_id'] != '']"
   ]
  },
  {
   "source": [
    "Change Messages"
   ],
   "cell_type": "markdown",
   "metadata": {}
  },
  {
   "cell_type": "code",
   "execution_count": 10,
   "metadata": {},
   "outputs": [],
   "source": [
    "get_prefix = f'https://review.opendev.org/changes/openstack%2F{project}~master~'"
   ]
  },
  {
   "cell_type": "code",
   "execution_count": 11,
   "metadata": {},
   "outputs": [],
   "source": [
    "reviews = []"
   ]
  },
  {
   "cell_type": "code",
   "execution_count": 15,
   "metadata": {},
   "outputs": [
    {
     "output_type": "display_data",
     "data": {
      "text/plain": "  0%|          | 0/21795 [00:00<?, ?it/s]",
      "application/vnd.jupyter.widget-view+json": {
       "version_major": 2,
       "version_minor": 0,
       "model_id": "4fd6ad450c344eb3a02a27dcd904f4fb"
      }
     },
     "metadata": {}
    },
    {
     "output_type": "stream",
     "name": "stdout",
     "text": [
      "hash 1fb1b058211f08c0b993372e734ed62cd9267193 with change id I91289cc4a60f5dab89bca852e6f52b4b83831e47 had invalid response\n",
      "hash a88d9d5936aabc52046ed3ae566741422bfaed78 with change id Ife909bdf3277ef33c2fb1eae16ae261fa6374c63 had invalid response\n",
      "hash 10a5eecd0973096b57efd31f8b27d7295a44ab89 with change id I64b2b468f7edd44dbb445b5b4e68b65c3fa53d9e had invalid response\n",
      "hash 22d7547c6b62fb9dabd861e4941edd34eedabfc6 with change id I6356513ac42b79402dbde8ee5e75cbbd1aee7eef had invalid response\n",
      "hash bd6a40fecde943a3ded0124481a12c27dbb167de with change id I0e9ef00182a2229602d23b8a67a02f0be62ee239 had invalid response\n",
      "hash 51d74bdf18df39695ad5e500db6db830f21da36a with change id I9690bc4f6f1dca8f2bf8c5a83f16af6200015506 had invalid response\n",
      "hash 6df6ad3ff32f2b1fe2978df1032002548ad8eb66 with change id I1e06e77308a7dd23209124f0807d61fb52470188 had invalid response\n",
      "hash a970127bf7d0de2328f8bdfe1f8201c3938b6d77 with change id Ie60313913fdb70d6fbbdcceced621e14d2cf54eb had invalid response\n"
     ]
    }
   ],
   "source": [
    "with tqdm(total = len(df_commits)) as pbar:\n",
    "    for i, row in df_commits.iterrows():\n",
    "        if (i > 6150):\n",
    "            pbar.set_postfix({'hash' :  row['hash']})\n",
    "            get_addr = get_prefix + row['change_id'] + \"/messages\"\n",
    "            response = requests.get(get_addr)\n",
    "            if response.status_code == 404:\n",
    "                print(\"hash {} with change id {} had invalid response\".format(\n",
    "                    row['hash'], row['change_id']))\n",
    "            else:\n",
    "                response_json = json.loads(response.text[5:])\n",
    "                reviews_for_single_change = get_review_info(project, response_json)\n",
    "                for re in reviews_for_single_change:\n",
    "                    re['hash'] = row['hash']\n",
    "                    re['change_id'] = row['change_id']\n",
    "                reviews.extend(reviews_for_single_change)\n",
    "        # Progress bar\n",
    "        pbar.update(1)\n",
    "        sleep(0.001)"
   ]
  },
  {
   "source": [
    "Save to output"
   ],
   "cell_type": "markdown",
   "metadata": {}
  },
  {
   "cell_type": "code",
   "execution_count": 16,
   "metadata": {},
   "outputs": [],
   "source": [
    "df_reviews = pd.DataFrame(reviews)"
   ]
  },
  {
   "cell_type": "code",
   "execution_count": 17,
   "metadata": {},
   "outputs": [],
   "source": [
    "df_reviews.to_csv(f\"..\\data\\\\reviews\\\\reviews_{project}.csv\", index = False)"
   ]
  }
 ]
}